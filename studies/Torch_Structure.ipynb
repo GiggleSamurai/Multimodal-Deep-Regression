{
  "nbformat": 4,
  "nbformat_minor": 0,
  "metadata": {
    "colab": {
      "provenance": []
    },
    "kernelspec": {
      "name": "python3",
      "display_name": "Python 3"
    },
    "language_info": {
      "name": "python"
    }
  },
  "cells": [
    {
      "cell_type": "code",
      "source": [
        "import torch\n",
        "import torch.nn as nn\n",
        "import numpy as np\n",
        "import matplotlib.pyplot as plt\n",
        "from torch.utils.data import DataLoader, TensorDataset\n",
        "from sklearn.model_selection import train_test_split\n",
        "import os\n",
        "\n",
        "# create a cosine wave data\n",
        "N = 100\n",
        "x = np.linspace(0, 4 * np.pi, N)\n",
        "y = np.cos(x)\n",
        "\n",
        "# Prepare data for training\n",
        "lookback = 10  # look back steps\n",
        "x_data = np.array([y[i:i+lookback] for i in range(len(y)-lookback-1)])\n",
        "y_data = y[lookback+1:]\n",
        "\n",
        "# Split the data\n",
        "x_train, x_val, y_train, y_val = train_test_split(x_data, y_data, test_size=0.2, shuffle=False)\n",
        "\n",
        "x_train = torch.tensor(x_train, dtype=torch.float32)\n",
        "y_train = torch.tensor(y_train, dtype=torch.float32).unsqueeze(-1)\n",
        "x_val = torch.tensor(x_val, dtype=torch.float32)\n",
        "y_val = torch.tensor(y_val, dtype=torch.float32).unsqueeze(-1)"
      ],
      "metadata": {
        "id": "WRFDM0ZV_R22"
      },
      "execution_count": 1,
      "outputs": []
    },
    {
      "cell_type": "code",
      "source": [
        "# Create Batches with DataLoaders\n",
        "batch_size = 32\n",
        "train_dataset = TensorDataset(x_train, y_train)\n",
        "val_dataset = TensorDataset(x_val, y_val)\n",
        "train_loader = DataLoader(train_dataset, batch_size=batch_size, shuffle=True)\n",
        "val_loader = DataLoader(val_dataset, batch_size=batch_size, shuffle=False)"
      ],
      "metadata": {
        "id": "Hhb2mOUKEZsn"
      },
      "execution_count": 2,
      "outputs": []
    },
    {
      "cell_type": "code",
      "source": [
        "# MLP model\n",
        "class MLP(nn.Module):\n",
        "    def __init__(self, input_size, output_size):\n",
        "        super(MLP, self).__init__()\n",
        "        self.input_size = input_size\n",
        "        self.output_size = output_size\n",
        "\n",
        "        self.layers = nn.Sequential(\n",
        "            nn.Linear(lookback, 100),\n",
        "            nn.ReLU(),\n",
        "            nn.Linear(100, 50),\n",
        "            nn.ReLU(),\n",
        "            nn.Linear(50, 1)\n",
        "        )\n",
        "\n",
        "    def forward(self, x):\n",
        "        output = self.layers(x)\n",
        "        return output"
      ],
      "metadata": {
        "id": "VLhNNGmhEZ9R"
      },
      "execution_count": 3,
      "outputs": []
    },
    {
      "cell_type": "code",
      "source": [
        "# training function\n",
        "def train(model, dataloader, criterion, optimizer):\n",
        "    model.train()\n",
        "    total_loss = 0.0\n",
        "    for inputs, targets in dataloader:\n",
        "        inputs, targets = inputs.to(device), targets.to(device)\n",
        "\n",
        "        # forward pass\n",
        "        outputs = model(inputs)\n",
        "        loss = criterion(outputs, targets)\n",
        "\n",
        "        # backward pass and optimization\n",
        "        optimizer.zero_grad()\n",
        "        loss.backward()\n",
        "        optimizer.step()\n",
        "\n",
        "        total_loss += loss.item()\n",
        "\n",
        "    avg_loss = total_loss / len(dataloader)\n",
        "    return total_loss, avg_loss"
      ],
      "metadata": {
        "id": "L2C-qdjyEto6"
      },
      "execution_count": 4,
      "outputs": []
    },
    {
      "cell_type": "code",
      "source": [
        "# evaluation function\n",
        "def evaluate(model, dataloader, criterion):\n",
        "    model.eval()\n",
        "    total_loss = 0.0\n",
        "    with torch.no_grad():\n",
        "        for inputs, targets in dataloader:\n",
        "            inputs, targets = inputs.to(device), targets.to(device)\n",
        "\n",
        "            outputs = model(inputs)\n",
        "            loss = criterion(outputs, targets)\n",
        "            total_loss += loss.item()\n",
        "\n",
        "    avg_loss = total_loss / len(dataloader)\n",
        "    return total_loss, avg_loss"
      ],
      "metadata": {
        "id": "csJ834KpmDsL"
      },
      "execution_count": 5,
      "outputs": []
    },
    {
      "cell_type": "code",
      "source": [
        "# setting device configuration\n",
        "device = torch.device('cuda' if torch.cuda.is_available() else 'cpu')\n",
        "input_size = lookback\n",
        "output_size = 1\n",
        "model = MLP(input_size, output_size).to(device)\n",
        "criterion = nn.MSELoss()\n",
        "optimizer = torch.optim.Adam(model.parameters(), lr=0.01)\n",
        "num_epochs = 10\n",
        "\n",
        "for epoch in range(num_epochs):\n",
        "    train_loss, avg_train_loss = train(model, train_loader, criterion, optimizer)\n",
        "    val_loss, avg_val_loss = evaluate(model, val_loader, criterion)\n",
        "\n",
        "    # print every num times epoch only\n",
        "    num = 1\n",
        "    if ((epoch+1) % num == 0) or epoch == 0:\n",
        "      print(f'Epoch {epoch+1}/{num_epochs}, Training Loss: {train_loss:.5f}, Average Training Loss: {avg_train_loss:.5f}, Validation Loss: {val_loss:.5f}, Average Validation Loss: {avg_val_loss:.5f}')"
      ],
      "metadata": {
        "colab": {
          "base_uri": "https://localhost:8080/"
        },
        "id": "l-ERWCbWmCa6",
        "outputId": "d2945ce8-5a2f-4dfb-81d9-1d0d9e66d11e"
      },
      "execution_count": 6,
      "outputs": [
        {
          "output_type": "stream",
          "name": "stdout",
          "text": [
            "Epoch 1/10, Training Loss: 1.07233, Average Training Loss: 0.35744, Validation Loss: 0.40897, Average Validation Loss: 0.40897\n",
            "Epoch 2/10, Training Loss: 0.36508, Average Training Loss: 0.12169, Validation Loss: 0.04887, Average Validation Loss: 0.04887\n",
            "Epoch 3/10, Training Loss: 0.09045, Average Training Loss: 0.03015, Validation Loss: 0.00641, Average Validation Loss: 0.00641\n",
            "Epoch 4/10, Training Loss: 0.13403, Average Training Loss: 0.04468, Validation Loss: 0.03258, Average Validation Loss: 0.03258\n",
            "Epoch 5/10, Training Loss: 0.04686, Average Training Loss: 0.01562, Validation Loss: 0.00301, Average Validation Loss: 0.00301\n",
            "Epoch 6/10, Training Loss: 0.02587, Average Training Loss: 0.00862, Validation Loss: 0.01458, Average Validation Loss: 0.01458\n",
            "Epoch 7/10, Training Loss: 0.03876, Average Training Loss: 0.01292, Validation Loss: 0.00906, Average Validation Loss: 0.00906\n",
            "Epoch 8/10, Training Loss: 0.02506, Average Training Loss: 0.00835, Validation Loss: 0.01331, Average Validation Loss: 0.01331\n",
            "Epoch 9/10, Training Loss: 0.02727, Average Training Loss: 0.00909, Validation Loss: 0.00843, Average Validation Loss: 0.00843\n",
            "Epoch 10/10, Training Loss: 0.01685, Average Training Loss: 0.00562, Validation Loss: 0.00548, Average Validation Loss: 0.00548\n"
          ]
        }
      ]
    },
    {
      "cell_type": "code",
      "source": [
        "# plot original data and predictions\n",
        "plt.plot(y_train, label='Original data')\n",
        "plt.plot(model(x_train).detach(), label='Fitted line')\n",
        "plt.legend()\n",
        "plt.show()"
      ],
      "metadata": {
        "colab": {
          "base_uri": "https://localhost:8080/",
          "height": 430
        },
        "id": "OKCwlmviE_tC",
        "outputId": "30419de0-5745-4918-db50-a77b75f1d310"
      },
      "execution_count": 10,
      "outputs": [
        {
          "output_type": "display_data",
          "data": {
            "text/plain": [
              "<Figure size 640x480 with 1 Axes>"
            ],
            "image/png": "[encoded data removed]"
          },
          "metadata": {}
        }
      ]
    },
    {
      "cell_type": "code",
      "source": [
        "# save model if better or not exists\n",
        "model_weights = {'model_state_dict': model.state_dict(), 'val_loss': avg_val_loss}\n",
        "weights_file = 'model_weights.pt'\n",
        "if not os.path.isfile(weights_file):\n",
        "    # save new\n",
        "    torch.save(model_weights, weights_file)\n",
        "elif model_weights['val_loss'] < torch.load(weights_file)['val_loss']:\n",
        "    # replace\n",
        "    torch.save(model_weights, weights_file)"
      ],
      "metadata": {
        "id": "eKSeBV-ByakP"
      },
      "execution_count": 8,
      "outputs": []
    },
    {
      "cell_type": "code",
      "source": [
        "# model loading\n",
        "device = torch.device(\"cpu\")\n",
        "input_size = lookback\n",
        "output_size = 1\n",
        "model = MLP(input_size, output_size).to(device)\n",
        "model.load_state_dict(torch.load('model_weights.pt')['model_state_dict'])\n",
        "val_loss, avg_val_loss = evaluate(model, val_loader, criterion)\n",
        "print(f'Validation Loss: {val_loss:.5f}, Average Validation Loss: {avg_val_loss:.5f}')"
      ],
      "metadata": {
        "colab": {
          "base_uri": "https://localhost:8080/"
        },
        "id": "wEh7qNLkz5S_",
        "outputId": "3086d15f-991e-4800-dd47-b1f18899d1fd"
      },
      "execution_count": 9,
      "outputs": [
        {
          "output_type": "stream",
          "name": "stdout",
          "text": [
            "Validation Loss: 0.00265, Average Validation Loss: 0.00265\n"
          ]
        }
      ]
    }
  ]
}
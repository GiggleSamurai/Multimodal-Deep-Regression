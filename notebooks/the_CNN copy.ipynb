{
 "cells": [
  {
   "cell_type": "code",
   "execution_count": 1,
   "metadata": {},
   "outputs": [
    {
     "name": "stdout",
     "output_type": "stream",
     "text": [
      "You are using device: cpu\n"
     ]
    }
   ],
   "source": [
    "import torch\n",
    "import torch.nn as nn\n",
    "import torch.optim as optim\n",
    "from torch.utils.data import DataLoader, TensorDataset\n",
    "from tqdm import tqdm\n",
    "from sklearn.model_selection import train_test_split\n",
    "import os\n",
    "import random\n",
    "import time\n",
    "\n",
    "# Inside the /Multimodal-Deep-Regression/notebooks\n",
    "import sys\n",
    "sys.path.append(\"..\")\n",
    "\n",
    "from util.utilities import train, evaluate, get_device\n",
    "from util.data_utilities import get_base_tensor_directories, generate_batch, get_train_and_val_loader, process_data\n",
    "\n",
    "# import all the models from models module\n",
    "from models import CNN3DComplex\n",
    "\n",
    "import warnings\n",
    "\n",
    "# disable pyav warning\n",
    "warnings.filterwarnings(\"ignore\", message=\"Accurate seek is not implemented for pyav backend\")\n",
    "\n",
    "device = get_device()"
   ]
  },
  {
   "cell_type": "code",
   "execution_count": 2,
   "metadata": {},
   "outputs": [],
   "source": [
    "# process_data(\n",
    "#     input_type='video_pack_1000', \n",
    "#     # addition_parameters={'first_n_videos': 5}, \n",
    "#     verbose=False,\n",
    "#     device=get_device(),\n",
    "#     skip_frames=True,\n",
    "#     frames_to_skip=200,\n",
    "#     # resize_tensors=True,\n",
    "#     # uniform_frames=True,\n",
    "#     # set_frame_count=15,\n",
    "#     shrink=8,\n",
    "#     clean_dir=True\n",
    "# )"
   ]
  },
  {
   "cell_type": "code",
   "execution_count": 2,
   "metadata": {},
   "outputs": [
    {
     "name": "stdout",
     "output_type": "stream",
     "text": [
      "You are using device: cpu\n",
      "torch.Size([3, 2, 128, 72])\n",
      "torch.Size([3, 15, 128, 72])\n",
      "800\n",
      "200\n"
     ]
    }
   ],
   "source": [
    "device = get_device()\n",
    "train_loader, val_loader = get_train_and_val_loader(\n",
    "    input_type='video_pack_1000',\n",
    "    batch_size=10,\n",
    "    verbose=True,\n",
    "    # tensor_upper_limit=95\n",
    ")"
   ]
  },
  {
   "cell_type": "code",
   "execution_count": 3,
   "metadata": {},
   "outputs": [
    {
     "name": "stdout",
     "output_type": "stream",
     "text": [
      "Total parameters: 428,131\n"
     ]
    }
   ],
   "source": [
    "model = CNN3DComplex(\n",
    "    reduce_pool=8,\n",
    "    filters=15,\n",
    "    depth=30,\n",
    "    dropout_rate=0.1\n",
    ")\n",
    "criterion = nn.L1Loss()\n",
    "optimizer = optim.Adam(model.parameters(), lr=0.00001, weight_decay=0.9)\n",
    "model = model.to(device)\n",
    "\n",
    "total_params = sum(p.numel() for p in model.parameters() if p.requires_grad)\n",
    "print(f\"Total parameters: {total_params:,}\")\n",
    "\n",
    "EPOCHS = 20\n",
    "\n",
    "train_losses = []\n",
    "val_losses = []\n",
    "\n",
    "input_verbose = False\n"
   ]
  },
  {
   "cell_type": "code",
   "execution_count": 4,
   "metadata": {},
   "outputs": [
    {
     "name": "stdout",
     "output_type": "stream",
     "text": [
      "First epoch took 2.1 minutes.\n",
      "Epoch 1/20, Train_Loss: 556591.21, Avg: 6957.39; Val_Loss: 87921.92, Avg: 4396.10\n",
      "Epoch 2/20, Train_Loss: 543618.37, Avg: 6795.23; Val_Loss: 86214.52, Avg: 4310.73\n",
      "Epoch 3/20, Train_Loss: 540468.48, Avg: 6755.86; Val_Loss: 85106.54, Avg: 4255.33\n",
      "Epoch 4/20, Train_Loss: 538294.76, Avg: 6728.68; Val_Loss: 84648.68, Avg: 4232.43\n",
      "Epoch 5/20, Train_Loss: 538957.66, Avg: 6736.97; Val_Loss: 84416.81, Avg: 4220.84\n",
      "Epoch 6/20, Train_Loss: 537484.16, Avg: 6718.55; Val_Loss: 84119.87, Avg: 4205.99\n",
      "Epoch 7/20, Train_Loss: 541164.74, Avg: 6764.56; Val_Loss: 84234.22, Avg: 4211.71\n",
      "Epoch 8/20, Train_Loss: 538751.72, Avg: 6734.40; Val_Loss: 83881.29, Avg: 4194.06\n",
      "Epoch 9/20, Train_Loss: 534375.30, Avg: 6679.69; Val_Loss: 83668.74, Avg: 4183.44\n",
      "Epoch 10/20, Train_Loss: 537141.11, Avg: 6714.26; Val_Loss: 83488.53, Avg: 4174.43\n",
      "Epoch 11/20, Train_Loss: 536316.50, Avg: 6703.96; Val_Loss: 83606.67, Avg: 4180.33\n",
      "Epoch 12/20, Train_Loss: 533950.37, Avg: 6674.38; Val_Loss: 83326.81, Avg: 4166.34\n",
      "Epoch 13/20, Train_Loss: 533775.27, Avg: 6672.19; Val_Loss: 83277.29, Avg: 4163.86\n",
      "Epoch 14/20, Train_Loss: 535420.25, Avg: 6692.75; Val_Loss: 83196.87, Avg: 4159.84\n",
      "Epoch 15/20, Train_Loss: 533262.15, Avg: 6665.78; Val_Loss: 83455.77, Avg: 4172.79\n",
      "Epoch 16/20, Train_Loss: 531896.79, Avg: 6648.71; Val_Loss: 83063.27, Avg: 4153.16\n",
      "Epoch 17/20, Train_Loss: 532465.29, Avg: 6655.82; Val_Loss: 82968.54, Avg: 4148.43\n",
      "Epoch 18/20, Train_Loss: 534101.04, Avg: 6676.26; Val_Loss: 83091.79, Avg: 4154.59\n",
      "Epoch 19/20, Train_Loss: 533505.27, Avg: 6668.82; Val_Loss: 82935.49, Avg: 4146.77\n",
      "Epoch 20/20, Train_Loss: 534830.35, Avg: 6685.38; Val_Loss: 83033.19, Avg: 4151.66\n"
     ]
    }
   ],
   "source": [
    "start_time = time.time()\n",
    "\n",
    "for epoch in range(EPOCHS):\n",
    "    train_loss, avg_train_loss = train(model, train_loader, criterion, optimizer, device, verbose=input_verbose)\n",
    "    val_loss, avg_val_loss = evaluate(model, val_loader, criterion, device, verbose=input_verbose)\n",
    "    \n",
    "    # record the losses\n",
    "    train_losses.append(avg_train_loss)\n",
    "    val_losses.append(avg_val_loss)\n",
    "\n",
    "    # print every num times epoch only\n",
    "    num = 1\n",
    "    if ((epoch+1) % num == 0) or epoch == 0:\n",
    "        if epoch == 0:\n",
    "            time_took = (time.time() - start_time) / 60\n",
    "            print(f'First epoch took {time_took:.1f} minutes.')\n",
    "        print(f'Epoch {epoch+1}/{EPOCHS}, Train_Loss: {train_loss:.2f}, Avg: {avg_train_loss:.2f}; Val_Loss: {val_loss:.2f}, Avg: {avg_val_loss:.2f}')\n"
   ]
  },
  {
   "cell_type": "code",
   "execution_count": 5,
   "metadata": {},
   "outputs": [],
   "source": [
    "# save model if better or not exists\n",
    "model_weights = {'model_state_dict': model.state_dict(), 'val_loss': avg_val_loss}\n",
    "weights_file = '../models/save/CNN_weights.pt'\n",
    "if not os.path.isfile(weights_file):\n",
    "    # save new\n",
    "    torch.save(model_weights, weights_file)\n",
    "elif model_weights['val_loss'] < torch.load(weights_file)['val_loss']:\n",
    "    # replace\n",
    "    torch.save(model_weights, weights_file)"
   ]
  },
  {
   "cell_type": "code",
   "execution_count": 6,
   "metadata": {},
   "outputs": [
    {
     "data": {
      "image/png": "[encoded data removed]",
      "text/plain": [
       "<Figure size 432x288 with 1 Axes>"
      ]
     },
     "metadata": {
      "needs_background": "light"
     },
     "output_type": "display_data"
    }
   ],
   "source": [
    "import matplotlib.pyplot as plt\n",
    "\n",
    "# lost plot\n",
    "plt.plot(train_losses, label='Training Loss')\n",
    "plt.plot(val_losses, label='Validation Loss')\n",
    "plt.xlabel('Epoch')\n",
    "plt.ylabel('Loss')\n",
    "plt.title('Training and Validation Loss')\n",
    "plt.legend()\n",
    "plt.show()"
   ]
  },
  {
   "cell_type": "code",
   "execution_count": 7,
   "metadata": {},
   "outputs": [],
   "source": [
    "# compare to validation set\n",
    "val_values = []\n",
    "predicted_values = []\n",
    "\n",
    "for inputs, targets in val_loader:\n",
    "    inputs, targets = inputs.to(torch.float32).to(device), targets.to(torch.float32).to(device)\n",
    "\n",
    "    # Forward pass\n",
    "    outputs = model(inputs)\n",
    "\n",
    "    # Append the values\n",
    "    val_values.extend(targets.tolist())\n",
    "    predicted_values.extend(outputs.tolist())"
   ]
  },
  {
   "cell_type": "code",
   "execution_count": 8,
   "metadata": {},
   "outputs": [
    {
     "data": {
      "image/png": "[encoded data removed]",
      "text/plain": [
       "<Figure size 432x288 with 1 Axes>"
      ]
     },
     "metadata": {
      "needs_background": "light"
     },
     "output_type": "display_data"
    }
   ],
   "source": [
    "import matplotlib.pyplot as plt\n",
    "\n",
    "plt.plot(val_values, label='Test Values')\n",
    "plt.plot(predicted_values, label='Predicted Values')\n",
    "plt.xlabel('Sample Index')\n",
    "plt.ylabel('Value')\n",
    "plt.title('Test vs Predicted Values')\n",
    "plt.legend()\n",
    "plt.show()"
   ]
  },
  {
   "cell_type": "code",
   "execution_count": 9,
   "metadata": {},
   "outputs": [
    {
     "name": "stdout",
     "output_type": "stream",
     "text": [
      "Test value: [462.3999938964844], Predicted Value: [1283.0595703125]\n",
      "Test value: [2100.0], Predicted Value: [1174.56103515625]\n",
      "Test value: [413.79998779296875], Predicted Value: [1979.03564453125]\n",
      "Test value: [855.7000122070312], Predicted Value: [1001.9140625]\n",
      "Test value: [7500.0], Predicted Value: [1221.525146484375]\n",
      "Test value: [7100.0], Predicted Value: [1755.22412109375]\n",
      "Test value: [3700.0], Predicted Value: [2115.15283203125]\n",
      "Test value: [1100.0], Predicted Value: [1993.3065185546875]\n",
      "Test value: [10300.0], Predicted Value: [2297.7451171875]\n",
      "Test value: [9000.0], Predicted Value: [2053.309814453125]\n",
      "Test value: [1400.0], Predicted Value: [130.7825927734375]\n",
      "Test value: [2200.0], Predicted Value: [1674.79541015625]\n",
      "Test value: [2000.0], Predicted Value: [580.282958984375]\n",
      "Test value: [178.39999389648438], Predicted Value: [786.0777587890625]\n",
      "Test value: [1400.0], Predicted Value: [1504.886474609375]\n",
      "Test value: [1500.0], Predicted Value: [1158.377685546875]\n",
      "Test value: [3700.0], Predicted Value: [2134.990966796875]\n",
      "Test value: [4000.0], Predicted Value: [1704.38232421875]\n",
      "Test value: [589.0999755859375], Predicted Value: [1380.68408203125]\n",
      "Test value: [13.199999809265137], Predicted Value: [219.20448303222656]\n",
      "Test value: [14800.0], Predicted Value: [1825.58642578125]\n",
      "Test value: [18.299999237060547], Predicted Value: [2018.5838623046875]\n",
      "Test value: [10600.0], Predicted Value: [1474.432861328125]\n",
      "Test value: [6800.0], Predicted Value: [1895.728515625]\n",
      "Test value: [669.0999755859375], Predicted Value: [2197.8291015625]\n",
      "Test value: [99.0999984741211], Predicted Value: [1629.154052734375]\n",
      "Test value: [45.70000076293945], Predicted Value: [1952.0128173828125]\n",
      "Test value: [7610.0], Predicted Value: [2421.10107421875]\n",
      "Test value: [1300.0], Predicted Value: [982.8539428710938]\n",
      "Test value: [4700.0], Predicted Value: [1033.8675537109375]\n",
      "Test value: [3200.0], Predicted Value: [2647.698486328125]\n",
      "Test value: [8900.0], Predicted Value: [611.484619140625]\n",
      "Test value: [14.600000381469727], Predicted Value: [1739.7430419921875]\n",
      "Test value: [5200.0], Predicted Value: [886.5040893554688]\n",
      "Test value: [369.79998779296875], Predicted Value: [2074.629150390625]\n",
      "Test value: [2324.0], Predicted Value: [1037.7677001953125]\n",
      "Test value: [626.9000244140625], Predicted Value: [777.7113037109375]\n",
      "Test value: [10.5], Predicted Value: [2909.87060546875]\n",
      "Test value: [1800.0], Predicted Value: [761.0240478515625]\n",
      "Test value: [118.0], Predicted Value: [588.8565063476562]\n",
      "Test value: [4200.0], Predicted Value: [1070.87255859375]\n",
      "Test value: [10.300000190734863], Predicted Value: [1038.707763671875]\n",
      "Test value: [2000.0], Predicted Value: [1885.5098876953125]\n",
      "Test value: [2400.0], Predicted Value: [2358.5751953125]\n",
      "Test value: [4600.0], Predicted Value: [1004.7525024414062]\n",
      "Test value: [6000.0], Predicted Value: [2191.823974609375]\n",
      "Test value: [3180.0], Predicted Value: [2243.3603515625]\n",
      "Test value: [1900.0], Predicted Value: [2036.6522216796875]\n",
      "Test value: [153.60000610351562], Predicted Value: [2139.41015625]\n",
      "Test value: [514.2999877929688], Predicted Value: [2423.1708984375]\n",
      "Test value: [6245.0], Predicted Value: [1659.425537109375]\n",
      "Test value: [1100.0], Predicted Value: [982.1591796875]\n",
      "Test value: [1700.0], Predicted Value: [1445.3045654296875]\n",
      "Test value: [1300.0], Predicted Value: [566.288818359375]\n",
      "Test value: [319.79998779296875], Predicted Value: [1395.3436279296875]\n",
      "Test value: [1100.0], Predicted Value: [1038.504150390625]\n",
      "Test value: [285.70001220703125], Predicted Value: [227.42149353027344]\n",
      "Test value: [15100.0], Predicted Value: [791.689208984375]\n",
      "Test value: [4900.0], Predicted Value: [1506.98486328125]\n",
      "Test value: [1000.0], Predicted Value: [1205.5693359375]\n",
      "Test value: [9925.0], Predicted Value: [1982.458984375]\n",
      "Test value: [387.5], Predicted Value: [1794.79931640625]\n",
      "Test value: [85.9000015258789], Predicted Value: [1650.06494140625]\n",
      "Test value: [2200.0], Predicted Value: [1677.807373046875]\n",
      "Test value: [4100.0], Predicted Value: [1572.586669921875]\n",
      "Test value: [9400.0], Predicted Value: [1463.367431640625]\n",
      "Test value: [10.600000381469727], Predicted Value: [2498.13134765625]\n",
      "Test value: [2500.0], Predicted Value: [958.197509765625]\n",
      "Test value: [26.700000762939453], Predicted Value: [1657.456787109375]\n",
      "Test value: [179.1999969482422], Predicted Value: [1561.09521484375]\n",
      "Test value: [11400.0], Predicted Value: [1117.205810546875]\n",
      "Test value: [70.0], Predicted Value: [1227.4542236328125]\n",
      "Test value: [133.3000030517578], Predicted Value: [2424.1455078125]\n",
      "Test value: [971.0], Predicted Value: [3266.43896484375]\n",
      "Test value: [82500.0], Predicted Value: [483.2641296386719]\n",
      "Test value: [177.39999389648438], Predicted Value: [1926.83203125]\n",
      "Test value: [1600.0], Predicted Value: [1536.470947265625]\n",
      "Test value: [3000.0], Predicted Value: [2808.728271484375]\n",
      "Test value: [2300.0], Predicted Value: [1708.9893798828125]\n",
      "Test value: [4000.0], Predicted Value: [2412.4423828125]\n",
      "Test value: [1900.0], Predicted Value: [2150.700439453125]\n",
      "Test value: [5700.0], Predicted Value: [2298.859375]\n",
      "Test value: [3200.0], Predicted Value: [1783.37255859375]\n",
      "Test value: [1800.0], Predicted Value: [1564.63720703125]\n",
      "Test value: [11500.0], Predicted Value: [1498.1668701171875]\n",
      "Test value: [8800.0], Predicted Value: [4489.9140625]\n",
      "Test value: [3200.0], Predicted Value: [1038.12109375]\n",
      "Test value: [6542.0], Predicted Value: [2652.78125]\n",
      "Test value: [1200.0], Predicted Value: [3067.365234375]\n",
      "Test value: [5000.0], Predicted Value: [3453.805419921875]\n",
      "Test value: [19400.0], Predicted Value: [1476.864013671875]\n",
      "Test value: [12500.0], Predicted Value: [1784.7445068359375]\n",
      "Test value: [959.7999877929688], Predicted Value: [3143.18408203125]\n",
      "Test value: [360.79998779296875], Predicted Value: [3529.6533203125]\n",
      "Test value: [1500.0], Predicted Value: [1317.0615234375]\n",
      "Test value: [470.5], Predicted Value: [1613.6253662109375]\n",
      "Test value: [12800.0], Predicted Value: [2213.839111328125]\n",
      "Test value: [1200.0], Predicted Value: [1138.56591796875]\n",
      "Test value: [4400.0], Predicted Value: [2444.18798828125]\n",
      "Test value: [2500.0], Predicted Value: [2619.596923828125]\n",
      "Test value: [1900.0], Predicted Value: [1671.596923828125]\n",
      "Test value: [5400.0], Predicted Value: [1290.168212890625]\n",
      "Test value: [8500.0], Predicted Value: [3403.50732421875]\n",
      "Test value: [4600.0], Predicted Value: [1429.91259765625]\n",
      "Test value: [233.6999969482422], Predicted Value: [2008.7166748046875]\n",
      "Test value: [18900.0], Predicted Value: [1019.9002075195312]\n",
      "Test value: [1500.0], Predicted Value: [3057.95751953125]\n",
      "Test value: [750.7999877929688], Predicted Value: [1482.4423828125]\n",
      "Test value: [8511.0], Predicted Value: [2272.0029296875]\n",
      "Test value: [6700.0], Predicted Value: [3752.4814453125]\n",
      "Test value: [40000.0], Predicted Value: [1458.4351806640625]\n",
      "Test value: [10.899999618530273], Predicted Value: [1230.3828125]\n",
      "Test value: [5089.0], Predicted Value: [1209.197021484375]\n",
      "Test value: [69.9000015258789], Predicted Value: [1940.508056640625]\n",
      "Test value: [3000.0], Predicted Value: [1578.828125]\n",
      "Test value: [63.70000076293945], Predicted Value: [1752.932861328125]\n",
      "Test value: [18200.0], Predicted Value: [1579.3544921875]\n",
      "Test value: [23300.0], Predicted Value: [1472.538330078125]\n",
      "Test value: [7200.0], Predicted Value: [1185.596923828125]\n",
      "Test value: [721.9000244140625], Predicted Value: [960.8192138671875]\n",
      "Test value: [1200.0], Predicted Value: [2280.956787109375]\n",
      "Test value: [220.3000030517578], Predicted Value: [1401.6099853515625]\n",
      "Test value: [2100.0], Predicted Value: [2041.8070068359375]\n",
      "Test value: [1600.0], Predicted Value: [1841.086669921875]\n",
      "Test value: [1700.0], Predicted Value: [1949.0732421875]\n",
      "Test value: [9800.0], Predicted Value: [1683.6083984375]\n",
      "Test value: [9800.0], Predicted Value: [1443.0439453125]\n",
      "Test value: [233.39999389648438], Predicted Value: [1193.65576171875]\n",
      "Test value: [3600.0], Predicted Value: [1434.3463134765625]\n",
      "Test value: [4100.0], Predicted Value: [2062.95263671875]\n",
      "Test value: [604.7000122070312], Predicted Value: [959.8231201171875]\n",
      "Test value: [3885.0], Predicted Value: [1015.1122436523438]\n",
      "Test value: [31500.0], Predicted Value: [1394.0654296875]\n",
      "Test value: [3200.0], Predicted Value: [2164.297607421875]\n",
      "Test value: [794.0999755859375], Predicted Value: [1803.95703125]\n",
      "Test value: [5100.0], Predicted Value: [814.1305541992188]\n",
      "Test value: [2200.0], Predicted Value: [820.705322265625]\n",
      "Test value: [4300.0], Predicted Value: [1918.703125]\n",
      "Test value: [651.0], Predicted Value: [853.609619140625]\n",
      "Test value: [91.69999694824219], Predicted Value: [1486.44677734375]\n",
      "Test value: [1500.0], Predicted Value: [1305.4576416015625]\n",
      "Test value: [67.0], Predicted Value: [360.0096740722656]\n",
      "Test value: [22600.0], Predicted Value: [865.6907958984375]\n",
      "Test value: [2100.0], Predicted Value: [2199.71630859375]\n",
      "Test value: [5700.0], Predicted Value: [1742.3154296875]\n",
      "Test value: [14600.0], Predicted Value: [1959.0318603515625]\n",
      "Test value: [18.700000762939453], Predicted Value: [770.4179077148438]\n",
      "Test value: [2700.0], Predicted Value: [3104.66162109375]\n",
      "Test value: [55.0], Predicted Value: [1431.917236328125]\n",
      "Test value: [663.2999877929688], Predicted Value: [1061.030517578125]\n",
      "Test value: [906.0], Predicted Value: [348.19354248046875]\n",
      "Test value: [1100.0], Predicted Value: [723.5123901367188]\n",
      "Test value: [944.5], Predicted Value: [1964.7421875]\n",
      "Test value: [2900.0], Predicted Value: [721.7149658203125]\n",
      "Test value: [16400.0], Predicted Value: [2075.6767578125]\n",
      "Test value: [4600.0], Predicted Value: [355.7610778808594]\n",
      "Test value: [70700.0], Predicted Value: [1173.7625732421875]\n",
      "Test value: [79.80000305175781], Predicted Value: [1402.1505126953125]\n",
      "Test value: [12100.0], Predicted Value: [2473.101806640625]\n",
      "Test value: [9300.0], Predicted Value: [1328.4898681640625]\n",
      "Test value: [7000.0], Predicted Value: [1380.0228271484375]\n",
      "Test value: [19.0], Predicted Value: [1815.694091796875]\n",
      "Test value: [3900.0], Predicted Value: [2599.955078125]\n",
      "Test value: [3800.0], Predicted Value: [2716.19873046875]\n",
      "Test value: [19700.0], Predicted Value: [1780.3828125]\n",
      "Test value: [5800.0], Predicted Value: [2993.35498046875]\n",
      "Test value: [2000.0], Predicted Value: [2966.59130859375]\n",
      "Test value: [549.7999877929688], Predicted Value: [2945.61572265625]\n",
      "Test value: [18700.0], Predicted Value: [3643.01123046875]\n",
      "Test value: [41.29999923706055], Predicted Value: [2612.79931640625]\n",
      "Test value: [264.5], Predicted Value: [2929.872802734375]\n",
      "Test value: [3900.0], Predicted Value: [2141.185546875]\n",
      "Test value: [104.5], Predicted Value: [2652.875]\n",
      "Test value: [7700.0], Predicted Value: [709.9063720703125]\n",
      "Test value: [16.0], Predicted Value: [1466.719482421875]\n",
      "Test value: [5834.0], Predicted Value: [2405.867431640625]\n",
      "Test value: [3700.0], Predicted Value: [1627.78173828125]\n",
      "Test value: [313.6000061035156], Predicted Value: [1220.207763671875]\n",
      "Test value: [2300.0], Predicted Value: [1516.361328125]\n",
      "Test value: [13.300000190734863], Predicted Value: [2099.2373046875]\n",
      "Test value: [315.29998779296875], Predicted Value: [721.6728515625]\n",
      "Test value: [25.5], Predicted Value: [903.6394653320312]\n",
      "Test value: [2100.0], Predicted Value: [498.04296875]\n",
      "Test value: [1000.0], Predicted Value: [1246.283203125]\n",
      "Test value: [4942.0], Predicted Value: [1452.56103515625]\n",
      "Test value: [1700.0], Predicted Value: [862.4835815429688]\n",
      "Test value: [995.5], Predicted Value: [1807.896728515625]\n",
      "Test value: [3300.0], Predicted Value: [323.2901611328125]\n",
      "Test value: [114.9000015258789], Predicted Value: [769.7672119140625]\n",
      "Test value: [239.10000610351562], Predicted Value: [1312.675537109375]\n",
      "Test value: [12.699999809265137], Predicted Value: [2553.955078125]\n",
      "Test value: [6500.0], Predicted Value: [2465.332275390625]\n",
      "Test value: [196.1999969482422], Predicted Value: [1609.754150390625]\n",
      "Test value: [1100.0], Predicted Value: [773.6083374023438]\n",
      "Test value: [75.0999984741211], Predicted Value: [2055.063232421875]\n",
      "Test value: [1300.0], Predicted Value: [2705.06640625]\n",
      "Test value: [370.29998779296875], Predicted Value: [2597.830810546875]\n",
      "Test value: [8947.0], Predicted Value: [2346.4306640625]\n",
      "Test value: [5217.0], Predicted Value: [1104.17041015625]\n",
      "Test value: [38.70000076293945], Predicted Value: [43.67074203491211]\n"
     ]
    }
   ],
   "source": [
    "for i in range(len(predicted_values)):\n",
    "    print(f'Test value: {val_values[i]}, Predicted Value: {predicted_values[i]}')"
   ]
  },
  {
   "cell_type": "code",
   "execution_count": 10,
   "metadata": {},
   "outputs": [
    {
     "data": {
      "text/plain": [
       "4151.65964835167"
      ]
     },
     "execution_count": 10,
     "metadata": {},
     "output_type": "execute_result"
    }
   ],
   "source": [
    "import numpy as np\n",
    "\n",
    "model_mae = np.absolute(np.subtract(val_values, predicted_values)).mean()\n",
    "model_mae"
   ]
  },
  {
   "cell_type": "code",
   "execution_count": 11,
   "metadata": {},
   "outputs": [
    {
     "data": {
      "text/plain": [
       "6154.229260564041"
      ]
     },
     "execution_count": 11,
     "metadata": {},
     "output_type": "execute_result"
    }
   ],
   "source": [
    "training_targets = []\n",
    "for inputs, targets in train_loader:\n",
    "    training_targets.extend([i.item() for i in targets])\n",
    "\n",
    "training_targets = np.array(training_targets).reshape(-1, 1)\n",
    "training_mean_as_prediction = training_targets.mean()\n",
    "training_mean_as_predicted_values = [training_mean_as_prediction for i in range(len(predicted_values))]\n",
    "training_mean_mae = np.absolute(np.subtract(val_values, training_mean_as_predicted_values)).mean()\n",
    "training_mean_mae"
   ]
  },
  {
   "cell_type": "code",
   "execution_count": 12,
   "metadata": {},
   "outputs": [
    {
     "data": {
      "text/plain": [
       "True"
      ]
     },
     "execution_count": 12,
     "metadata": {},
     "output_type": "execute_result"
    }
   ],
   "source": [
    "model_mae < training_mean_mae"
   ]
  },
  {
   "cell_type": "code",
   "execution_count": null,
   "metadata": {},
   "outputs": [],
   "source": []
  }
 ],
 "metadata": {
  "kernelspec": {
   "display_name": "cs7643-a2",
   "language": "python",
   "name": "cs7643-a2"
  },
  "language_info": {
   "codemirror_mode": {
    "name": "ipython",
    "version": 3
   },
   "file_extension": ".py",
   "mimetype": "text/x-python",
   "name": "python",
   "nbconvert_exporter": "python",
   "pygments_lexer": "ipython3",
   "version": "3.9.16"
  }
 },
 "nbformat": 4,
 "nbformat_minor": 4
}

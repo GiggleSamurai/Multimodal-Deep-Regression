{
 "cells": [
  {
   "cell_type": "code",
   "execution_count": 1,
   "metadata": {},
   "outputs": [
    {
     "name": "stderr",
     "output_type": "stream",
     "text": [
      "c:\\Users\\ahmed\\anaconda3\\envs\\vstp\\Lib\\site-packages\\tqdm\\auto.py:21: TqdmWarning: IProgress not found. Please update jupyter and ipywidgets. See https://ipywidgets.readthedocs.io/en/stable/user_install.html\n",
      "  from .autonotebook import tqdm as notebook_tqdm\n",
      "No CUDA runtime is found, using CUDA_HOME='C:\\Program Files\\NVIDIA GPU Computing Toolkit\\CUDA\\v11.7'\n"
     ]
    },
    {
     "name": "stdout",
     "output_type": "stream",
     "text": [
      "You are using device: cpu\n"
     ]
    }
   ],
   "source": [
    "import torch\n",
    "import torch.nn as nn\n",
    "import torch.optim as optim\n",
    "from torch.utils.data import DataLoader, TensorDataset\n",
    "from tqdm import tqdm\n",
    "from sklearn.model_selection import train_test_split\n",
    "import os\n",
    "import random\n",
    "import time\n",
    "\n",
    "# # Inside the /Multimodal-Deep-Regression/notebooks\n",
    "import sys\n",
    "sys.path.append(\"..\")\n",
    "\n",
    "from util.utilities import train, evaluate, get_device\n",
    "from util.data_utilities import  process_data, get_train_and_val_loader\n",
    "\n",
    "# import all the models from models module\n",
    "from models import Swin_Transformer\n",
    "# from util.video_swin_transformer import SwinTransformer3D\n",
    "import torch.optim.lr_scheduler as lr_scheduler\n",
    "\n",
    "import warnings\n",
    "\n",
    "device = get_device()\n",
    "\n",
    "EXTRACT_DATA = False"
   ]
  },
  {
   "cell_type": "code",
   "execution_count": 2,
   "metadata": {},
   "outputs": [],
   "source": [
    "if EXTRACT_DATA:\n",
    "    # # Data inputs for CNN and Swin Transformer baseline\n",
    "    # disable pyav warning\n",
    "    warnings.filterwarnings(\"ignore\", message=\"Accurate seek is not implemented for pyav backend\")\n",
    "    process_data(\n",
    "        input_type='video_pack_1000_swin', \n",
    "        # addition_parameters={'first_n_videos': 10}, \n",
    "        verbose=False,\n",
    "        device=get_device(),\n",
    "        skip_frames=True,\n",
    "        frames_to_skip=200,\n",
    "        resize_tensors=True,\n",
    "        uniform_frames=True,\n",
    "        set_frame_count=20,\n",
    "        shrink=8,\n",
    "        clean_dir=True\n",
    "    )"
   ]
  },
  {
   "cell_type": "code",
   "execution_count": 3,
   "metadata": {},
   "outputs": [
    {
     "name": "stdout",
     "output_type": "stream",
     "text": [
      "You are using device: cpu\n",
      "torch.Size([3, 20, 128, 72])\n",
      "torch.Size([3, 20, 128, 72])\n",
      "800\n",
      "200\n"
     ]
    }
   ],
   "source": [
    "device = get_device()\n",
    "train_loader, val_loader = get_train_and_val_loader(\n",
    "    input_type='video_pack_1000_swin',\n",
    "    batch_size=20,\n",
    "    verbose=True,\n",
    "    # tensor_upper_limit=30\n",
    ")"
   ]
  },
  {
   "cell_type": "code",
   "execution_count": 4,
   "metadata": {},
   "outputs": [
    {
     "name": "stdout",
     "output_type": "stream",
     "text": [
      "Swin_Transformer_model(\n",
      "  (swin_transformer): SwinTransformer3D(\n",
      "    (patch_embed): PatchEmbed3D(\n",
      "      (proj): Conv3d(3, 96, kernel_size=(4, 4, 4), stride=(4, 4, 4))\n",
      "      (norm): LayerNorm((96,), eps=1e-05, elementwise_affine=True)\n",
      "    )\n",
      "    (pos_drop): Dropout(p=0.1, inplace=False)\n",
      "    (layers): ModuleList(\n",
      "      (0): BasicLayer(\n",
      "        (blocks): ModuleList(\n",
      "          (0): SwinTransformerBlock3D(\n",
      "            (norm1): LayerNorm((96,), eps=1e-05, elementwise_affine=True)\n",
      "            (attn): WindowAttention3D(\n",
      "              (qkv): Linear(in_features=96, out_features=288, bias=True)\n",
      "              (attn_drop): Dropout(p=0.0, inplace=False)\n",
      "              (proj): Linear(in_features=96, out_features=96, bias=True)\n",
      "              (proj_drop): Dropout(p=0.1, inplace=False)\n",
      "              (softmax): Softmax(dim=-1)\n",
      "            )\n",
      "            (drop_path): Identity()\n",
      "            (norm2): LayerNorm((96,), eps=1e-05, elementwise_affine=True)\n",
      "            (mlp): Mlp(\n",
      "              (fc1): Linear(in_features=96, out_features=384, bias=True)\n",
      "              (act): GELU(approximate='none')\n",
      "              (fc2): Linear(in_features=384, out_features=96, bias=True)\n",
      "              (drop): Dropout(p=0.1, inplace=False)\n",
      "            )\n",
      "          )\n",
      "          (1): SwinTransformerBlock3D(\n",
      "            (norm1): LayerNorm((96,), eps=1e-05, elementwise_affine=True)\n",
      "            (attn): WindowAttention3D(\n",
      "              (qkv): Linear(in_features=96, out_features=288, bias=True)\n",
      "              (attn_drop): Dropout(p=0.0, inplace=False)\n",
      "              (proj): Linear(in_features=96, out_features=96, bias=True)\n",
      "              (proj_drop): Dropout(p=0.1, inplace=False)\n",
      "              (softmax): Softmax(dim=-1)\n",
      "            )\n",
      "            (drop_path): DropPath(drop_prob=0.018)\n",
      "            (norm2): LayerNorm((96,), eps=1e-05, elementwise_affine=True)\n",
      "            (mlp): Mlp(\n",
      "              (fc1): Linear(in_features=96, out_features=384, bias=True)\n",
      "              (act): GELU(approximate='none')\n",
      "              (fc2): Linear(in_features=384, out_features=96, bias=True)\n",
      "              (drop): Dropout(p=0.1, inplace=False)\n",
      "            )\n",
      "          )\n",
      "        )\n",
      "        (downsample): PatchMerging(\n",
      "          (reduction): Linear(in_features=384, out_features=192, bias=False)\n",
      "          (norm): LayerNorm((384,), eps=1e-05, elementwise_affine=True)\n",
      "        )\n",
      "      )\n",
      "      (1): BasicLayer(\n",
      "        (blocks): ModuleList(\n",
      "          (0): SwinTransformerBlock3D(\n",
      "            (norm1): LayerNorm((192,), eps=1e-05, elementwise_affine=True)\n",
      "            (attn): WindowAttention3D(\n",
      "              (qkv): Linear(in_features=192, out_features=576, bias=True)\n",
      "              (attn_drop): Dropout(p=0.0, inplace=False)\n",
      "              (proj): Linear(in_features=192, out_features=192, bias=True)\n",
      "              (proj_drop): Dropout(p=0.1, inplace=False)\n",
      "              (softmax): Softmax(dim=-1)\n",
      "            )\n",
      "            (drop_path): DropPath(drop_prob=0.036)\n",
      "            (norm2): LayerNorm((192,), eps=1e-05, elementwise_affine=True)\n",
      "            (mlp): Mlp(\n",
      "              (fc1): Linear(in_features=192, out_features=768, bias=True)\n",
      "              (act): GELU(approximate='none')\n",
      "              (fc2): Linear(in_features=768, out_features=192, bias=True)\n",
      "              (drop): Dropout(p=0.1, inplace=False)\n",
      "            )\n",
      "          )\n",
      "          (1): SwinTransformerBlock3D(\n",
      "            (norm1): LayerNorm((192,), eps=1e-05, elementwise_affine=True)\n",
      "            (attn): WindowAttention3D(\n",
      "              (qkv): Linear(in_features=192, out_features=576, bias=True)\n",
      "              (attn_drop): Dropout(p=0.0, inplace=False)\n",
      "              (proj): Linear(in_features=192, out_features=192, bias=True)\n",
      "              (proj_drop): Dropout(p=0.1, inplace=False)\n",
      "              (softmax): Softmax(dim=-1)\n",
      "            )\n",
      "            (drop_path): DropPath(drop_prob=0.055)\n",
      "            (norm2): LayerNorm((192,), eps=1e-05, elementwise_affine=True)\n",
      "            (mlp): Mlp(\n",
      "              (fc1): Linear(in_features=192, out_features=768, bias=True)\n",
      "              (act): GELU(approximate='none')\n",
      "              (fc2): Linear(in_features=768, out_features=192, bias=True)\n",
      "              (drop): Dropout(p=0.1, inplace=False)\n",
      "            )\n",
      "          )\n",
      "        )\n",
      "        (downsample): PatchMerging(\n",
      "          (reduction): Linear(in_features=768, out_features=384, bias=False)\n",
      "          (norm): LayerNorm((768,), eps=1e-05, elementwise_affine=True)\n",
      "        )\n",
      "      )\n",
      "      (2): BasicLayer(\n",
      "        (blocks): ModuleList(\n",
      "          (0): SwinTransformerBlock3D(\n",
      "            (norm1): LayerNorm((384,), eps=1e-05, elementwise_affine=True)\n",
      "            (attn): WindowAttention3D(\n",
      "              (qkv): Linear(in_features=384, out_features=1152, bias=True)\n",
      "              (attn_drop): Dropout(p=0.0, inplace=False)\n",
      "              (proj): Linear(in_features=384, out_features=384, bias=True)\n",
      "              (proj_drop): Dropout(p=0.1, inplace=False)\n",
      "              (softmax): Softmax(dim=-1)\n",
      "            )\n",
      "            (drop_path): DropPath(drop_prob=0.073)\n",
      "            (norm2): LayerNorm((384,), eps=1e-05, elementwise_affine=True)\n",
      "            (mlp): Mlp(\n",
      "              (fc1): Linear(in_features=384, out_features=1536, bias=True)\n",
      "              (act): GELU(approximate='none')\n",
      "              (fc2): Linear(in_features=1536, out_features=384, bias=True)\n",
      "              (drop): Dropout(p=0.1, inplace=False)\n",
      "            )\n",
      "          )\n",
      "          (1): SwinTransformerBlock3D(\n",
      "            (norm1): LayerNorm((384,), eps=1e-05, elementwise_affine=True)\n",
      "            (attn): WindowAttention3D(\n",
      "              (qkv): Linear(in_features=384, out_features=1152, bias=True)\n",
      "              (attn_drop): Dropout(p=0.0, inplace=False)\n",
      "              (proj): Linear(in_features=384, out_features=384, bias=True)\n",
      "              (proj_drop): Dropout(p=0.1, inplace=False)\n",
      "              (softmax): Softmax(dim=-1)\n",
      "            )\n",
      "            (drop_path): DropPath(drop_prob=0.091)\n",
      "            (norm2): LayerNorm((384,), eps=1e-05, elementwise_affine=True)\n",
      "            (mlp): Mlp(\n",
      "              (fc1): Linear(in_features=384, out_features=1536, bias=True)\n",
      "              (act): GELU(approximate='none')\n",
      "              (fc2): Linear(in_features=1536, out_features=384, bias=True)\n",
      "              (drop): Dropout(p=0.1, inplace=False)\n",
      "            )\n",
      "          )\n",
      "          (2): SwinTransformerBlock3D(\n",
      "            (norm1): LayerNorm((384,), eps=1e-05, elementwise_affine=True)\n",
      "            (attn): WindowAttention3D(\n",
      "              (qkv): Linear(in_features=384, out_features=1152, bias=True)\n",
      "              (attn_drop): Dropout(p=0.0, inplace=False)\n",
      "              (proj): Linear(in_features=384, out_features=384, bias=True)\n",
      "              (proj_drop): Dropout(p=0.1, inplace=False)\n",
      "              (softmax): Softmax(dim=-1)\n",
      "            )\n",
      "            (drop_path): DropPath(drop_prob=0.109)\n",
      "            (norm2): LayerNorm((384,), eps=1e-05, elementwise_affine=True)\n",
      "            (mlp): Mlp(\n",
      "              (fc1): Linear(in_features=384, out_features=1536, bias=True)\n",
      "              (act): GELU(approximate='none')\n",
      "              (fc2): Linear(in_features=1536, out_features=384, bias=True)\n",
      "              (drop): Dropout(p=0.1, inplace=False)\n",
      "            )\n",
      "          )\n",
      "          (3): SwinTransformerBlock3D(\n",
      "            (norm1): LayerNorm((384,), eps=1e-05, elementwise_affine=True)\n",
      "            (attn): WindowAttention3D(\n",
      "              (qkv): Linear(in_features=384, out_features=1152, bias=True)\n",
      "              (attn_drop): Dropout(p=0.0, inplace=False)\n",
      "              (proj): Linear(in_features=384, out_features=384, bias=True)\n",
      "              (proj_drop): Dropout(p=0.1, inplace=False)\n",
      "              (softmax): Softmax(dim=-1)\n",
      "            )\n",
      "            (drop_path): DropPath(drop_prob=0.127)\n",
      "            (norm2): LayerNorm((384,), eps=1e-05, elementwise_affine=True)\n",
      "            (mlp): Mlp(\n",
      "              (fc1): Linear(in_features=384, out_features=1536, bias=True)\n",
      "              (act): GELU(approximate='none')\n",
      "              (fc2): Linear(in_features=1536, out_features=384, bias=True)\n",
      "              (drop): Dropout(p=0.1, inplace=False)\n",
      "            )\n",
      "          )\n",
      "          (4): SwinTransformerBlock3D(\n",
      "            (norm1): LayerNorm((384,), eps=1e-05, elementwise_affine=True)\n",
      "            (attn): WindowAttention3D(\n",
      "              (qkv): Linear(in_features=384, out_features=1152, bias=True)\n",
      "              (attn_drop): Dropout(p=0.0, inplace=False)\n",
      "              (proj): Linear(in_features=384, out_features=384, bias=True)\n",
      "              (proj_drop): Dropout(p=0.1, inplace=False)\n",
      "              (softmax): Softmax(dim=-1)\n",
      "            )\n",
      "            (drop_path): DropPath(drop_prob=0.145)\n",
      "            (norm2): LayerNorm((384,), eps=1e-05, elementwise_affine=True)\n",
      "            (mlp): Mlp(\n",
      "              (fc1): Linear(in_features=384, out_features=1536, bias=True)\n",
      "              (act): GELU(approximate='none')\n",
      "              (fc2): Linear(in_features=1536, out_features=384, bias=True)\n",
      "              (drop): Dropout(p=0.1, inplace=False)\n",
      "            )\n",
      "          )\n",
      "          (5): SwinTransformerBlock3D(\n",
      "            (norm1): LayerNorm((384,), eps=1e-05, elementwise_affine=True)\n",
      "            (attn): WindowAttention3D(\n",
      "              (qkv): Linear(in_features=384, out_features=1152, bias=True)\n",
      "              (attn_drop): Dropout(p=0.0, inplace=False)\n",
      "              (proj): Linear(in_features=384, out_features=384, bias=True)\n",
      "              (proj_drop): Dropout(p=0.1, inplace=False)\n",
      "              (softmax): Softmax(dim=-1)\n",
      "            )\n",
      "            (drop_path): DropPath(drop_prob=0.164)\n",
      "            (norm2): LayerNorm((384,), eps=1e-05, elementwise_affine=True)\n",
      "            (mlp): Mlp(\n",
      "              (fc1): Linear(in_features=384, out_features=1536, bias=True)\n",
      "              (act): GELU(approximate='none')\n",
      "              (fc2): Linear(in_features=1536, out_features=384, bias=True)\n",
      "              (drop): Dropout(p=0.1, inplace=False)\n",
      "            )\n",
      "          )\n",
      "        )\n",
      "        (downsample): PatchMerging(\n",
      "          (reduction): Linear(in_features=1536, out_features=768, bias=False)\n",
      "          (norm): LayerNorm((1536,), eps=1e-05, elementwise_affine=True)\n",
      "        )\n",
      "      )\n",
      "      (3): BasicLayer(\n",
      "        (blocks): ModuleList(\n",
      "          (0): SwinTransformerBlock3D(\n",
      "            (norm1): LayerNorm((768,), eps=1e-05, elementwise_affine=True)\n",
      "            (attn): WindowAttention3D(\n",
      "              (qkv): Linear(in_features=768, out_features=2304, bias=True)\n",
      "              (attn_drop): Dropout(p=0.0, inplace=False)\n",
      "              (proj): Linear(in_features=768, out_features=768, bias=True)\n",
      "              (proj_drop): Dropout(p=0.1, inplace=False)\n",
      "              (softmax): Softmax(dim=-1)\n",
      "            )\n",
      "            (drop_path): DropPath(drop_prob=0.182)\n",
      "            (norm2): LayerNorm((768,), eps=1e-05, elementwise_affine=True)\n",
      "            (mlp): Mlp(\n",
      "              (fc1): Linear(in_features=768, out_features=3072, bias=True)\n",
      "              (act): GELU(approximate='none')\n",
      "              (fc2): Linear(in_features=3072, out_features=768, bias=True)\n",
      "              (drop): Dropout(p=0.1, inplace=False)\n",
      "            )\n",
      "          )\n",
      "          (1): SwinTransformerBlock3D(\n",
      "            (norm1): LayerNorm((768,), eps=1e-05, elementwise_affine=True)\n",
      "            (attn): WindowAttention3D(\n",
      "              (qkv): Linear(in_features=768, out_features=2304, bias=True)\n",
      "              (attn_drop): Dropout(p=0.0, inplace=False)\n",
      "              (proj): Linear(in_features=768, out_features=768, bias=True)\n",
      "              (proj_drop): Dropout(p=0.1, inplace=False)\n",
      "              (softmax): Softmax(dim=-1)\n",
      "            )\n",
      "            (drop_path): DropPath(drop_prob=0.200)\n",
      "            (norm2): LayerNorm((768,), eps=1e-05, elementwise_affine=True)\n",
      "            (mlp): Mlp(\n",
      "              (fc1): Linear(in_features=768, out_features=3072, bias=True)\n",
      "              (act): GELU(approximate='none')\n",
      "              (fc2): Linear(in_features=3072, out_features=768, bias=True)\n",
      "              (drop): Dropout(p=0.1, inplace=False)\n",
      "            )\n",
      "          )\n",
      "        )\n",
      "      )\n",
      "    )\n",
      "    (norm): LayerNorm((768,), eps=1e-05, elementwise_affine=True)\n",
      "  )\n",
      "  (flatten): Flatten(start_dim=1, end_dim=-1)\n",
      "  (relu): ReLU()\n",
      "  (linear1): Linear(in_features=46080, out_features=1, bias=True)\n",
      ")\n",
      "Total parameters: 27,625,903\n",
      "Adjusting learning rate of group 0 to 3.3333e-05.\n"
     ]
    },
    {
     "name": "stderr",
     "output_type": "stream",
     "text": [
      "c:\\Users\\ahmed\\anaconda3\\envs\\vstp\\Lib\\site-packages\\torch\\functional.py:504: UserWarning: torch.meshgrid: in an upcoming release, it will be required to pass the indexing argument. (Triggered internally at ..\\aten\\src\\ATen\\native\\TensorShape.cpp:3484.)\n",
      "  return _VF.meshgrid(tensors, **kwargs)  # type: ignore[attr-defined]\n"
     ]
    }
   ],
   "source": [
    "# linear_in_dim work for default network with frames input uniform at 100 and HxW at 1024x576\n",
    "# model = Swin_Transformer.Swin_Transformer_model(linear_in_dim=768*25*32*18)\n",
    "# linear_in_dim work for default network with frames input uniform at 15 and HxW at 128x72\n",
    "model = Swin_Transformer.Swin_Transformer_model(\n",
    "    # patch_size=(2,2,2), \n",
    "    # num_heads=[6, 12, 24, 48],\n",
    "    # depths=[4, 4, 12, 4],\n",
    "    drop_rate=0.1,\n",
    "    patch_norm=True,\n",
    "    linear_in_dim=46080\n",
    ") # .train(mode=True)\n",
    "\n",
    "criterion = nn.L1Loss()\n",
    "optimizer = optim.Adam(model.parameters(), lr=0.0001,\n",
    "    weight_decay=0.0001)\n",
    "\n",
    "print(model)\n",
    "total_params = sum(p.numel() for p in model.parameters() if p.requires_grad)\n",
    "print(f\"Total parameters: {total_params:,}\")\n",
    "\n",
    "scheduler = lr_scheduler.LinearLR(optimizer, start_factor=1/3, total_iters=10, verbose=True)\n",
    "\n",
    "EPOCHS = 20\n",
    "\n",
    "train_losses = []\n",
    "val_losses = []"
   ]
  },
  {
   "cell_type": "code",
   "execution_count": 5,
   "metadata": {},
   "outputs": [
    {
     "name": "stdout",
     "output_type": "stream",
     "text": [
      "Adjusting learning rate of group 0 to 4.0000e-05.\n",
      "First epoch took 5.6 minutes.\n",
      "Epoch 1/20, Train_Loss: 288952.13, Avg: 7223.80; Val_Loss: 47402.19, Avg: 4740.22\n",
      "Adjusting learning rate of group 0 to 4.6667e-05.\n",
      "Epoch 2/20, Train_Loss: 286940.10, Avg: 7173.50; Val_Loss: 46898.12, Avg: 4689.81\n",
      "Adjusting learning rate of group 0 to 5.3333e-05.\n",
      "Epoch 3/20, Train_Loss: 284991.38, Avg: 7124.78; Val_Loss: 46371.50, Avg: 4637.15\n",
      "Adjusting learning rate of group 0 to 6.0000e-05.\n",
      "Epoch 4/20, Train_Loss: 282996.26, Avg: 7074.91; Val_Loss: 45832.77, Avg: 4583.28\n",
      "Adjusting learning rate of group 0 to 6.6667e-05.\n",
      "Epoch 5/20, Train_Loss: 280971.47, Avg: 7024.29; Val_Loss: 45298.16, Avg: 4529.82\n",
      "Adjusting learning rate of group 0 to 7.3333e-05.\n",
      "Epoch 6/20, Train_Loss: 278906.15, Avg: 6972.65; Val_Loss: 44779.08, Avg: 4477.91\n",
      "Adjusting learning rate of group 0 to 8.0000e-05.\n",
      "Epoch 7/20, Train_Loss: 277091.72, Avg: 6927.29; Val_Loss: 44290.15, Avg: 4429.01\n",
      "Adjusting learning rate of group 0 to 8.6667e-05.\n",
      "Epoch 8/20, Train_Loss: 275469.60, Avg: 6886.74; Val_Loss: 43846.14, Avg: 4384.61\n",
      "Adjusting learning rate of group 0 to 9.3333e-05.\n",
      "Epoch 9/20, Train_Loss: 273963.93, Avg: 6849.10; Val_Loss: 43410.88, Avg: 4341.09\n",
      "Adjusting learning rate of group 0 to 1.0000e-04.\n",
      "Epoch 10/20, Train_Loss: 272610.19, Avg: 6815.25; Val_Loss: 43041.81, Avg: 4304.18\n",
      "Adjusting learning rate of group 0 to 1.0000e-04.\n",
      "Epoch 11/20, Train_Loss: 271418.14, Avg: 6785.45; Val_Loss: 42712.01, Avg: 4271.20\n",
      "Adjusting learning rate of group 0 to 1.0000e-04.\n",
      "Epoch 12/20, Train_Loss: 270477.82, Avg: 6761.95; Val_Loss: 42447.60, Avg: 4244.76\n",
      "Adjusting learning rate of group 0 to 1.0000e-04.\n",
      "Epoch 13/20, Train_Loss: 269646.35, Avg: 6741.16; Val_Loss: 42303.89, Avg: 4230.39\n",
      "Adjusting learning rate of group 0 to 1.0000e-04.\n",
      "Epoch 14/20, Train_Loss: 269160.31, Avg: 6729.01; Val_Loss: 42134.92, Avg: 4213.49\n",
      "Adjusting learning rate of group 0 to 1.0000e-04.\n",
      "Epoch 15/20, Train_Loss: 268654.01, Avg: 6716.35; Val_Loss: 42052.06, Avg: 4205.21\n",
      "Adjusting learning rate of group 0 to 1.0000e-04.\n",
      "Epoch 16/20, Train_Loss: 268044.79, Avg: 6701.12; Val_Loss: 41966.97, Avg: 4196.70\n",
      "Adjusting learning rate of group 0 to 1.0000e-04.\n",
      "Epoch 17/20, Train_Loss: 267531.23, Avg: 6688.28; Val_Loss: 41996.04, Avg: 4199.60\n",
      "Adjusting learning rate of group 0 to 1.0000e-04.\n",
      "Epoch 18/20, Train_Loss: 267399.03, Avg: 6684.98; Val_Loss: 41878.26, Avg: 4187.83\n",
      "Adjusting learning rate of group 0 to 1.0000e-04.\n",
      "Epoch 19/20, Train_Loss: 267181.39, Avg: 6679.53; Val_Loss: 41860.29, Avg: 4186.03\n",
      "Adjusting learning rate of group 0 to 1.0000e-04.\n",
      "Epoch 20/20, Train_Loss: 266950.78, Avg: 6673.77; Val_Loss: 41859.97, Avg: 4186.00\n"
     ]
    }
   ],
   "source": [
    "start_time = time.time()\n",
    "\n",
    "for epoch in range(EPOCHS):\n",
    "    train_loss, avg_train_loss = train(model, train_loader, criterion, optimizer, device, verbose=False)\n",
    "    \n",
    "    # model.train(mode=False)\n",
    "    val_loss, avg_val_loss = evaluate(model, val_loader, criterion, device, verbose=False)\n",
    "    \n",
    "    scheduler.step()\n",
    "    # record the losses\n",
    "    train_losses.append(avg_train_loss)\n",
    "    val_losses.append(avg_val_loss)\n",
    "\n",
    "    # print every num times epoch only\n",
    "    num = 1\n",
    "    if ((epoch+1) % num == 0) or epoch == 0:\n",
    "        if epoch == 0:\n",
    "            time_took = (time.time() - start_time) / 60\n",
    "            print(f'First epoch took {time_took:.1f} minutes.')\n",
    "        print(f'Epoch {epoch+1}/{EPOCHS}, Train_Loss: {train_loss:.2f}, Avg: {avg_train_loss:.2f}; Val_Loss: {val_loss:.2f}, Avg: {avg_val_loss:.2f}')\n"
   ]
  },
  {
   "cell_type": "code",
   "execution_count": 6,
   "metadata": {},
   "outputs": [],
   "source": [
    "# save model if better or not exists\n",
    "model_weights = {'model_state_dict': model.state_dict(), 'val_loss': avg_val_loss}\n",
    "weights_file = '../models/save/SWIN_weights_v2.pt'\n",
    "if not os.path.isfile(weights_file):\n",
    "    # save new\n",
    "    torch.save(model_weights, weights_file)\n",
    "elif model_weights['val_loss'] < torch.load(weights_file)['val_loss']:\n",
    "    # replace\n",
    "    torch.save(model_weights, weights_file)"
   ]
  },
  {
   "cell_type": "code",
   "execution_count": 7,
   "metadata": {},
   "outputs": [],
   "source": []
  },
  {
   "cell_type": "code",
   "execution_count": 8,
   "metadata": {},
   "outputs": [
    {
     "data": {
      "image/png": "[encoded data removed]",
      "text/plain": [
       "<Figure size 640x480 with 1 Axes>"
      ]
     },
     "metadata": {},
     "output_type": "display_data"
    }
   ],
   "source": [
    "import matplotlib.pyplot as plt\n",
    "\n",
    "# lost plot\n",
    "plt.plot(train_losses, label='Training Loss')\n",
    "plt.plot(val_losses, label='Validation Loss')\n",
    "plt.xlabel('Epoch')\n",
    "plt.ylabel('Loss')\n",
    "plt.title('Training and Validation Loss')\n",
    "plt.legend()\n",
    "plt.show()"
   ]
  },
  {
   "cell_type": "code",
   "execution_count": 9,
   "metadata": {},
   "outputs": [],
   "source": [
    "# compare to validation set\n",
    "val_values = []\n",
    "predicted_values = []\n",
    "\n",
    "for inputs, targets in val_loader:\n",
    "    model.eval()\n",
    "    inputs, targets = inputs.to(torch.float32).to(device), targets.to(torch.float32).to(device)\n",
    "\n",
    "    # Forward pass\n",
    "    outputs = model(inputs)\n",
    "\n",
    "    # Append the values\n",
    "    val_values.extend(targets.tolist())\n",
    "    predicted_values.extend(outputs.tolist())"
   ]
  },
  {
   "cell_type": "code",
   "execution_count": 10,
   "metadata": {},
   "outputs": [
    {
     "data": {
      "image/png": "[encoded data removed]",
      "text/plain": [
       "<Figure size 640x480 with 1 Axes>"
      ]
     },
     "metadata": {},
     "output_type": "display_data"
    }
   ],
   "source": [
    "import matplotlib.pyplot as plt\n",
    "\n",
    "plt.scatter(range(len(val_values)), val_values, label='Test Values')\n",
    "plt.scatter(range(len(predicted_values)), predicted_values, label='Predicted Values')\n",
    "plt.xlabel('Sample Index')\n",
    "plt.ylabel('Value')\n",
    "plt.title('Test vs Predicted Values')\n",
    "plt.legend()\n",
    "plt.show()"
   ]
  },
  {
   "cell_type": "code",
   "execution_count": 11,
   "metadata": {},
   "outputs": [
    {
     "name": "stdout",
     "output_type": "stream",
     "text": [
      "Test value: [462.3999938964844], Predicted Value: [1726.8541259765625]\n",
      "Test value: [2100.0], Predicted Value: [1334.029052734375]\n",
      "Test value: [413.79998779296875], Predicted Value: [1727.8193359375]\n",
      "Test value: [855.7000122070312], Predicted Value: [1727.9630126953125]\n",
      "Test value: [7500.0], Predicted Value: [1097.3016357421875]\n",
      "Test value: [7100.0], Predicted Value: [1727.8902587890625]\n",
      "Test value: [3700.0], Predicted Value: [1726.1773681640625]\n",
      "Test value: [1100.0], Predicted Value: [1722.55908203125]\n",
      "Test value: [10300.0], Predicted Value: [1727.8787841796875]\n",
      "Test value: [9000.0], Predicted Value: [1728.13330078125]\n",
      "Test value: [1400.0], Predicted Value: [1727.4200439453125]\n",
      "Test value: [2200.0], Predicted Value: [1333.059814453125]\n",
      "Test value: [2000.0], Predicted Value: [1727.8880615234375]\n",
      "Test value: [178.39999389648438], Predicted Value: [1728.00830078125]\n",
      "Test value: [1400.0], Predicted Value: [1721.7811279296875]\n",
      "Test value: [1500.0], Predicted Value: [1719.6407470703125]\n",
      "Test value: [3700.0], Predicted Value: [1329.9302978515625]\n",
      "Test value: [4000.0], Predicted Value: [1096.40966796875]\n",
      "Test value: [589.0999755859375], Predicted Value: [1722.7950439453125]\n",
      "Test value: [13.199999809265137], Predicted Value: [1722.2674560546875]\n",
      "Test value: [14800.0], Predicted Value: [1727.895751953125]\n",
      "Test value: [18.299999237060547], Predicted Value: [1724.1485595703125]\n",
      "Test value: [10600.0], Predicted Value: [1727.88818359375]\n",
      "Test value: [6800.0], Predicted Value: [1098.9498291015625]\n",
      "Test value: [669.0999755859375], Predicted Value: [1721.3138427734375]\n",
      "Test value: [99.0999984741211], Predicted Value: [1710.0933837890625]\n",
      "Test value: [45.70000076293945], Predicted Value: [1723.453125]\n",
      "Test value: [7610.0], Predicted Value: [1724.2855224609375]\n",
      "Test value: [1300.0], Predicted Value: [1727.7344970703125]\n",
      "Test value: [4700.0], Predicted Value: [1727.900634765625]\n",
      "Test value: [3200.0], Predicted Value: [1333.6905517578125]\n",
      "Test value: [8900.0], Predicted Value: [1727.974365234375]\n",
      "Test value: [14.600000381469727], Predicted Value: [1128.0018310546875]\n",
      "Test value: [5200.0], Predicted Value: [1721.3421630859375]\n",
      "Test value: [369.79998779296875], Predicted Value: [1334.5897216796875]\n",
      "Test value: [2324.0], Predicted Value: [1724.0084228515625]\n",
      "Test value: [626.9000244140625], Predicted Value: [1719.7420654296875]\n",
      "Test value: [10.5], Predicted Value: [1333.672607421875]\n",
      "Test value: [1800.0], Predicted Value: [1726.4130859375]\n",
      "Test value: [118.0], Predicted Value: [1727.716796875]\n",
      "Test value: [4200.0], Predicted Value: [1727.8160400390625]\n",
      "Test value: [10.300000190734863], Predicted Value: [1333.8714599609375]\n",
      "Test value: [2000.0], Predicted Value: [1724.056396484375]\n",
      "Test value: [2400.0], Predicted Value: [1728.0570068359375]\n",
      "Test value: [4600.0], Predicted Value: [1727.7547607421875]\n",
      "Test value: [6000.0], Predicted Value: [1727.8917236328125]\n",
      "Test value: [3180.0], Predicted Value: [1728.1810302734375]\n",
      "Test value: [1900.0], Predicted Value: [1724.4735107421875]\n",
      "Test value: [153.60000610351562], Predicted Value: [1719.7435302734375]\n",
      "Test value: [514.2999877929688], Predicted Value: [1720.00048828125]\n",
      "Test value: [6245.0], Predicted Value: [1334.088623046875]\n",
      "Test value: [1100.0], Predicted Value: [1721.5526123046875]\n",
      "Test value: [1700.0], Predicted Value: [1723.541259765625]\n",
      "Test value: [1300.0], Predicted Value: [1727.8311767578125]\n",
      "Test value: [319.79998779296875], Predicted Value: [1334.1661376953125]\n",
      "Test value: [1100.0], Predicted Value: [1728.0699462890625]\n",
      "Test value: [285.70001220703125], Predicted Value: [1727.66552734375]\n",
      "Test value: [15100.0], Predicted Value: [1726.428466796875]\n",
      "Test value: [4900.0], Predicted Value: [1721.8966064453125]\n",
      "Test value: [1000.0], Predicted Value: [1723.369384765625]\n",
      "Test value: [9925.0], Predicted Value: [1295.9273681640625]\n",
      "Test value: [387.5], Predicted Value: [1726.4293212890625]\n",
      "Test value: [85.9000015258789], Predicted Value: [1726.4276123046875]\n",
      "Test value: [2200.0], Predicted Value: [1333.4942626953125]\n",
      "Test value: [4100.0], Predicted Value: [1118.1051025390625]\n",
      "Test value: [9400.0], Predicted Value: [1724.3922119140625]\n",
      "Test value: [10.600000381469727], Predicted Value: [1720.1829833984375]\n",
      "Test value: [2500.0], Predicted Value: [1722.6661376953125]\n",
      "Test value: [26.700000762939453], Predicted Value: [1727.9158935546875]\n",
      "Test value: [179.1999969482422], Predicted Value: [1711.4493408203125]\n",
      "Test value: [11400.0], Predicted Value: [1727.8333740234375]\n",
      "Test value: [70.0], Predicted Value: [1727.5950927734375]\n",
      "Test value: [133.3000030517578], Predicted Value: [1728.1419677734375]\n",
      "Test value: [971.0], Predicted Value: [1727.8785400390625]\n",
      "Test value: [82500.0], Predicted Value: [1722.046630859375]\n",
      "Test value: [177.39999389648438], Predicted Value: [1728.0284423828125]\n",
      "Test value: [1600.0], Predicted Value: [1111.19384765625]\n",
      "Test value: [3000.0], Predicted Value: [1727.6239013671875]\n",
      "Test value: [2300.0], Predicted Value: [1719.684814453125]\n",
      "Test value: [4000.0], Predicted Value: [1728.1051025390625]\n",
      "Test value: [1900.0], Predicted Value: [1727.995849609375]\n",
      "Test value: [5700.0], Predicted Value: [1727.8245849609375]\n",
      "Test value: [3200.0], Predicted Value: [1727.595703125]\n",
      "Test value: [1800.0], Predicted Value: [1726.3975830078125]\n",
      "Test value: [11500.0], Predicted Value: [1721.4593505859375]\n",
      "Test value: [8800.0], Predicted Value: [1722.9202880859375]\n",
      "Test value: [3200.0], Predicted Value: [1723.4549560546875]\n",
      "Test value: [6542.0], Predicted Value: [1727.9425048828125]\n",
      "Test value: [1200.0], Predicted Value: [1728.1068115234375]\n",
      "Test value: [5000.0], Predicted Value: [1728.1063232421875]\n",
      "Test value: [19400.0], Predicted Value: [1724.0562744140625]\n",
      "Test value: [12500.0], Predicted Value: [1727.9146728515625]\n",
      "Test value: [959.7999877929688], Predicted Value: [1727.9110107421875]\n",
      "Test value: [360.79998779296875], Predicted Value: [1727.9854736328125]\n",
      "Test value: [1500.0], Predicted Value: [1136.5]\n",
      "Test value: [470.5], Predicted Value: [1696.9930419921875]\n",
      "Test value: [12800.0], Predicted Value: [1727.1383056640625]\n",
      "Test value: [1200.0], Predicted Value: [1719.8880615234375]\n",
      "Test value: [4400.0], Predicted Value: [1728.0357666015625]\n",
      "Test value: [2500.0], Predicted Value: [1727.9805908203125]\n",
      "Test value: [1900.0], Predicted Value: [1099.088134765625]\n",
      "Test value: [5400.0], Predicted Value: [1724.0072021484375]\n",
      "Test value: [8500.0], Predicted Value: [1727.9683837890625]\n",
      "Test value: [4600.0], Predicted Value: [1722.117919921875]\n",
      "Test value: [233.6999969482422], Predicted Value: [1724.3370361328125]\n",
      "Test value: [18900.0], Predicted Value: [1728.0389404296875]\n",
      "Test value: [1500.0], Predicted Value: [1728.150146484375]\n",
      "Test value: [750.7999877929688], Predicted Value: [1719.7049560546875]\n",
      "Test value: [8511.0], Predicted Value: [1728.0538330078125]\n",
      "Test value: [6700.0], Predicted Value: [1728.18505859375]\n",
      "Test value: [40000.0], Predicted Value: [1728.157958984375]\n",
      "Test value: [10.899999618530273], Predicted Value: [1728.0198974609375]\n",
      "Test value: [5089.0], Predicted Value: [1727.9725341796875]\n",
      "Test value: [69.9000015258789], Predicted Value: [1097.5267333984375]\n",
      "Test value: [3000.0], Predicted Value: [1726.5067138671875]\n",
      "Test value: [63.70000076293945], Predicted Value: [1718.0023193359375]\n",
      "Test value: [18200.0], Predicted Value: [1726.5263671875]\n",
      "Test value: [23300.0], Predicted Value: [1714.8734130859375]\n",
      "Test value: [7200.0], Predicted Value: [1727.9593505859375]\n",
      "Test value: [721.9000244140625], Predicted Value: [1727.6849365234375]\n",
      "Test value: [1200.0], Predicted Value: [1728.0185546875]\n",
      "Test value: [220.3000030517578], Predicted Value: [1724.2034912109375]\n",
      "Test value: [2100.0], Predicted Value: [1720.6011962890625]\n",
      "Test value: [1600.0], Predicted Value: [1726.4117431640625]\n",
      "Test value: [1700.0], Predicted Value: [1724.2418212890625]\n",
      "Test value: [9800.0], Predicted Value: [1136.1358642578125]\n",
      "Test value: [9800.0], Predicted Value: [1654.7899169921875]\n",
      "Test value: [233.39999389648438], Predicted Value: [1728.1510009765625]\n",
      "Test value: [3600.0], Predicted Value: [1334.9993896484375]\n",
      "Test value: [4100.0], Predicted Value: [1728.119873046875]\n",
      "Test value: [604.7000122070312], Predicted Value: [1727.9205322265625]\n",
      "Test value: [3885.0], Predicted Value: [1728.0086669921875]\n",
      "Test value: [31500.0], Predicted Value: [1716.886474609375]\n",
      "Test value: [3200.0], Predicted Value: [1701.738525390625]\n",
      "Test value: [794.0999755859375], Predicted Value: [1334.24658203125]\n",
      "Test value: [5100.0], Predicted Value: [1727.9337158203125]\n",
      "Test value: [2200.0], Predicted Value: [1727.1842041015625]\n",
      "Test value: [4300.0], Predicted Value: [1723.5921630859375]\n",
      "Test value: [651.0], Predicted Value: [1726.4798583984375]\n",
      "Test value: [91.69999694824219], Predicted Value: [1719.8951416015625]\n",
      "Test value: [1500.0], Predicted Value: [1723.93603515625]\n",
      "Test value: [67.0], Predicted Value: [1727.9796142578125]\n",
      "Test value: [22600.0], Predicted Value: [1726.4840087890625]\n",
      "Test value: [2100.0], Predicted Value: [1097.203369140625]\n",
      "Test value: [5700.0], Predicted Value: [1097.180908203125]\n",
      "Test value: [14600.0], Predicted Value: [1112.6632080078125]\n",
      "Test value: [18.700000762939453], Predicted Value: [1727.9617919921875]\n",
      "Test value: [2700.0], Predicted Value: [1333.912353515625]\n",
      "Test value: [55.0], Predicted Value: [1333.8052978515625]\n",
      "Test value: [663.2999877929688], Predicted Value: [1720.2808837890625]\n",
      "Test value: [906.0], Predicted Value: [1727.8565673828125]\n",
      "Test value: [1100.0], Predicted Value: [1728.1328125]\n",
      "Test value: [944.5], Predicted Value: [1099.2930908203125]\n",
      "Test value: [2900.0], Predicted Value: [1728.1302490234375]\n",
      "Test value: [16400.0], Predicted Value: [1720.6251220703125]\n",
      "Test value: [4600.0], Predicted Value: [1727.8983154296875]\n",
      "Test value: [70700.0], Predicted Value: [1332.836181640625]\n",
      "Test value: [79.80000305175781], Predicted Value: [1719.8116455078125]\n",
      "Test value: [12100.0], Predicted Value: [1098.7386474609375]\n",
      "Test value: [9300.0], Predicted Value: [1720.30615234375]\n",
      "Test value: [7000.0], Predicted Value: [1728.0064697265625]\n",
      "Test value: [19.0], Predicted Value: [1095.85400390625]\n",
      "Test value: [3900.0], Predicted Value: [1728.0482177734375]\n",
      "Test value: [3800.0], Predicted Value: [1721.3878173828125]\n",
      "Test value: [19700.0], Predicted Value: [1096.98193359375]\n",
      "Test value: [5800.0], Predicted Value: [1727.9444580078125]\n",
      "Test value: [2000.0], Predicted Value: [1726.4490966796875]\n",
      "Test value: [549.7999877929688], Predicted Value: [1721.329833984375]\n",
      "Test value: [18700.0], Predicted Value: [1728.1400146484375]\n",
      "Test value: [41.29999923706055], Predicted Value: [1728.1689453125]\n",
      "Test value: [264.5], Predicted Value: [1727.96533203125]\n",
      "Test value: [3900.0], Predicted Value: [1719.7508544921875]\n",
      "Test value: [104.5], Predicted Value: [1726.5655517578125]\n",
      "Test value: [7700.0], Predicted Value: [1724.0452880859375]\n",
      "Test value: [16.0], Predicted Value: [1719.6826171875]\n",
      "Test value: [5834.0], Predicted Value: [1726.4390869140625]\n",
      "Test value: [3700.0], Predicted Value: [1719.7052001953125]\n",
      "Test value: [313.6000061035156], Predicted Value: [1728.0682373046875]\n",
      "Test value: [2300.0], Predicted Value: [1723.699462890625]\n",
      "Test value: [13.300000190734863], Predicted Value: [1095.7413330078125]\n",
      "Test value: [315.29998779296875], Predicted Value: [1727.9664306640625]\n",
      "Test value: [25.5], Predicted Value: [1727.9493408203125]\n",
      "Test value: [2100.0], Predicted Value: [1727.5489501953125]\n",
      "Test value: [1000.0], Predicted Value: [1719.7313232421875]\n",
      "Test value: [4942.0], Predicted Value: [1719.8377685546875]\n",
      "Test value: [1700.0], Predicted Value: [1728.1529541015625]\n",
      "Test value: [995.5], Predicted Value: [1332.7064208984375]\n",
      "Test value: [3300.0], Predicted Value: [1727.8922119140625]\n",
      "Test value: [114.9000015258789], Predicted Value: [1722.0145263671875]\n",
      "Test value: [239.10000610351562], Predicted Value: [1722.3128662109375]\n",
      "Test value: [12.699999809265137], Predicted Value: [1727.967529296875]\n",
      "Test value: [6500.0], Predicted Value: [1721.3546142578125]\n",
      "Test value: [196.1999969482422], Predicted Value: [1722.0235595703125]\n",
      "Test value: [1100.0], Predicted Value: [1683.8868408203125]\n",
      "Test value: [75.0999984741211], Predicted Value: [1727.8035888671875]\n",
      "Test value: [1300.0], Predicted Value: [1728.0653076171875]\n",
      "Test value: [370.29998779296875], Predicted Value: [1726.2967529296875]\n",
      "Test value: [8947.0], Predicted Value: [1728.0845947265625]\n",
      "Test value: [5217.0], Predicted Value: [1728.1619873046875]\n",
      "Test value: [38.70000076293945], Predicted Value: [1725.4249267578125]\n"
     ]
    }
   ],
   "source": [
    "for i in range(len(predicted_values)):\n",
    "    print(f'Test value: {val_values[i]}, Predicted Value: {predicted_values[i]}')"
   ]
  },
  {
   "cell_type": "code",
   "execution_count": 8,
   "metadata": {},
   "outputs": [],
   "source": [
    "import numpy as np"
   ]
  },
  {
   "cell_type": "code",
   "execution_count": 12,
   "metadata": {},
   "outputs": [
    {
     "data": {
      "text/plain": [
       "(4185.9968094730375, 94861415.57455975)"
      ]
     },
     "execution_count": 12,
     "metadata": {},
     "output_type": "execute_result"
    }
   ],
   "source": [
    "model_mae = np.absolute(np.subtract(val_values, predicted_values)).mean()\n",
    "model_mse = (np.square(np.subtract(val_values, predicted_values))).mean()\n",
    "model_mae, model_mse"
   ]
  },
  {
   "cell_type": "code",
   "execution_count": 14,
   "metadata": {},
   "outputs": [
    {
     "data": {
      "text/plain": [
       "(4147.8215006351475, 90648361.90672079)"
      ]
     },
     "execution_count": 14,
     "metadata": {},
     "output_type": "execute_result"
    }
   ],
   "source": [
    "training_targets = []\n",
    "for inputs, targets in train_loader:\n",
    "    training_targets.extend([i.item() for i in targets])\n",
    "\n",
    "training_targets = np.array(training_targets)\n",
    "training_mean_as_prediction = training_targets.mean()\n",
    "training_median_as_prediction = np.median(training_targets)\n",
    "training_mean_as_predicted_values = [training_mean_as_prediction for i in range(len(predicted_values))]\n",
    "training_median_as_predicted_values = [training_median_as_prediction for i in range(len(predicted_values))]\n",
    "training_median_mae = np.absolute(np.subtract(val_values, training_median_as_predicted_values)).mean()\n",
    "training_mean_mse = np.square(np.subtract(val_values, training_mean_as_predicted_values)).mean()\n",
    "training_median_mae, training_mean_mse\n"
   ]
  },
  {
   "cell_type": "code",
   "execution_count": 15,
   "metadata": {},
   "outputs": [
    {
     "data": {
      "text/plain": [
       "False"
      ]
     },
     "execution_count": 15,
     "metadata": {},
     "output_type": "execute_result"
    }
   ],
   "source": [
    "model_mae < training_median_mae"
   ]
  },
  {
   "cell_type": "code",
   "execution_count": 16,
   "metadata": {},
   "outputs": [
    {
     "data": {
      "text/plain": [
       "False"
      ]
     },
     "execution_count": 16,
     "metadata": {},
     "output_type": "execute_result"
    }
   ],
   "source": [
    "model_mse < training_mean_mse"
   ]
  },
  {
   "cell_type": "code",
   "execution_count": 2,
   "metadata": {},
   "outputs": [
    {
     "name": "stderr",
     "output_type": "stream",
     "text": [
      "c:\\Users\\ahmed\\anaconda3\\envs\\vstp\\Lib\\site-packages\\torch\\functional.py:504: UserWarning: torch.meshgrid: in an upcoming release, it will be required to pass the indexing argument. (Triggered internally at ..\\aten\\src\\ATen\\native\\TensorShape.cpp:3484.)\n",
      "  return _VF.meshgrid(tensors, **kwargs)  # type: ignore[attr-defined]\n"
     ]
    },
    {
     "data": {
      "text/plain": [
       "<All keys matched successfully>"
      ]
     },
     "execution_count": 2,
     "metadata": {},
     "output_type": "execute_result"
    }
   ],
   "source": [
    "model_final = Swin_Transformer.Swin_Transformer_model(\n",
    "    drop_rate=0.1,\n",
    "    patch_norm=True,\n",
    "    linear_in_dim=46080\n",
    ")\n",
    "weights_file = '../models/save/SWIN_weights_v2.pt'\n",
    "# load check point\n",
    "model_final.load_state_dict(torch.load(weights_file)['model_state_dict'])"
   ]
  },
  {
   "cell_type": "code",
   "execution_count": 3,
   "metadata": {},
   "outputs": [
    {
     "name": "stdout",
     "output_type": "stream",
     "text": [
      "You are using device: cpu\n",
      "Processing video visual to tensors..\n"
     ]
    },
    {
     "name": "stderr",
     "output_type": "stream",
     "text": [
      "100%|██████████| 100/100 [08:00<00:00,  4.81s/it]\n"
     ]
    }
   ],
   "source": [
    "# if EXTRACT_DATA:\n",
    "if 1 ==1:\n",
    "    # # Data inputs for CNN and Swin Transformer baseline\n",
    "    # disable pyav warning\n",
    "    warnings.filterwarnings(\"ignore\", message=\"Accurate seek is not implemented for pyav backend\")\n",
    "    process_data(\n",
    "        input_type='video_pack_100_holdout_swin', \n",
    "        # addition_parameters={'first_n_videos': 10}, \n",
    "        verbose=False,\n",
    "        device=get_device(),\n",
    "        skip_frames=True,\n",
    "        frames_to_skip=200,\n",
    "        resize_tensors=True,\n",
    "        uniform_frames=True,\n",
    "        set_frame_count=20,\n",
    "        shrink=8,\n",
    "        clean_dir=True\n",
    "    )"
   ]
  },
  {
   "cell_type": "code",
   "execution_count": 4,
   "metadata": {},
   "outputs": [
    {
     "name": "stdout",
     "output_type": "stream",
     "text": [
      "torch.Size([3, 20, 128, 72])\n",
      "torch.Size([3, 20, 128, 72])\n",
      "80\n",
      "20\n"
     ]
    }
   ],
   "source": [
    "train_loader, val_loader = get_train_and_val_loader(\n",
    "    input_type='video_pack_100_holdout_swin',\n",
    "    batch_size=20,\n",
    "    verbose=True\n",
    ")"
   ]
  },
  {
   "cell_type": "code",
   "execution_count": 10,
   "metadata": {},
   "outputs": [
    {
     "name": "stdout",
     "output_type": "stream",
     "text": [
      "4732.692140922546 83962989.83505517\n",
      "4749.209000053405 70204980.26412164\n"
     ]
    }
   ],
   "source": [
    "# compare to validation set\n",
    "val_values = []\n",
    "predicted_values = []\n",
    "\n",
    "for inputs, targets in train_loader:\n",
    "    model_final.eval()\n",
    "    inputs, targets = inputs.to(torch.float32).to(device), targets.to(torch.float32).to(device)\n",
    "\n",
    "    # Forward pass\n",
    "    outputs = model_final(inputs)\n",
    "\n",
    "    # Append the values\n",
    "    val_values.extend(targets.tolist())\n",
    "    predicted_values.extend(outputs.tolist())\n",
    "\n",
    "for inputs, targets in val_loader:\n",
    "    model_final.eval()\n",
    "    inputs, targets = inputs.to(torch.float32).to(device), targets.to(torch.float32).to(device)\n",
    "\n",
    "    # Forward pass\n",
    "    outputs = model_final(inputs)\n",
    "\n",
    "    # Append the values\n",
    "    val_values.extend(targets.tolist())\n",
    "    predicted_values.extend(outputs.tolist())\n",
    "\n",
    "model_mae = np.absolute(np.subtract(val_values, predicted_values)).mean()\n",
    "model_mse = (np.square(np.subtract(val_values, predicted_values))).mean()\n",
    "print(model_mae, model_mse)\n",
    "\n",
    "training_targets = []\n",
    "for inputs, targets in train_loader:\n",
    "    training_targets.extend([i.item() for i in targets])\n",
    "\n",
    "training_targets = np.array(training_targets)\n",
    "training_mean_as_prediction = training_targets.mean()\n",
    "training_median_as_prediction = np.median(training_targets)\n",
    "training_mean_as_predicted_values = [training_mean_as_prediction for i in range(len(predicted_values))]\n",
    "training_median_as_predicted_values = [training_median_as_prediction for i in range(len(predicted_values))]\n",
    "training_median_mae = np.absolute(np.subtract(val_values, training_median_as_predicted_values)).mean()\n",
    "training_mean_mse = np.square(np.subtract(val_values, training_mean_as_predicted_values)).mean()\n",
    "print(training_median_mae, training_mean_mse)"
   ]
  },
  {
   "cell_type": "code",
   "execution_count": 11,
   "metadata": {},
   "outputs": [
    {
     "data": {
      "text/plain": [
       "True"
      ]
     },
     "execution_count": 11,
     "metadata": {},
     "output_type": "execute_result"
    }
   ],
   "source": [
    "model_mae < training_median_mae"
   ]
  },
  {
   "cell_type": "code",
   "execution_count": 12,
   "metadata": {},
   "outputs": [
    {
     "data": {
      "text/plain": [
       "False"
      ]
     },
     "execution_count": 12,
     "metadata": {},
     "output_type": "execute_result"
    }
   ],
   "source": [
    "model_mse < training_mean_mse"
   ]
  }
 ],
 "metadata": {
  "kernelspec": {
   "display_name": "Python 3 (ipykernel)",
   "language": "python",
   "name": "python3"
  },
  "language_info": {
   "codemirror_mode": {
    "name": "ipython",
    "version": 3
   },
   "file_extension": ".py",
   "mimetype": "text/x-python",
   "name": "python",
   "nbconvert_exporter": "python",
   "pygments_lexer": "ipython3",
   "version": "3.11.4"
  }
 },
 "nbformat": 4,
 "nbformat_minor": 4
}

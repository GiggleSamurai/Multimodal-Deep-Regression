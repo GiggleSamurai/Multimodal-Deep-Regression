{
 "cells": [
  {
   "cell_type": "code",
   "execution_count": 1,
   "metadata": {},
   "outputs": [],
   "source": [
    "import torch\n",
    "import torch.nn as nn\n",
    "import torch.optim as optim\n",
    "from torch.utils.data import DataLoader, TensorDataset\n",
    "from tqdm import tqdm\n",
    "from sklearn.model_selection import train_test_split\n",
    "import os\n",
    "import random\n",
    "import time\n",
    "\n",
    "# Inside the /Multimodal-Deep-Regression/notebooks\n",
    "import sys\n",
    "sys.path.append(\"..\")\n",
    "\n",
    "from util.utilities import train, evaluate, get_device\n",
    "from util.data_utilities import get_base_tensor_directories, generate_batch\n",
    "from util.data_utilities import process_data"
   ]
  },
  {
   "cell_type": "code",
   "execution_count": 2,
   "metadata": {},
   "outputs": [
    {
     "data": {
      "text/plain": [
       "'/home/louis/Documents/gatech/Summer2023/Multimodal-Deep-Regression/notebooks'"
      ]
     },
     "execution_count": 2,
     "metadata": {},
     "output_type": "execute_result"
    }
   ],
   "source": [
    "# Current Path\n",
    "os.getcwd()"
   ]
  },
  {
   "cell_type": "code",
   "execution_count": 3,
   "metadata": {},
   "outputs": [
    {
     "name": "stdout",
     "output_type": "stream",
     "text": [
      "You are using device: cuda\n"
     ]
    }
   ],
   "source": [
    "device = get_device()\n",
    "x_dir, y_dir = get_base_tensor_directories(input_type='video_pack_1000')\n",
    "\n",
    "x_files = sorted([os.path.join(x_dir, f) for f in os.listdir(x_dir)])\n",
    "y_files = sorted([os.path.join(y_dir, f) for f in os.listdir(y_dir)])"
   ]
  },
  {
   "cell_type": "code",
   "execution_count": 4,
   "metadata": {},
   "outputs": [
    {
     "name": "stdout",
     "output_type": "stream",
     "text": [
      "torch.Size([3, 3, 128, 72])\n",
      "torch.Size([3, 3, 128, 72])\n",
      "80\n",
      "20\n"
     ]
    }
   ],
   "source": [
    "# load all tensors\n",
    "x_data = [torch.load(f) for f in x_files]\n",
    "y_data = [torch.load(f) for f in y_files]\n",
    "\n",
    "# Split the data\n",
    "x_train, x_val, y_train, y_val = train_test_split(x_data, y_data, test_size=0.2, shuffle=False)\n",
    "print(x_train[0].size())\n",
    "print(x_val[0].size())\n",
    "print(len(y_train))\n",
    "print(len(y_val))"
   ]
  },
  {
   "cell_type": "code",
   "execution_count": 5,
   "metadata": {},
   "outputs": [
    {
     "data": {
      "text/plain": [
       "(torch.Size([1, 3, 4, 128, 72]), torch.Size([1, 3, 4, 128, 72]))"
      ]
     },
     "execution_count": 5,
     "metadata": {},
     "output_type": "execute_result"
    }
   ],
   "source": [
    "# Create Batches with DataLoaders\n",
    "batch_size = 1\n",
    "train_loader = list(zip(x_train, x_train)) #TensorDataset(x_train, y_train)\n",
    "val_loader = list(zip(x_val, x_val)) #TensorDataset(x_val, y_val)\n",
    "train_loader = DataLoader(train_loader, batch_size=batch_size, shuffle=True)\n",
    "val_loader = DataLoader(val_loader, batch_size=batch_size, shuffle=False)\n",
    "\n",
    "data, targets = next(iter(train_loader))\n",
    "data.size(), targets.size()"
   ]
  },
  {
   "cell_type": "code",
   "execution_count": 6,
   "metadata": {},
   "outputs": [],
   "source": [
    "# This need to same as the main & preprocess\n",
    "frames_to_skip=200 # how many frame to skip, reduce depth\n",
    "shrink=8 # shrink H x W, the higher the smaller scale\n",
    "normalize=False # normalize the pixel to 0 to 1"
   ]
  },
  {
   "cell_type": "code",
   "execution_count": 7,
   "metadata": {},
   "outputs": [
    {
     "name": "stdout",
     "output_type": "stream",
     "text": [
      "Total parameters: 1,041,859\n"
     ]
    }
   ],
   "source": [
    "from models import ConvLSTMAutoencoder\n",
    "model = ConvLSTMAutoencoder(hidden_dim=64, shrink=shrink, normalize=normalize)\n",
    "\n",
    "criterion = nn.MSELoss()\n",
    "optimizer = optim.Adam(model.parameters(), lr=1e-4)\n",
    "\n",
    "total_params = sum(p.numel() for p in model.parameters() if p.requires_grad)\n",
    "print(f\"Total parameters: {total_params:,}\")\n"
   ]
  },
  {
   "cell_type": "raw",
   "metadata": {},
   "source": [
    "\n",
    "EPOCHS = 100\n",
    "\n",
    "train_losses = []\n",
    "val_losses = []\n",
    "start_time = time.time()\n",
    "\n",
    "for epoch in range(EPOCHS):\n",
    "    train_loss, avg_train_loss = train(model, train_loader, criterion, optimizer)\n",
    "    #val_loss, avg_val_loss = evaluate(model, val_loader, criterion)\n",
    "    \n",
    "    # record the losses\n",
    "    train_losses.append(avg_train_loss)\n",
    "    #val_losses.append(avg_val_loss)\n",
    "\n",
    "    # print every num times epoch only\n",
    "    num = 1\n",
    "    if ((epoch+1) % num == 0) or epoch == 0:\n",
    "        if epoch == 0:\n",
    "            time_took = (time.time() - start_time) / 60\n",
    "            print(f'First epoch took {time_took:.1f} minutes.')\n",
    "        print(f'Epoch {epoch+1}/{EPOCHS}, Train_Loss: {train_loss:.2f}, Avg: {avg_train_loss:.2f}')\n",
    "              #; Val_Loss: {val_loss:.2f}, Avg: {avg_val_loss:.2f}')"
   ]
  },
  {
   "cell_type": "code",
   "execution_count": 8,
   "metadata": {},
   "outputs": [
    {
     "data": {
      "text/plain": [
       "<All keys matched successfully>"
      ]
     },
     "execution_count": 8,
     "metadata": {},
     "output_type": "execute_result"
    }
   ],
   "source": [
    "# load check point\n",
    "weights_file = '../models/save/ConvLSTMAutoencoder_hidden64_weights.pt'\n",
    "model.load_state_dict(torch.load(weights_file)['model_state_dict'])"
   ]
  },
  {
   "cell_type": "code",
   "execution_count": 9,
   "metadata": {},
   "outputs": [
    {
     "data": {
      "text/plain": [
       "torch.Size([1, 64, 128, 72])"
      ]
     },
     "execution_count": 9,
     "metadata": {},
     "output_type": "execute_result"
    }
   ],
   "source": [
    "for inputs, targets in train_loader:\n",
    "        # inputs, targets = inputs.to(device), targets.to(device)\n",
    "        inputs, targets = inputs.to(torch.float32), targets.to(torch.float32)\n",
    "        # forward pass\n",
    "        video_embed = model.getembedding(inputs)\n",
    "        break\n",
    "video_embed.size()"
   ]
  },
  {
   "cell_type": "code",
   "execution_count": 10,
   "metadata": {},
   "outputs": [
    {
     "data": {
      "text/plain": [
       "torch.Size([1, 64, 9216])"
      ]
     },
     "execution_count": 10,
     "metadata": {},
     "output_type": "execute_result"
    }
   ],
   "source": [
    "video_embed.view(1, 64, -1).size()"
   ]
  },
  {
   "cell_type": "code",
   "execution_count": 11,
   "metadata": {},
   "outputs": [
    {
     "data": {
      "text/plain": [
       "torch.Size([1, 1])"
      ]
     },
     "execution_count": 11,
     "metadata": {},
     "output_type": "execute_result"
    }
   ],
   "source": [
    "from models import TransformerModel22\n",
    "model2 = TransformerModel22(\n",
    "d_model = 9216,\n",
    "nhead = 8,\n",
    "d_hid = 256,\n",
    "nlayers = 6\n",
    ")\n",
    "\n",
    "model2.forward(video_embed).size()\n"
   ]
  },
  {
   "cell_type": "code",
   "execution_count": 12,
   "metadata": {},
   "outputs": [
    {
     "name": "stdout",
     "output_type": "stream",
     "text": [
      "tensor([[-0.0650]], grad_fn=<AddmmBackward0>)\n",
      "tensor([[289.1715]], grad_fn=<AddmmBackward0>)\n",
      "tensor([[1696.4816]], grad_fn=<AddmmBackward0>)\n",
      "tensor([[3347.6582]], grad_fn=<AddmmBackward0>)\n",
      "tensor([[6118.5073]], grad_fn=<AddmmBackward0>)\n",
      "tensor([[5902.8389]], grad_fn=<AddmmBackward0>)\n",
      "tensor([[4469.4038]], grad_fn=<AddmmBackward0>)\n"
     ]
    },
    {
     "ename": "KeyboardInterrupt",
     "evalue": "",
     "output_type": "error",
     "traceback": [
      "\u001b[0;31m---------------------------------------------------------------------------\u001b[0m",
      "\u001b[0;31mKeyboardInterrupt\u001b[0m                         Traceback (most recent call last)",
      "Cell \u001b[0;32mIn [12], line 10\u001b[0m\n\u001b[1;32m      8\u001b[0m outputs \u001b[38;5;241m=\u001b[39m model2(video_embed)\n\u001b[1;32m      9\u001b[0m loss \u001b[38;5;241m=\u001b[39m criterion2(outputs, targets)\n\u001b[0;32m---> 10\u001b[0m \u001b[43mloss\u001b[49m\u001b[38;5;241;43m.\u001b[39;49m\u001b[43mbackward\u001b[49m\u001b[43m(\u001b[49m\u001b[43m)\u001b[49m\n\u001b[1;32m     11\u001b[0m optimizer2\u001b[38;5;241m.\u001b[39mstep()\n\u001b[1;32m     13\u001b[0m \u001b[38;5;28;01mif\u001b[39;00m i \u001b[38;5;241m%\u001b[39m \u001b[38;5;241m1\u001b[39m \u001b[38;5;241m==\u001b[39m \u001b[38;5;241m0\u001b[39m:\n",
      "File \u001b[0;32m~/.local/lib/python3.10/site-packages/torch/_tensor.py:487\u001b[0m, in \u001b[0;36mTensor.backward\u001b[0;34m(self, gradient, retain_graph, create_graph, inputs)\u001b[0m\n\u001b[1;32m    477\u001b[0m \u001b[38;5;28;01mif\u001b[39;00m has_torch_function_unary(\u001b[38;5;28mself\u001b[39m):\n\u001b[1;32m    478\u001b[0m     \u001b[38;5;28;01mreturn\u001b[39;00m handle_torch_function(\n\u001b[1;32m    479\u001b[0m         Tensor\u001b[38;5;241m.\u001b[39mbackward,\n\u001b[1;32m    480\u001b[0m         (\u001b[38;5;28mself\u001b[39m,),\n\u001b[0;32m   (...)\u001b[0m\n\u001b[1;32m    485\u001b[0m         inputs\u001b[38;5;241m=\u001b[39minputs,\n\u001b[1;32m    486\u001b[0m     )\n\u001b[0;32m--> 487\u001b[0m \u001b[43mtorch\u001b[49m\u001b[38;5;241;43m.\u001b[39;49m\u001b[43mautograd\u001b[49m\u001b[38;5;241;43m.\u001b[39;49m\u001b[43mbackward\u001b[49m\u001b[43m(\u001b[49m\n\u001b[1;32m    488\u001b[0m \u001b[43m    \u001b[49m\u001b[38;5;28;43mself\u001b[39;49m\u001b[43m,\u001b[49m\u001b[43m \u001b[49m\u001b[43mgradient\u001b[49m\u001b[43m,\u001b[49m\u001b[43m \u001b[49m\u001b[43mretain_graph\u001b[49m\u001b[43m,\u001b[49m\u001b[43m \u001b[49m\u001b[43mcreate_graph\u001b[49m\u001b[43m,\u001b[49m\u001b[43m \u001b[49m\u001b[43minputs\u001b[49m\u001b[38;5;241;43m=\u001b[39;49m\u001b[43minputs\u001b[49m\n\u001b[1;32m    489\u001b[0m \u001b[43m\u001b[49m\u001b[43m)\u001b[49m\n",
      "File \u001b[0;32m~/.local/lib/python3.10/site-packages/torch/autograd/__init__.py:200\u001b[0m, in \u001b[0;36mbackward\u001b[0;34m(tensors, grad_tensors, retain_graph, create_graph, grad_variables, inputs)\u001b[0m\n\u001b[1;32m    195\u001b[0m     retain_graph \u001b[38;5;241m=\u001b[39m create_graph\n\u001b[1;32m    197\u001b[0m \u001b[38;5;66;03m# The reason we repeat same the comment below is that\u001b[39;00m\n\u001b[1;32m    198\u001b[0m \u001b[38;5;66;03m# some Python versions print out the first line of a multi-line function\u001b[39;00m\n\u001b[1;32m    199\u001b[0m \u001b[38;5;66;03m# calls in the traceback and some print out the last line\u001b[39;00m\n\u001b[0;32m--> 200\u001b[0m \u001b[43mVariable\u001b[49m\u001b[38;5;241;43m.\u001b[39;49m\u001b[43m_execution_engine\u001b[49m\u001b[38;5;241;43m.\u001b[39;49m\u001b[43mrun_backward\u001b[49m\u001b[43m(\u001b[49m\u001b[43m  \u001b[49m\u001b[38;5;66;43;03m# Calls into the C++ engine to run the backward pass\u001b[39;49;00m\n\u001b[1;32m    201\u001b[0m \u001b[43m    \u001b[49m\u001b[43mtensors\u001b[49m\u001b[43m,\u001b[49m\u001b[43m \u001b[49m\u001b[43mgrad_tensors_\u001b[49m\u001b[43m,\u001b[49m\u001b[43m \u001b[49m\u001b[43mretain_graph\u001b[49m\u001b[43m,\u001b[49m\u001b[43m \u001b[49m\u001b[43mcreate_graph\u001b[49m\u001b[43m,\u001b[49m\u001b[43m \u001b[49m\u001b[43minputs\u001b[49m\u001b[43m,\u001b[49m\n\u001b[1;32m    202\u001b[0m \u001b[43m    \u001b[49m\u001b[43mallow_unreachable\u001b[49m\u001b[38;5;241;43m=\u001b[39;49m\u001b[38;5;28;43;01mTrue\u001b[39;49;00m\u001b[43m,\u001b[49m\u001b[43m \u001b[49m\u001b[43maccumulate_grad\u001b[49m\u001b[38;5;241;43m=\u001b[39;49m\u001b[38;5;28;43;01mTrue\u001b[39;49;00m\u001b[43m)\u001b[49m\n",
      "\u001b[0;31mKeyboardInterrupt\u001b[0m: "
     ]
    }
   ],
   "source": [
    "criterion2 = nn.MSELoss()\n",
    "optimizer2 = optim.Adam(model2.parameters(), lr=1e-3)\n",
    "model2.train()\n",
    "targets = torch.tensor([[5000.0]])\n",
    "for i in range(100):\n",
    "    \n",
    "    optimizer2.zero_grad()\n",
    "    outputs = model2(video_embed)\n",
    "    loss = criterion2(outputs, targets)\n",
    "    loss.backward()\n",
    "    optimizer2.step()\n",
    "    \n",
    "    if i % 1 == 0:\n",
    "        print(outputs)"
   ]
  },
  {
   "cell_type": "raw",
   "metadata": {},
   "source": [
    "# save model if better or not exists\n",
    "model_weights = {'model_state_dict': model.state_dict(), 'val_loss': avg_train_loss}\n",
    "weights_file = '../models/save/ConvLSTMAutoencoder_hidden64_weights.pt'\n",
    "if not os.path.isfile(weights_file):\n",
    "    # save new\n",
    "    torch.save(model_weights, weights_file)\n",
    "elif model_weights['val_loss'] < torch.load(weights_file)['val_loss']:\n",
    "    # replace\n",
    "    torch.save(model_weights, weights_file)"
   ]
  },
  {
   "cell_type": "raw",
   "metadata": {},
   "source": [
    "import matplotlib.pyplot as plt\n",
    "\n",
    "# lost plot\n",
    "plt.plot(train_losses, label='Training Loss')\n",
    "#plt.plot(val_losses, label='Validation Loss')\n",
    "plt.xlabel('Epoch')\n",
    "plt.ylabel('Loss')\n",
    "plt.title('Training Loss')\n",
    "#plt.title('Training and Validation Loss')\n",
    "plt.legend()\n",
    "plt.show()"
   ]
  },
  {
   "cell_type": "code",
   "execution_count": null,
   "metadata": {},
   "outputs": [],
   "source": [
    "check = 1\n",
    "i = 0\n",
    "for inputs, targets in val_loader:\n",
    "    i += 1\n",
    "    if i == check:\n",
    "        inputs, targets = inputs.to(torch.float32), targets.to(torch.float32)\n",
    "        outputs = model(inputs)\n",
    "        break\n",
    "outputs.squeeze()[:,1,:,:]"
   ]
  },
  {
   "cell_type": "code",
   "execution_count": null,
   "metadata": {},
   "outputs": [],
   "source": [
    "outputs.squeeze().size()"
   ]
  },
  {
   "cell_type": "code",
   "execution_count": null,
   "metadata": {},
   "outputs": [],
   "source": [
    "from models import TransformerModel2\n",
    "model = ConvLSTMAutoencoder(hidden_dim=64, shrink=shrink, normalize=normalize)\n",
    "\n",
    "criterion = nn.MSELoss()\n",
    "optimizer = optim.Adam(model.parameters(), lr=1e-4)\n",
    "\n",
    "total_params = sum(p.numel() for p in model.parameters() if p.requires_grad)\n",
    "print(f\"Total parameters: {total_params:,}\")\n"
   ]
  },
  {
   "cell_type": "code",
   "execution_count": null,
   "metadata": {},
   "outputs": [],
   "source": [
    "import torch\n",
    "import matplotlib.pyplot as plt\n",
    "for i in range(3):\n",
    "    # select a frame\n",
    "    image_tensor = targets.squeeze()[:,i,:,:]\n",
    "    numpy_image = image_tensor.detach().numpy()\n",
    "\n",
    "    # imshow (Height, Width, Channels)\n",
    "    numpy_image = numpy_image.transpose((1, 2, 0))\n",
    "\n",
    "    # normalize to 0,1\n",
    "    numpy_image = (numpy_image - numpy_image.min()) / (numpy_image.max() - numpy_image.min())\n",
    "\n",
    "    plt.imshow(numpy_image)\n",
    "    plt.show()"
   ]
  },
  {
   "cell_type": "code",
   "execution_count": null,
   "metadata": {},
   "outputs": [],
   "source": [
    "import torch\n",
    "import matplotlib.pyplot as plt\n",
    "\n",
    "for i in range(3):\n",
    "    # select a frame\n",
    "    image_tensor = outputs.squeeze()[:,i,:,:]\n",
    "    numpy_image = image_tensor.detach().numpy()\n",
    "\n",
    "    # imshow (Height, Width, Channels)\n",
    "    numpy_image = numpy_image.transpose((1, 2, 0))\n",
    "\n",
    "    # normalize to 0,1\n",
    "    numpy_image = (numpy_image - numpy_image.min()) / (numpy_image.max() - numpy_image.min())\n",
    "\n",
    "    plt.imshow(numpy_image)\n",
    "    plt.show()"
   ]
  },
  {
   "cell_type": "code",
   "execution_count": null,
   "metadata": {},
   "outputs": [],
   "source": [
    "check = 7\n",
    "i = 0\n",
    "for inputs, targets in val_loader:\n",
    "    i += 1\n",
    "    if i == check:\n",
    "        inputs, targets = inputs.to(torch.float32), targets.to(torch.float32)\n",
    "        outputs = model(inputs)\n",
    "        break\n",
    "outputs.squeeze()[:,1,:,:]"
   ]
  },
  {
   "cell_type": "code",
   "execution_count": null,
   "metadata": {},
   "outputs": [],
   "source": [
    "import torch\n",
    "import matplotlib.pyplot as plt\n",
    "for i in range(10):\n",
    "    # select a frame\n",
    "    image_tensor = targets.squeeze()[:,i,:,:]\n",
    "    numpy_image = image_tensor.detach().numpy()\n",
    "\n",
    "    # imshow (Height, Width, Channels)\n",
    "    numpy_image = numpy_image.transpose((1, 2, 0))\n",
    "\n",
    "    # normalize to 0,1\n",
    "    numpy_image = (numpy_image - numpy_image.min()) / (numpy_image.max() - numpy_image.min())\n",
    "\n",
    "    plt.imshow(numpy_image)\n",
    "    plt.show()"
   ]
  },
  {
   "cell_type": "code",
   "execution_count": null,
   "metadata": {},
   "outputs": [],
   "source": [
    "import torch\n",
    "import matplotlib.pyplot as plt\n",
    "\n",
    "for i in range(10):\n",
    "    # select a frame\n",
    "    image_tensor = outputs.squeeze()[:,i,:,:]\n",
    "    numpy_image = image_tensor.detach().numpy()\n",
    "\n",
    "    # imshow (Height, Width, Channels)\n",
    "    numpy_image = numpy_image.transpose((1, 2, 0))\n",
    "\n",
    "    # normalize to 0,1\n",
    "    numpy_image = (numpy_image - numpy_image.min()) / (numpy_image.max() - numpy_image.min())\n",
    "\n",
    "    plt.imshow(numpy_image)\n",
    "    plt.show()"
   ]
  }
 ],
 "metadata": {
  "kernelspec": {
   "display_name": "Python 3 (ipykernel)",
   "language": "python",
   "name": "python3"
  },
  "language_info": {
   "codemirror_mode": {
    "name": "ipython",
    "version": 3
   },
   "file_extension": ".py",
   "mimetype": "text/x-python",
   "name": "python",
   "nbconvert_exporter": "python",
   "pygments_lexer": "ipython3",
   "version": "3.10.6"
  }
 },
 "nbformat": 4,
 "nbformat_minor": 4
}

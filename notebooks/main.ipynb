{
 "cells": [
  {
   "cell_type": "code",
   "execution_count": 7,
   "metadata": {},
   "outputs": [],
   "source": [
    "import torch\n",
    "import torch.nn as nn\n",
    "import torch.optim as optim\n",
    "from torch.utils.data import DataLoader, TensorDataset\n",
    "from tqdm import tqdm\n",
    "from sklearn.model_selection import train_test_split\n",
    "import os\n",
    "\n",
    "# Inside the /Multimodal-Deep-Regression/notebooks\n",
    "import sys\n",
    "sys.path.append(\"..\")\n",
    "\n",
    "from util.utilities import train, evaluate, get_device\n",
    "\n",
    "# import all the models from models module\n",
    "from models import CNN3D"
   ]
  },
  {
   "cell_type": "code",
   "execution_count": 8,
   "metadata": {},
   "outputs": [
    {
     "data": {
      "text/plain": [
       "'c:\\\\Users\\\\ahmed\\\\Documents\\\\DeepLearningSummer\\\\Multimodal-Deep-Regression\\\\notebooks'"
      ]
     },
     "execution_count": 8,
     "metadata": {},
     "output_type": "execute_result"
    }
   ],
   "source": [
    "# Current Path\n",
    "os.getcwd()"
   ]
  },
  {
   "cell_type": "code",
   "execution_count": 9,
   "metadata": {},
   "outputs": [],
   "source": [
    "# preprocessing data\n",
    "# (Batch, Channels, Frames, Height, Width)\n",
    "# B x C x D x H x W"
   ]
  },
  {
   "cell_type": "code",
   "execution_count": 10,
   "metadata": {},
   "outputs": [
    {
     "name": "stdout",
     "output_type": "stream",
     "text": [
      "You are using device: cuda\n"
     ]
    }
   ],
   "source": [
    "# Check device availability\n",
    "device = get_device()"
   ]
  },
  {
   "cell_type": "code",
   "execution_count": 11,
   "metadata": {},
   "outputs": [
    {
     "name": "stderr",
     "output_type": "stream",
     "text": [
      "100%|██████████| 10/10 [00:09<00:00,  1.09it/s]\n"
     ]
    }
   ],
   "source": [
    "x_file_path = \"../data/gen_data_x.pt\"\n",
    "y_file_path = \"../data/gen_data_y.pt\"\n",
    "\n",
    "x_data = []\n",
    "y_data = []\n",
    "\n",
    "# Save the x & y tensors\n",
    "with open(x_file_path, 'wb') as x_file, open(y_file_path, 'wb') as y_file:\n",
    "    for _ in tqdm(range(10)):\n",
    "        x = torch.randint(0, 255, (3, 20, 1024, 576))#, dtype=torch.uint8)\n",
    "        y = x.to(torch.float32).mean() * 100\n",
    "        x_data.append(x.tolist())\n",
    "        y_data.append(y)\n",
    "    \n",
    "    x_data = torch.tensor(x_data)\n",
    "    y_data = torch.tensor(y_data)\n",
    "    # add a dim\n",
    "    y_data = y_data.unsqueeze(1)\n",
    "    \n",
    "    torch.save(x_data, x_file)\n",
    "    torch.save(y_data, y_file)"
   ]
  },
  {
   "cell_type": "code",
   "execution_count": 12,
   "metadata": {},
   "outputs": [
    {
     "name": "stdout",
     "output_type": "stream",
     "text": [
      "torch.Size([8, 3, 20, 1024, 576])\n",
      "torch.Size([2, 3, 20, 1024, 576])\n",
      "torch.Size([8, 1])\n",
      "torch.Size([2, 1])\n"
     ]
    }
   ],
   "source": [
    "x_file_path = \"../data/gen_data_x.pt\"\n",
    "y_file_path = \"../data/gen_data_y.pt\"\n",
    "\n",
    "# Load the tensors\n",
    "x_data = torch.load(x_file_path)\n",
    "y_data = torch.load(y_file_path)\n",
    "\n",
    "# Split the data\n",
    "x_train, x_val, y_train, y_val = train_test_split(x_data, y_data, test_size=0.2, shuffle=False)\n",
    "print(x_train.size())\n",
    "print(x_val.size())\n",
    "print(y_train.size())\n",
    "print(y_val.size())"
   ]
  },
  {
   "cell_type": "code",
   "execution_count": 13,
   "metadata": {},
   "outputs": [],
   "source": [
    "# Create Batches with DataLoaders\n",
    "batch_size = 2\n",
    "train_dataset = TensorDataset(x_train, y_train)\n",
    "val_dataset = TensorDataset(x_val, y_val)\n",
    "train_loader = DataLoader(train_dataset, batch_size=batch_size, shuffle=True)\n",
    "val_loader = DataLoader(val_dataset, batch_size=batch_size, shuffle=False)"
   ]
  },
  {
   "cell_type": "code",
   "execution_count": 15,
   "metadata": {},
   "outputs": [
    {
     "name": "stdout",
     "output_type": "stream",
     "text": [
      "Total parameters: 23594273\n",
      "Epoch 1/100, Train_Loss: 2343581697920.00, Avg: 585895424480.00; Val_Loss: 836651188224.00, Avg: 836651188224.00\n",
      "Epoch 10/100, Train_Loss: 7979719040.00, Avg: 1994929760.00; Val_Loss: 3155422720.00, Avg: 3155422720.00\n",
      "Epoch 20/100, Train_Loss: 272507016.00, Avg: 68126754.00; Val_Loss: 193070.59, Avg: 193070.59\n",
      "Epoch 30/100, Train_Loss: 119237278.62, Avg: 29809319.66; Val_Loss: 1603451.00, Avg: 1603451.00\n",
      "Epoch 40/100, Train_Loss: 68215846.75, Avg: 17053961.69; Val_Loss: 500681.53, Avg: 500681.53\n",
      "Epoch 50/100, Train_Loss: 36873187.00, Avg: 9218296.75; Val_Loss: 281068.28, Avg: 281068.28\n",
      "Epoch 60/100, Train_Loss: 19109161.81, Avg: 4777290.45; Val_Loss: 521081.00, Avg: 521081.00\n",
      "Epoch 70/100, Train_Loss: 8984697.36, Avg: 2246174.34; Val_Loss: 108663.15, Avg: 108663.15\n",
      "Epoch 80/100, Train_Loss: 4146607.09, Avg: 1036651.77; Val_Loss: 180260.98, Avg: 180260.98\n",
      "Epoch 90/100, Train_Loss: 1741950.58, Avg: 435487.64; Val_Loss: 203219.39, Avg: 203219.39\n",
      "Epoch 100/100, Train_Loss: 712818.64, Avg: 178204.66; Val_Loss: 171549.69, Avg: 171549.69\n"
     ]
    }
   ],
   "source": [
    "model = CNN3D()\n",
    "criterion = nn.MSELoss()\n",
    "optimizer = optim.Adam(model.parameters())#, lr=0.01)\n",
    "\n",
    "total_params = sum(p.numel() for p in model.parameters())\n",
    "print(f\"Total parameters: {total_params}\")\n",
    "\n",
    "num_epochs = 100\n",
    "\n",
    "train_losses = []\n",
    "val_losses = []\n",
    "\n",
    "for epoch in range(num_epochs):\n",
    "    train_loss, avg_train_loss = train(model, train_loader, criterion, optimizer, device)\n",
    "    val_loss, avg_val_loss = evaluate(model, val_loader, criterion, device)\n",
    "    \n",
    "    # record the losses\n",
    "    train_losses.append(avg_train_loss)\n",
    "    val_losses.append(avg_val_loss)\n",
    "\n",
    "    # print every num times epoch only\n",
    "    num = 10\n",
    "    if ((epoch+1) % num == 0) or epoch == 0:\n",
    "      print(f'Epoch {epoch+1}/{num_epochs}, Train_Loss: {train_loss:.2f}, Avg: {avg_train_loss:.2f}; Val_Loss: {val_loss:.2f}, Avg: {avg_val_loss:.2f}')"
   ]
  },
  {
   "cell_type": "code",
   "execution_count": 16,
   "metadata": {},
   "outputs": [
    {
     "data": {
      "image/png": "[encoded data removed]",
      "text/plain": [
       "<Figure size 640x480 with 1 Axes>"
      ]
     },
     "metadata": {},
     "output_type": "display_data"
    }
   ],
   "source": [
    "import matplotlib.pyplot as plt\n",
    "\n",
    "# lost plot\n",
    "plt.plot(train_losses, label='Training Loss')\n",
    "plt.plot(val_losses, label='Validation Loss')\n",
    "plt.xlabel('Epoch')\n",
    "plt.ylabel('Loss')\n",
    "plt.title('Training and Validation Loss')\n",
    "plt.legend()\n",
    "plt.show()"
   ]
  },
  {
   "cell_type": "code",
   "execution_count": 17,
   "metadata": {},
   "outputs": [],
   "source": [
    "# compare to validation set\n",
    "val_values = []\n",
    "predicted_values = []\n",
    "\n",
    "for inputs, targets in val_loader:\n",
    "    inputs, targets = inputs.to(torch.float32), targets.to(torch.float32)\n",
    "\n",
    "    # Forward pass\n",
    "    outputs = model(inputs)\n",
    "\n",
    "    # Append the values\n",
    "    val_values.extend(targets.tolist())\n",
    "    predicted_values.extend(outputs.tolist())"
   ]
  },
  {
   "cell_type": "code",
   "execution_count": 18,
   "metadata": {},
   "outputs": [
    {
     "data": {
      "image/png": "[encoded data removed]",
      "text/plain": [
       "<Figure size 640x480 with 1 Axes>"
      ]
     },
     "metadata": {},
     "output_type": "display_data"
    }
   ],
   "source": [
    "import matplotlib.pyplot as plt\n",
    "\n",
    "plt.plot(val_values, label='Test Values')\n",
    "plt.plot(predicted_values, label='Predicted Values')\n",
    "plt.xlabel('Sample Index')\n",
    "plt.ylabel('Value')\n",
    "plt.title('Test vs Predicted Values')\n",
    "plt.legend()\n",
    "plt.show()"
   ]
  },
  {
   "cell_type": "code",
   "execution_count": 19,
   "metadata": {},
   "outputs": [
    {
     "data": {
      "text/plain": [
       "([[12699.6728515625], [12703.498046875]],\n",
       " [[12288.8095703125], [12286.0166015625]])"
      ]
     },
     "execution_count": 19,
     "metadata": {},
     "output_type": "execute_result"
    }
   ],
   "source": [
    "val_values, predicted_values"
   ]
  }
 ],
 "metadata": {
  "kernelspec": {
   "display_name": "Python 3 (ipykernel)",
   "language": "python",
   "name": "python3"
  },
  "language_info": {
   "codemirror_mode": {
    "name": "ipython",
    "version": 3
   },
   "file_extension": ".py",
   "mimetype": "text/x-python",
   "name": "python",
   "nbconvert_exporter": "python",
   "pygments_lexer": "ipython3",
   "version": "3.10.6"
  }
 },
 "nbformat": 4,
 "nbformat_minor": 4
}

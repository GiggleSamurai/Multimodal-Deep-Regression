{
 "cells": [
  {
   "cell_type": "code",
   "execution_count": 1,
   "metadata": {},
   "outputs": [],
   "source": [
    "import torch\n",
    "import torch.nn as nn\n",
    "import torch.optim as optim\n",
    "from torch.utils.data import DataLoader, TensorDataset\n",
    "from tqdm import tqdm\n",
    "from sklearn.model_selection import train_test_split\n",
    "import os\n",
    "import random\n",
    "import time\n",
    "\n",
    "# Inside the /Multimodal-Deep-Regression/notebooks\n",
    "import sys\n",
    "sys.path.append(\"..\")\n",
    "\n",
    "from util.utilities import train, evaluate, get_device\n",
    "from util.data_utilities import get_base_tensor_directories, generate_batch\n",
    "from util.data_utilities import process_data"
   ]
  },
  {
   "cell_type": "code",
   "execution_count": 2,
   "metadata": {},
   "outputs": [
    {
     "data": {
      "text/plain": [
       "'/home/louis/Documents/gatech/Summer2023/Multimodal-Deep-Regression/notebooks'"
      ]
     },
     "execution_count": 2,
     "metadata": {},
     "output_type": "execute_result"
    }
   ],
   "source": [
    "# Current Path\n",
    "os.getcwd()"
   ]
  },
  {
   "cell_type": "code",
   "execution_count": 3,
   "metadata": {},
   "outputs": [
    {
     "name": "stdout",
     "output_type": "stream",
     "text": [
      "You are using device: cuda\n"
     ]
    }
   ],
   "source": [
    "device = get_device()\n",
    "x_dir, y_dir = get_base_tensor_directories(input_type='video_pack_1000')\n",
    "\n",
    "x_files = sorted([os.path.join(x_dir, f) for f in os.listdir(x_dir)])\n",
    "y_files = sorted([os.path.join(y_dir, f) for f in os.listdir(y_dir)])"
   ]
  },
  {
   "cell_type": "code",
   "execution_count": 4,
   "metadata": {},
   "outputs": [
    {
     "name": "stdout",
     "output_type": "stream",
     "text": [
      "torch.Size([3, 3, 128, 72])\n",
      "torch.Size([3, 3, 128, 72])\n",
      "80\n",
      "20\n"
     ]
    }
   ],
   "source": [
    "# load all tensors\n",
    "x_data = [torch.load(f) for f in x_files]\n",
    "y_data = [torch.load(f) for f in y_files]\n",
    "\n",
    "# Split the data\n",
    "x_train, x_val, y_train, y_val = train_test_split(x_data, y_data, test_size=0.2, shuffle=False)\n",
    "print(x_train[0].size())\n",
    "print(x_val[0].size())\n",
    "print(len(y_train))\n",
    "print(len(y_val))"
   ]
  },
  {
   "cell_type": "code",
   "execution_count": 5,
   "metadata": {},
   "outputs": [
    {
     "data": {
      "text/plain": [
       "(torch.Size([1, 3, 3, 128, 72]), torch.Size([1, 3, 3, 128, 72]))"
      ]
     },
     "execution_count": 5,
     "metadata": {},
     "output_type": "execute_result"
    }
   ],
   "source": [
    "# Create Batches with DataLoaders\n",
    "batch_size = 1\n",
    "train_loader = list(zip(x_train, x_train)) #TensorDataset(x_train, y_train)\n",
    "val_loader = list(zip(x_val, x_val)) #TensorDataset(x_val, y_val)\n",
    "train_loader = DataLoader(train_loader, batch_size=batch_size, shuffle=True)\n",
    "val_loader = DataLoader(val_loader, batch_size=batch_size, shuffle=False)\n",
    "\n",
    "data, targets = next(iter(train_loader))\n",
    "data.size(), targets.size()"
   ]
  },
  {
   "cell_type": "code",
   "execution_count": 6,
   "metadata": {},
   "outputs": [],
   "source": [
    "# This need to same as the main & preprocess\n",
    "frames_to_skip=200 # how many frame to skip, reduce depth\n",
    "shrink=8 # shrink H x W, the higher the smaller scale\n",
    "normalize=False # normalize the pixel to 0 to 1"
   ]
  },
  {
   "cell_type": "code",
   "execution_count": 7,
   "metadata": {},
   "outputs": [
    {
     "name": "stdout",
     "output_type": "stream",
     "text": [
      "Total parameters: 1,041,859\n"
     ]
    }
   ],
   "source": [
    "from models import ConvLSTMAutoencoder\n",
    "model = ConvLSTMAutoencoder(hidden_dim=64, shrink=shrink, normalize=normalize)\n",
    "\n",
    "criterion = nn.MSELoss()\n",
    "optimizer = optim.Adam(model.parameters(), lr=1e-4)\n",
    "\n",
    "total_params = sum(p.numel() for p in model.parameters() if p.requires_grad)\n",
    "print(f\"Total parameters: {total_params:,}\")\n"
   ]
  },
  {
   "cell_type": "code",
   "execution_count": 8,
   "metadata": {},
   "outputs": [
    {
     "data": {
      "text/plain": [
       "<All keys matched successfully>"
      ]
     },
     "execution_count": 8,
     "metadata": {},
     "output_type": "execute_result"
    }
   ],
   "source": [
    "# load check point\n",
    "weights_file = '../models/save/ConvLSTMAutoencoder_hidden64_weights.pt'\n",
    "model.load_state_dict(torch.load(weights_file)['model_state_dict'])"
   ]
  },
  {
   "cell_type": "code",
   "execution_count": 9,
   "metadata": {},
   "outputs": [
    {
     "data": {
      "text/plain": [
       "torch.Size([1, 64, 128, 72])"
      ]
     },
     "execution_count": 9,
     "metadata": {},
     "output_type": "execute_result"
    }
   ],
   "source": [
    "for inputs, targets in train_loader:\n",
    "        # inputs, targets = inputs.to(device), targets.to(device)\n",
    "        inputs, targets = inputs.to(torch.float32), targets.to(torch.float32)\n",
    "        # forward pass\n",
    "        video_embed = model.getembedding(inputs).detach()\n",
    "        break\n",
    "video_embed.size()"
   ]
  },
  {
   "cell_type": "code",
   "execution_count": 10,
   "metadata": {},
   "outputs": [
    {
     "data": {
      "text/plain": [
       "torch.Size([1, 64, 9216])"
      ]
     },
     "execution_count": 10,
     "metadata": {},
     "output_type": "execute_result"
    }
   ],
   "source": [
    "video_embed.view(1, 64, -1).size()"
   ]
  },
  {
   "cell_type": "code",
   "execution_count": 11,
   "metadata": {},
   "outputs": [
    {
     "name": "stdout",
     "output_type": "stream",
     "text": [
      "torch.Size([1, 7, 512])\n"
     ]
    }
   ],
   "source": [
    "ae_dir = \"../data/audio_embeddings/\"\n",
    "\n",
    "ae_files = sorted([os.path.join(ae_dir, f) for f in os.listdir(ae_dir)])\n",
    "\n",
    "# first 50\n",
    "ae_files = ae_files[0:50]\n",
    "\n",
    "# load all tensors\n",
    "ae_data = [torch.load(f) for f in ae_files]\n",
    "\n",
    "avg_tensors = [torch.mean(x[0], dim=2) for x in ae_data]\n",
    "\n",
    "for tensor in avg_tensors: \n",
    "    print(tensor.size())\n",
    "    audio_embed = tensor\n",
    "    break"
   ]
  },
  {
   "cell_type": "code",
   "execution_count": 12,
   "metadata": {},
   "outputs": [
    {
     "name": "stdout",
     "output_type": "stream",
     "text": [
      "Total parameters: 2,227,312,129\n"
     ]
    }
   ],
   "source": [
    "from models import TransformerModel_Visual, TransformerModel_Audio, EnsembleModel\n",
    "\n",
    "model1 = TransformerModel_Visual(\n",
    "d_model = 9216,\n",
    "nhead = 8,\n",
    "d_hid = 256,\n",
    "nlayers = 6\n",
    ")\n",
    "\n",
    "model2 = TransformerModel_Audio(\n",
    "d_model = 512,\n",
    "nhead = 8,\n",
    "d_hid = 256,\n",
    "nlayers = 6\n",
    ")\n",
    "\n",
    "ensemble_model = EnsembleModel(model1,model2)\n",
    "total_params = sum(p.numel() for p in ensemble_model.parameters() if p.requires_grad)\n",
    "print(f\"Total parameters: {total_params:,}\")"
   ]
  },
  {
   "cell_type": "code",
   "execution_count": 13,
   "metadata": {},
   "outputs": [
    {
     "name": "stdout",
     "output_type": "stream",
     "text": [
      "Epoch 0 tensor([[-0.0948]], grad_fn=<AddmmBackward0>)\n",
      "Epoch 10 tensor([[4866.5200]], grad_fn=<AddmmBackward0>)\n",
      "Epoch 20 tensor([[5297.0078]], grad_fn=<AddmmBackward0>)\n",
      "Epoch 30 tensor([[5299.2339]], grad_fn=<AddmmBackward0>)\n",
      "Epoch 40 tensor([[5303.9688]], grad_fn=<AddmmBackward0>)\n",
      "Epoch 50 tensor([[4752.7612]], grad_fn=<AddmmBackward0>)\n",
      "Epoch 60 tensor([[4709.8853]], grad_fn=<AddmmBackward0>)\n",
      "Epoch 70 tensor([[5684.1709]], grad_fn=<AddmmBackward0>)\n",
      "Epoch 80 tensor([[4942.8174]], grad_fn=<AddmmBackward0>)\n",
      "Epoch 90 tensor([[5050.4224]], grad_fn=<AddmmBackward0>)\n"
     ]
    }
   ],
   "source": [
    "criterion = nn.MSELoss()\n",
    "optimizer = optim.Adam(ensemble_model.parameters())\n",
    "ensemble_model.train()\n",
    "\n",
    "targets = torch.tensor([[5000.0]])\n",
    "\n",
    "for i in range(100):\n",
    "    optimizer.zero_grad()\n",
    "    outputs = ensemble_model(video_embed, audio_embed)\n",
    "    loss = criterion(outputs, targets)\n",
    "    loss.backward()\n",
    "    optimizer.step()\n",
    "    if i % 10 == 0:\n",
    "        print(f'Epoch {i}',outputs)\n"
   ]
  },
  {
   "cell_type": "code",
   "execution_count": null,
   "metadata": {},
   "outputs": [],
   "source": []
  }
 ],
 "metadata": {
  "kernelspec": {
   "display_name": "Python 3 (ipykernel)",
   "language": "python",
   "name": "python3"
  },
  "language_info": {
   "codemirror_mode": {
    "name": "ipython",
    "version": 3
   },
   "file_extension": ".py",
   "mimetype": "text/x-python",
   "name": "python",
   "nbconvert_exporter": "python",
   "pygments_lexer": "ipython3",
   "version": "3.10.6"
  }
 },
 "nbformat": 4,
 "nbformat_minor": 4
}

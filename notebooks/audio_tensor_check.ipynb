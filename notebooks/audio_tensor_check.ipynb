{
 "cells": [
  {
   "cell_type": "code",
   "execution_count": 1,
   "id": "f7fc872b-d8f4-41bb-8e9a-7eb1b1393f68",
   "metadata": {},
   "outputs": [],
   "source": [
    "import torch\n",
    "import torch.nn as nn\n",
    "import torch.optim as optim\n",
    "from torch.utils.data import DataLoader, TensorDataset\n",
    "from tqdm import tqdm\n",
    "from sklearn.model_selection import train_test_split\n",
    "import os\n",
    "import random\n",
    "import time\n",
    "\n",
    "# Inside the /Multimodal-Deep-Regression/notebooks\n",
    "import sys\n",
    "sys.path.append(\"..\")\n",
    "\n",
    "from util.utilities import train, evaluate"
   ]
  },
  {
   "cell_type": "code",
   "execution_count": 2,
   "id": "ccdc0b1f-9a86-4bb2-b558-793891f6456a",
   "metadata": {},
   "outputs": [
    {
     "name": "stdout",
     "output_type": "stream",
     "text": [
      "torch.Size([1, 7, 100, 512])\n",
      "torch.Size([1, 7, 250, 512])\n",
      "torch.Size([1, 7, 200, 512])\n",
      "torch.Size([1, 7, 350, 512])\n",
      "torch.Size([1, 7, 100, 512])\n",
      "torch.Size([1, 7, 300, 512])\n",
      "torch.Size([1, 7, 50, 512])\n",
      "torch.Size([1, 7, 78, 512])\n",
      "torch.Size([1, 7, 150, 512])\n",
      "torch.Size([1, 7, 125, 512])\n",
      "torch.Size([1, 7, 423, 512])\n",
      "torch.Size([1, 7, 55, 512])\n",
      "torch.Size([1, 7, 200, 512])\n",
      "torch.Size([1, 7, 750, 512])\n",
      "torch.Size([1, 7, 100, 512])\n",
      "torch.Size([1, 7, 150, 512])\n",
      "torch.Size([1, 7, 496, 512])\n",
      "torch.Size([1, 7, 100, 512])\n",
      "torch.Size([1, 7, 114, 512])\n",
      "torch.Size([1, 7, 100, 512])\n",
      "torch.Size([1, 7, 400, 512])\n",
      "torch.Size([1, 7, 260, 512])\n",
      "torch.Size([1, 7, 350, 512])\n",
      "torch.Size([1, 7, 590, 512])\n",
      "torch.Size([1, 7, 200, 512])\n",
      "torch.Size([1, 7, 100, 512])\n",
      "torch.Size([1, 7, 320, 512])\n",
      "torch.Size([1, 7, 100, 512])\n",
      "torch.Size([1, 7, 248, 512])\n",
      "torch.Size([1, 7, 169, 512])\n",
      "torch.Size([1, 7, 714, 512])\n",
      "torch.Size([1, 7, 250, 512])\n",
      "torch.Size([1, 7, 83, 512])\n",
      "torch.Size([1, 7, 388, 512])\n",
      "torch.Size([1, 7, 300, 512])\n",
      "torch.Size([1, 7, 140, 512])\n",
      "torch.Size([1, 7, 140, 512])\n",
      "torch.Size([1, 7, 156, 512])\n",
      "torch.Size([1, 7, 150, 512])\n",
      "torch.Size([1, 7, 700, 512])\n",
      "torch.Size([1, 7, 340, 512])\n",
      "torch.Size([1, 7, 350, 512])\n",
      "torch.Size([1, 7, 200, 512])\n",
      "torch.Size([1, 7, 202, 512])\n",
      "torch.Size([1, 7, 100, 512])\n",
      "torch.Size([1, 7, 780, 512])\n",
      "torch.Size([1, 7, 100, 512])\n",
      "torch.Size([1, 7, 190, 512])\n",
      "torch.Size([1, 7, 100, 512])\n",
      "torch.Size([1, 7, 40, 512])\n"
     ]
    }
   ],
   "source": [
    "ae_dir = \"../data/audio_embeddings/\"\n",
    "\n",
    "ae_files = sorted([os.path.join(ae_dir, f) for f in os.listdir(ae_dir)])\n",
    "\n",
    "# first 50\n",
    "ae_files = ae_files[0:50]\n",
    "\n",
    "# load all tensors\n",
    "ae_data = [torch.load(f) for f in ae_files]\n",
    "\n",
    "for item in ae_data: \n",
    "    print(item[0].size())"
   ]
  },
  {
   "cell_type": "code",
   "execution_count": 6,
   "id": "27a45832-5628-4d94-ace9-5e21f2d657f3",
   "metadata": {},
   "outputs": [
    {
     "name": "stdout",
     "output_type": "stream",
     "text": [
      "torch.Size([1, 7, 512])\n",
      "tensor([[[-0.1481, -0.1545, -0.0714,  ...,  1.0859,  1.3496,  1.0215],\n",
      "         [ 0.5181,  0.5786,  0.5317,  ...,  0.6748,  0.6392,  0.6504],\n",
      "         [ 0.5142,  0.5273,  0.6787,  ...,  0.4929,  0.6011,  0.5771],\n",
      "         ...,\n",
      "         [ 0.4675,  0.9316,  0.2844,  ...,  0.3926,  0.3569,  0.4138],\n",
      "         [ 1.4805,  0.8813, -0.0457,  ..., -0.0556,  0.2837,  0.6362],\n",
      "         [ 1.2627,  1.2441, -0.9243,  ...,  0.0993,  0.5723,  0.2445]]],\n",
      "       dtype=torch.float16)\n"
     ]
    }
   ],
   "source": [
    "avg_tensors = [torch.mean(x[0], dim=2) for x in ae_data]\n",
    "for tensor in avg_tensors: \n",
    "    print(tensor.size())\n",
    "    print(tensor)\n",
    "    break"
   ]
  },
  {
   "cell_type": "code",
   "execution_count": null,
   "id": "b3e00816-fc7b-42fc-8033-75cd2e5dd08d",
   "metadata": {},
   "outputs": [],
   "source": []
  }
 ],
 "metadata": {
  "kernelspec": {
   "display_name": "Python 3 (ipykernel)",
   "language": "python",
   "name": "python3"
  },
  "language_info": {
   "codemirror_mode": {
    "name": "ipython",
    "version": 3
   },
   "file_extension": ".py",
   "mimetype": "text/x-python",
   "name": "python",
   "nbconvert_exporter": "python",
   "pygments_lexer": "ipython3",
   "version": "3.10.6"
  }
 },
 "nbformat": 4,
 "nbformat_minor": 5
}

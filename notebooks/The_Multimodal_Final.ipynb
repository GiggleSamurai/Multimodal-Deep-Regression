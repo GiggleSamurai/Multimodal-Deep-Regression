{
 "cells": [
  {
   "cell_type": "code",
   "execution_count": 1,
   "metadata": {},
   "outputs": [],
   "source": [
    "import torch\n",
    "import torch.nn as nn\n",
    "import torch.optim as optim\n",
    "from torch.utils.data import DataLoader, TensorDataset\n",
    "from tqdm import tqdm\n",
    "from sklearn.model_selection import train_test_split\n",
    "import os\n",
    "import random\n",
    "import time\n",
    "import whisper\n",
    "import numpy\n",
    "\n",
    "# Inside the /Multimodal-Deep-Regression/notebooks\n",
    "import sys\n",
    "sys.path.append(\"..\")\n",
    "\n",
    "from util.utilities import train, evaluate, get_device\n",
    "from util.data_utilities import get_base_tensor_directories, generate_batch, process_data\n",
    "from util.audio_utilities import extract_embeddings, extract_audio"
   ]
  },
  {
   "cell_type": "code",
   "execution_count": 6,
   "metadata": {},
   "outputs": [],
   "source": [
    "# Preprocessing paramemter & ConvLSTMAutoencoder\n",
    "DATASET = 'video_pack_1000'\n",
    "FRAME_SKIP = 200 # how many frame to skip, reduce depth\n",
    "SHRINK = 8 # shrink the scale (H x W)//N\n",
    "NORMALIZE = False # normalize the pixel to 0 to 1\n",
    "PAD_ALL = False # pad all tensors with max depth\n",
    "BATCH_SIZE = 1"
   ]
  },
  {
   "cell_type": "code",
   "execution_count": null,
   "metadata": {},
   "outputs": [],
   "source": [
    "# ConvLSTMAutoencoder Hyper-Parameters\n",
    "LEARNING_RATE = 1e-4\n",
    "EPOCHS = 20\n",
    "HIDDEN_SIZE = 64 # ConvLSTMAutoencoder hidden size"
   ]
  },
  {
   "cell_type": "code",
   "execution_count": null,
   "metadata": {},
   "outputs": [],
   "source": [
    "# Transformer Visual & Audio Hyper-Parameters\n",
    "NUM_HEADS = 8 # number of attenion heads\n",
    "HIDDEN_DIM = 256 # Transformer hidden size\n",
    "NUM_LAYERS = 6 # number of Transformer layers\n",
    "\n",
    "# EnsembleModel Hyper-Parameters\n",
    "LEARNING = 1e-3\n",
    "THE_EPOCHS = 20\n",
    "AUDIO_TRANSFORMER = True # if False, will skip audio transfomer part\n",
    "LATE_FUSION = True # early fusion or Late fusion"
   ]
  },
  {
   "cell_type": "code",
   "execution_count": null,
   "metadata": {},
   "outputs": [],
   "source": [
    "# extract audio from video dataset\n",
    "extract_audio(f\"../data/{DATASET}/\", \"../data/audio/\")\n",
    "\n",
    "# using whipser to transcribe audio dialog & extract LLMs embedding\n",
    "extract_embeddings(audio_file_path=\"../data/audio/\", output_dir=\"../data/audio_embeddings/\")"
   ]
  },
  {
   "cell_type": "code",
   "execution_count": null,
   "metadata": {},
   "outputs": [],
   "source": [
    "# video visual processing\n",
    "process_data(\n",
    "    input_type=DATASET, \n",
    "    addition_parameters={'first_n_videos': 100}, \n",
    "    verbose=False,\n",
    "    device=get_device(),\n",
    "    skip_frames=FRAME_SKIP,\n",
    "    frames_to_skip=frames_to_skip,\n",
    "    shrink=SHRINK,\n",
    "    normalize=NORMALIZE\n",
    "    )"
   ]
  },
  {
   "cell_type": "code",
   "execution_count": 3,
   "metadata": {},
   "outputs": [
    {
     "name": "stdout",
     "output_type": "stream",
     "text": [
      "You are using device: cuda\n"
     ]
    }
   ],
   "source": [
    "device = get_device()\n",
    "x_dir, y_dir = get_base_tensor_directories(input_type=DATASET)\n",
    "\n",
    "x_files = sorted([os.path.join(x_dir, f) for f in os.listdir(x_dir)])\n",
    "y_files = sorted([os.path.join(y_dir, f) for f in os.listdir(y_dir)])"
   ]
  },
  {
   "cell_type": "code",
   "execution_count": 4,
   "metadata": {},
   "outputs": [
    {
     "name": "stdout",
     "output_type": "stream",
     "text": [
      "torch.Size([3, 3, 128, 72])\n",
      "torch.Size([3, 3, 128, 72])\n",
      "80\n",
      "20\n"
     ]
    }
   ],
   "source": [
    "# load all visual tensors\n",
    "x_data = [torch.load(f) for f in x_files]\n",
    "y_data = [torch.load(f) for f in y_files]\n",
    "\n",
    "# split the data\n",
    "x_train, x_val, y_train, y_val = train_test_split(x_data, y_data, test_size=0.2, shuffle=False)\n",
    "print(x_train[0].size())\n",
    "print(x_val[0].size())\n",
    "print(len(y_train))\n",
    "print(len(y_val))"
   ]
  },
  {
   "cell_type": "code",
   "execution_count": 5,
   "metadata": {},
   "outputs": [
    {
     "data": {
      "text/plain": [
       "(torch.Size([1, 3, 7, 128, 72]), torch.Size([1, 3, 7, 128, 72]))"
      ]
     },
     "execution_count": 5,
     "metadata": {},
     "output_type": "execute_result"
    }
   ],
   "source": [
    "# Create AutoEncoder Batches with DataLoaders\n",
    "batch_size = BATCH_SIZE\n",
    "train_loader = list(zip(x_train, x_train))\n",
    "val_loader = list(zip(x_val, x_val))\n",
    "train_loader = DataLoader(train_loader, batch_size=batch_size, shuffle=False)\n",
    "val_loader = DataLoader(val_loader, batch_size=batch_size, shuffle=False)\n",
    "\n",
    "# check size Batch, Channel, Frame, Height, Width\n",
    "data, targets = next(iter(train_loader))\n",
    "data.size(), targets.size()"
   ]
  },
  {
   "cell_type": "code",
   "execution_count": 7,
   "metadata": {},
   "outputs": [
    {
     "name": "stdout",
     "output_type": "stream",
     "text": [
      "Total parameters: 1,041,859\n"
     ]
    }
   ],
   "source": [
    "from models import ConvLSTMAutoencoder\n",
    "\n",
    "autoencoder = ConvLSTMAutoencoder(hidden_dim=HIDDEN_SIZE, shrink=shrink, normalize=normalize)\n",
    "criterion = nn.MSELoss()\n",
    "optimizer = optim.Adam(model.parameters(), lr=LEARNING_RATE)\n",
    "\n",
    "total_params = sum(p.numel() for p in model.parameters() if p.requires_grad)\n",
    "print(f\"Total parameters: {total_params:,}\")"
   ]
  },
  {
   "cell_type": "code",
   "execution_count": null,
   "metadata": {},
   "outputs": [],
   "source": [
    "ECHO = 1 # print in N epoch only when training\n",
    "SAVE_NAME = 'ConvLSTMAutoencoder_hidden64_weights' # save the weights"
   ]
  },
  {
   "cell_type": "raw",
   "metadata": {},
   "source": [
    "# load check point\n",
    "weights_file = f'../models/save/{SAVE_NAME}'\n",
    "model.load_state_dict(torch.load(weights_file)['model_state_dict'])"
   ]
  },
  {
   "cell_type": "code",
   "execution_count": null,
   "metadata": {},
   "outputs": [],
   "source": [
    "train_losses = []\n",
    "val_losses = []\n",
    "start_time = time.time()\n",
    "\n",
    "for epoch in range(EPOCHS):\n",
    "    train_loss, avg_train_loss = train(model, train_loader, criterion, optimizer)\n",
    "    val_loss, avg_val_loss = evaluate(model, val_loader, criterion)\n",
    "    \n",
    "    # record the losses\n",
    "    train_losses.append(avg_train_loss)\n",
    "    val_losses.append(avg_val_loss)\n",
    "\n",
    "    # print every num times epoch only\n",
    "    echo = ECHO\n",
    "    if ((epoch+1) % echo == 0) or epoch == 0:\n",
    "        if epoch == 0:\n",
    "            time_took = (time.time() - start_time) / 60\n",
    "            print(f'First epoch took {time_took:.1f} minutes.')\n",
    "        print(f'Epoch {epoch+1}/{EPOCHS}, Train_Loss: {train_loss:.2f}, Avg: {avg_train_loss:.2f}; Val_Loss: {val_loss:.2f}, Avg: {avg_val_loss:.2f}')"
   ]
  },
  {
   "cell_type": "code",
   "execution_count": null,
   "metadata": {},
   "outputs": [],
   "source": [
    "# save model if better or not exists\n",
    "model_weights = {'model_state_dict': model.state_dict(), 'val_loss': avg_train_loss}\n",
    "weights_file = f'../models/save/{SAVE_NAME}'\n",
    "if not os.path.isfile(weights_file):\n",
    "    # save new\n",
    "    torch.save(model_weights, weights_file)\n",
    "elif model_weights['val_loss'] < torch.load(weights_file)['val_loss']:\n",
    "    # replace\n",
    "    torch.save(model_weights, weights_file)"
   ]
  },
  {
   "cell_type": "code",
   "execution_count": null,
   "metadata": {},
   "outputs": [],
   "source": [
    "# loss plot\n",
    "plt.plot(train_losses, label='Training Loss')\n",
    "plt.plot(val_losses, label='Validation Loss')\n",
    "plt.xlabel('Epoch')\n",
    "plt.ylabel('Loss')\n",
    "plt.title('Training and Validation Loss')\n",
    "plt.legend()\n",
    "plt.show()"
   ]
  },
  {
   "cell_type": "code",
   "execution_count": null,
   "metadata": {},
   "outputs": [],
   "source": [
    "# Random sample inspection\n",
    "random_num = random.randint(0, 10)\n",
    "for i, (inputs, targets) in enumerate(trainloader):\n",
    "    if i == random_num:  # random sample\n",
    "        inputs, targets = inputs.to(torch.float32), targets.to(torch.float32)\n",
    "        outputs = model(inputs).detach()\n",
    "        break\n",
    "        \n",
    "# Actual\n",
    "for i in range(3):\n",
    "    # select first 3 frame\n",
    "    image_tensor = targets.squeeze()[:,i,:,:]\n",
    "    numpy_image = image_tensor.detach().numpy()\n",
    "\n",
    "    # imshow (Height, Width, Channels)\n",
    "    numpy_image = numpy_image.transpose((1, 2, 0))\n",
    "\n",
    "    # normalize to 0,1\n",
    "    numpy_image = (numpy_image - numpy_image.min()) / (numpy_image.max() - numpy_image.min())\n",
    "\n",
    "    plt.imshow(numpy_image)\n",
    "    plt.show()\n",
    "    \n",
    "# AutoEncoder    \n",
    "for i in range(3):\n",
    "    # select first 3 frame\n",
    "    image_tensor = outputs.squeeze()[:,i,:,:]\n",
    "    numpy_image = image_tensor.detach().numpy()\n",
    "\n",
    "    # imshow (Height, Width, Channels)\n",
    "    numpy_image = numpy_image.transpose((1, 2, 0))\n",
    "\n",
    "    # normalize to 0,1\n",
    "    numpy_image = (numpy_image - numpy_image.min()) / (numpy_image.max() - numpy_image.min())\n",
    "\n",
    "    plt.imshow(numpy_image)\n",
    "    plt.show()"
   ]
  },
  {
   "cell_type": "code",
   "execution_count": 11,
   "metadata": {},
   "outputs": [
    {
     "name": "stdout",
     "output_type": "stream",
     "text": [
      "torch.Size([1, 7, 512])\n"
     ]
    }
   ],
   "source": [
    "ae_dir = \"../data/audio_embeddings/\"\n",
    "ae_files = sorted([os.path.join(ae_dir, f) for f in os.listdir(ae_dir)])\n",
    "\n",
    "# first 50\n",
    "ae_files = ae_files[0:50]\n",
    "\n",
    "# load all tensors\n",
    "ae_data = [torch.load(f) for f in ae_files]\n",
    "\n",
    "avg_tensors = [torch.mean(x[0], dim=2) for x in ae_data]\n",
    "\n",
    "for tensor in avg_tensors: \n",
    "    print(tensor.size())\n",
    "    audio_embed = tensor\n",
    "    break"
   ]
  },
  {
   "cell_type": "code",
   "execution_count": 12,
   "metadata": {},
   "outputs": [
    {
     "data": {
      "text/plain": [
       "torch.Size([1, 1])"
      ]
     },
     "execution_count": 12,
     "metadata": {},
     "output_type": "execute_result"
    }
   ],
   "source": [
    "from models import TransformerModel_Visual, TransformerModel_Audio, EnsembleModel\n",
    "\n",
    "model1 = TransformerModel_Visual(\n",
    "d_model = 9216,\n",
    "nhead = NUM_HEADS,\n",
    "d_hid = HIDDEN_DIM,\n",
    "nlayers = NUM_LAYERS\n",
    ")\n",
    "\n",
    "model2 = TransformerModel_Audio(\n",
    "d_model = 512,\n",
    "nhead = NUM_HEADS,\n",
    "d_hid = HIDDEN_DIM ,\n",
    "nlayers = NUM_LAYERS\n",
    ")\n",
    "\n",
    "ensemble_model = EnsembleModel(model1,model2)\n",
    "total_params = sum(p.numel() for p in ensemble_model.parameters() if p.requires_grad)\n",
    "print(f\"Total parameters: {total_params:,}\")"
   ]
  },
  {
   "cell_type": "code",
   "execution_count": 9,
   "metadata": {},
   "outputs": [
    {
     "data": {
      "text/plain": [
       "torch.Size([1, 64, 128, 72])"
      ]
     },
     "execution_count": 9,
     "metadata": {},
     "output_type": "execute_result"
    }
   ],
   "source": [
    "# Training\n",
    "def ensemble_train(ensemble_model, autoencoder, dataloader, criterion, optimizer, device='cpu', verbose=False):\n",
    "    ensemble_model.train()\n",
    "    total_loss = 0.0\n",
    "    for inputs, targets in dataloader:\n",
    "            inputs, targets = inputs.to(torch.float32), targets.to(torch.float32)\n",
    "            visual, audio_embed = inputs\n",
    "            visual_embed = autoencoder.getembedding(visual).detach()\n",
    "            ensemble_model.forward(video_embed, audio_embed)\n",
    "            optimizer.zero_grad()\n",
    "            loss = criterion2(outputs, targets)\n",
    "            loss.backward()\n",
    "            optimizer.step()\n",
    "            avg_loss = total_loss / len(dataloader)\n",
    "            return total_loss, avg_loss\n",
    "\n",
    "# Evaluate\n",
    "def ensemble_evaluate(ensemble_model, autoencoder, dataloader, criterion, optimizer, device='cpu', verbose=False):\n",
    "    ensemble_model.eval()\n",
    "    total_loss = 0.0\n",
    "    with torch.no_grad():\n",
    "        for inputs, targets in dataloader:\n",
    "                inputs, targets = inputs.to(torch.float32), targets.to(torch.float32)\n",
    "                visual, audio_embed = inputs\n",
    "                visual_embed = autoencoder.getembedding(visual).detach()\n",
    "                ensemble_model.forward(video_embed, audio_embed)\n",
    "                optimizer.zero_grad()\n",
    "                loss = criterion2(outputs, targets)\n",
    "                loss.backward()\n",
    "                optimizer.step()\n",
    "                avg_loss = total_loss / len(dataloader)\n",
    "                return total_loss, avg_loss"
   ]
  },
  {
   "cell_type": "code",
   "execution_count": null,
   "metadata": {},
   "outputs": [],
   "source": [
    "ECHO = 1  # print in N epoch only when training\n",
    "SAVE_NAME = 'EnsembleModel_hidden512_weights'  # save the weights"
   ]
  },
  {
   "cell_type": "raw",
   "metadata": {},
   "source": [
    "# load check point\n",
    "weights_file = f'../models/save/{SAVE_NAME}'\n",
    "model.load_state_dict(torch.load(weights_file)['model_state_dict'])"
   ]
  },
  {
   "cell_type": "code",
   "execution_count": null,
   "metadata": {},
   "outputs": [],
   "source": [
    "criterion = nn.MSELoss()\n",
    "optimizer = optim.Adam(ensemble_model.parameters(), lr=LEARNING)\n",
    "\n",
    "EPOCHS = THE_EPOCHS\n",
    "\n",
    "train_losses = []\n",
    "val_losses = []\n",
    "start_time = time.time()\n",
    "\n",
    "for epoch in range(EPOCHS):\n",
    "    train_loss, avg_train_loss = ensemble_train(ensemble_model, autoencoder, train_loader, criterion, optimizer, device)\n",
    "    val_loss, avg_val_loss = ensemble_evaluate(ensemble_model, autoencoder, val_loader, criterion, device)\n",
    "    \n",
    "    # record the losses\n",
    "    train_losses.append(avg_train_loss)\n",
    "    val_losses.append(avg_val_loss)\n",
    "\n",
    "    # print every num times epoch only\n",
    "    num = 1\n",
    "    if ((epoch+1) % ECHO == 0) or epoch == 0:\n",
    "        if epoch == 0:\n",
    "            time_took = (time.time() - start_time) / 60\n",
    "            print(f'First epoch took {time_took:.1f} minutes.')\n",
    "        print(f'Epoch {epoch+1}/{EPOCHS}, Train_Loss: {train_loss:.2f}, Avg: {avg_train_loss:.2f}; Val_Loss: {val_loss:.2f}, Avg: {avg_val_loss:.2f}')\n"
   ]
  },
  {
   "cell_type": "code",
   "execution_count": null,
   "metadata": {},
   "outputs": [],
   "source": [
    "# save model if better or not exists\n",
    "model_weights = {'model_state_dict': model.state_dict(), 'val_loss': avg_train_loss}\n",
    "weights_file = f'../models/save/{SAVE_NAME}'\n",
    "if not os.path.isfile(weights_file):\n",
    "    # save new\n",
    "    torch.save(model_weights, weights_file)\n",
    "elif model_weights['val_loss'] < torch.load(weights_file)['val_loss']:\n",
    "    # replace\n",
    "    torch.save(model_weights, weights_file)"
   ]
  },
  {
   "cell_type": "code",
   "execution_count": null,
   "metadata": {},
   "outputs": [],
   "source": [
    "# loss plot\n",
    "plt.plot(train_losses, label='Training Loss')\n",
    "plt.plot(val_losses, label='Validation Loss')\n",
    "plt.xlabel('Epoch')\n",
    "plt.ylabel('Loss')\n",
    "plt.title('Training and Validation Loss')\n",
    "plt.legend()\n",
    "plt.show()"
   ]
  }
 ],
 "metadata": {
  "kernelspec": {
   "display_name": "Python 3 (ipykernel)",
   "language": "python",
   "name": "python3"
  },
  "language_info": {
   "codemirror_mode": {
    "name": "ipython",
    "version": 3
   },
   "file_extension": ".py",
   "mimetype": "text/x-python",
   "name": "python",
   "nbconvert_exporter": "python",
   "pygments_lexer": "ipython3",
   "version": "3.10.6"
  }
 },
 "nbformat": 4,
 "nbformat_minor": 4
}

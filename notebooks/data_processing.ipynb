{
 "cells": [
  {
   "cell_type": "code",
   "execution_count": 2,
   "metadata": {},
   "outputs": [],
   "source": [
    "import torch\n",
    "import torch.nn as nn\n",
    "\n",
    "# Inside the /Multimodal-Deep-Regression/notebooks\n",
    "import sys\n",
    "sys.path.append(\"..\")\n",
    "\n",
    "from util.data_utilities import process_data\n",
    "from util.utilities import get_device"
   ]
  },
  {
   "cell_type": "code",
   "execution_count": null,
   "metadata": {},
   "outputs": [],
   "source": [
    "# Data inputs for CNN and Swin Transformer baseline\n",
    "process_data(\n",
    "    input_type='video_pack_1000', \n",
    "    addition_parameters={'first_n_videos': 100}, \n",
    "    verbose=True,\n",
    "    device=device,\n",
    "    skip_frames=False,\n",
    "    # frames_to_skip=5,\n",
    "    resize_tensors=True,\n",
    "    uniform_frames=True\n",
    ")"
   ]
  },
  {
   "cell_type": "code",
   "execution_count": 2,
   "metadata": {},
   "outputs": [
    {
     "name": "stdout",
     "output_type": "stream",
     "text": [
      "You are using device: cpu\n",
      "Currently processing: 6886856236667636993.mp4\n"
     ]
    },
    {
     "name": "stderr",
     "output_type": "stream",
     "text": [
      "/Users/ahmedsalih/anaconda3/envs/cs7643-a2/lib/python3.9/site-packages/torchvision/io/video_reader.py:245: UserWarning: Accurate seek is not implemented for pyav backend\n",
      "  warnings.warn(\"Accurate seek is not implemented for pyav backend\")\n"
     ]
    },
    {
     "name": "stdout",
     "output_type": "stream",
     "text": [
      "6886856236667636993\n",
      "67000\n",
      "Done processing: ../data/video_packs/initial_1000/6886856236667636993.mp4.\n",
      "X Tensor (torch.Size([3, 372, 1024, 576])) saved under: ../data/x_tensors/initial_1000/6886856236667636993_x_tensor.pt.\n",
      "Y Tensor (torch.Size([1, 1])) saved under: ../data/y_tensors/initial_1000/6886856236667636993_y_tensor.pt.\n",
      "metadata:\n",
      "{'video': {'fps': [25.0], 'duration': [14.88]}, 'audio': {'framerate': [44100.0], 'duration': [14.812993197278912]}}\n",
      "\n",
      "\n",
      "Currently processing: 6892805816492084481.mp4\n",
      "6892805816492084481\n",
      "46800\n",
      "Done processing: ../data/video_packs/initial_1000/6892805816492084481.mp4.\n",
      "X Tensor (torch.Size([3, 212, 1024, 576])) saved under: ../data/x_tensors/initial_1000/6892805816492084481_x_tensor.pt.\n",
      "Y Tensor (torch.Size([1, 1])) saved under: ../data/y_tensors/initial_1000/6892805816492084481_y_tensor.pt.\n",
      "metadata:\n",
      "{'video': {'fps': [29.97], 'duration': [7.07374040707374]}, 'audio': {'framerate': [44100.0], 'duration': [7.057006802721088]}}\n",
      "\n",
      "\n",
      "Currently processing: 6885791166248340737.mp4\n",
      "6885791166248340737\n",
      "33600\n",
      "Done processing: ../data/video_packs/initial_1000/6885791166248340737.mp4.\n",
      "X Tensor (torch.Size([3, 701, 1024, 576])) saved under: ../data/x_tensors/initial_1000/6885791166248340737_x_tensor.pt.\n",
      "Y Tensor (torch.Size([1, 1])) saved under: ../data/y_tensors/initial_1000/6885791166248340737_y_tensor.pt.\n",
      "metadata:\n",
      "{'video': {'fps': [29.0], 'duration': [24.17241379310345]}, 'audio': {'framerate': [44100.0], 'duration': [24.123990929705215]}}\n",
      "\n",
      "\n",
      "Currently processing: 6893611785295793410.mp4\n",
      "6893611785295793410\n",
      "49200\n",
      "Done processing: ../data/video_packs/initial_1000/6893611785295793410.mp4.\n",
      "X Tensor (torch.Size([3, 377, 960, 540])) saved under: ../data/x_tensors/initial_1000/6893611785295793410_x_tensor.pt.\n",
      "Y Tensor (torch.Size([1, 1])) saved under: ../data/y_tensors/initial_1000/6893611785295793410_y_tensor.pt.\n",
      "metadata:\n",
      "{'video': {'fps': [30.0], 'duration': [12.566666666666666]}, 'audio': {'framerate': [44100.0], 'duration': [12.585011337868481]}}\n",
      "\n",
      "\n",
      "Currently processing: 6892345024227331330.mp4\n",
      "6892345024227331330\n",
      "165800\n",
      "Done processing: ../data/video_packs/initial_1000/6892345024227331330.mp4.\n",
      "X Tensor (torch.Size([3, 278, 1024, 576])) saved under: ../data/x_tensors/initial_1000/6892345024227331330_x_tensor.pt.\n",
      "Y Tensor (torch.Size([1, 1])) saved under: ../data/y_tensors/initial_1000/6892345024227331330_y_tensor.pt.\n",
      "metadata:\n",
      "{'video': {'fps': [29.97], 'duration': [9.275942609275942]}, 'audio': {'framerate': [44100.0], 'duration': [9.262993197278911]}}\n",
      "\n",
      "\n"
     ]
    }
   ],
   "source": [
    "process_data(\n",
    "    input_type='initial_1000', \n",
    "    addition_parameters={'first_n_videos': 5}, \n",
    "    verbose=True,\n",
    "    device=get_device()\n",
    "    )"
   ]
  },
  {
   "cell_type": "code",
   "execution_count": 2,
   "metadata": {},
   "outputs": [
    {
     "name": "stdout",
     "output_type": "stream",
     "text": [
      "You are using device: cpu\n",
      "Currently processing: 7222730607598570794.mp4\n"
     ]
    },
    {
     "name": "stderr",
     "output_type": "stream",
     "text": [
      "/Users/ahmedsalih/anaconda3/envs/cs7643-a2/lib/python3.9/site-packages/torchvision/io/video_reader.py:245: UserWarning: Accurate seek is not implemented for pyav backend\n",
      "  warnings.warn(\"Accurate seek is not implemented for pyav backend\")\n"
     ]
    },
    {
     "name": "stdout",
     "output_type": "stream",
     "text": [
      "7222730607598570794\n",
      "13800.0\n",
      "Done processing: ../data/video_packs/video_pack_1000/7222730607598570794.mp4.\n",
      "X Tensor (torch.Size([3, 1257, 1024, 576])) saved under: ../data/x_tensors/video_pack_1000/7222730607598570794_x_tensor.pt.\n",
      "Y Tensor (torch.Size([1, 1])) saved under: ../data/y_tensors/video_pack_1000/7222730607598570794_y_tensor.pt.\n",
      "metadata:\n",
      "{'video': {'fps': [30.0], 'duration': [41.9]}, 'audio': {'framerate': [44100.0], 'duration': [41.88700680272109]}}\n",
      "\n",
      "\n",
      "Currently processing: 7243923047206604078.mp4\n",
      "7243923047206604078\n",
      "2700.0\n",
      "Done processing: ../data/video_packs/video_pack_1000/7243923047206604078.mp4.\n",
      "X Tensor (torch.Size([3, 4317, 1024, 576])) saved under: ../data/x_tensors/video_pack_1000/7243923047206604078_x_tensor.pt.\n",
      "Y Tensor (torch.Size([1, 1])) saved under: ../data/y_tensors/video_pack_1000/7243923047206604078_y_tensor.pt.\n",
      "metadata:\n",
      "{'video': {'fps': [30.0], 'duration': [143.9]}, 'audio': {'framerate': [44100.0], 'duration': [143.9150113378685]}}\n",
      "\n",
      "\n",
      "Currently processing: 7222971039221861637.mp4\n",
      "7222971039221861637\n",
      "1300.0\n",
      "Done processing: ../data/video_packs/video_pack_1000/7222971039221861637.mp4.\n",
      "X Tensor (torch.Size([3, 824, 1024, 576])) saved under: ../data/x_tensors/video_pack_1000/7222971039221861637_x_tensor.pt.\n",
      "Y Tensor (torch.Size([1, 1])) saved under: ../data/y_tensors/video_pack_1000/7222971039221861637_y_tensor.pt.\n",
      "metadata:\n",
      "{'video': {'fps': [30.0], 'duration': [27.466666666666665]}, 'audio': {'framerate': [44100.0], 'duration': [27.467755102040815]}}\n",
      "\n",
      "\n",
      "Currently processing: 7212745688826793221.mp4\n",
      "7212745688826793221\n",
      "3600.0\n",
      "Done processing: ../data/video_packs/video_pack_1000/7212745688826793221.mp4.\n",
      "X Tensor (torch.Size([3, 2094, 1024, 576])) saved under: ../data/x_tensors/video_pack_1000/7212745688826793221_x_tensor.pt.\n",
      "Y Tensor (torch.Size([1, 1])) saved under: ../data/y_tensors/video_pack_1000/7212745688826793221_y_tensor.pt.\n",
      "metadata:\n",
      "{'video': {'fps': [30.0], 'duration': [69.8]}, 'audio': {'framerate': [44100.0], 'duration': [69.77399092970522]}}\n",
      "\n",
      "\n",
      "Currently processing: 7243658852988620059.mp4\n",
      "7243658852988620059\n",
      "1500.0\n",
      "Done processing: ../data/video_packs/video_pack_1000/7243658852988620059.mp4.\n",
      "X Tensor (torch.Size([3, 1803, 1024, 576])) saved under: ../data/x_tensors/video_pack_1000/7243658852988620059_x_tensor.pt.\n",
      "Y Tensor (torch.Size([1, 1])) saved under: ../data/y_tensors/video_pack_1000/7243658852988620059_y_tensor.pt.\n",
      "metadata:\n",
      "{'video': {'fps': [30.0], 'duration': [60.1]}, 'audio': {'framerate': [44100.0], 'duration': [60.068004535147395]}}\n",
      "\n",
      "\n"
     ]
    }
   ],
   "source": [
    "process_data(\n",
    "    input_type='video_pack_1000', \n",
    "    addition_parameters={'first_n_videos': 5}, \n",
    "    verbose=True,\n",
    "    device=get_device()\n",
    "    )"
   ]
  },
  {
   "cell_type": "code",
   "execution_count": 3,
   "metadata": {},
   "outputs": [
    {
     "name": "stdout",
     "output_type": "stream",
     "text": [
      "You are using device: cpu\n",
      "Currently processing: 7209719573048757550.mp4\n",
      "7209719573048757550\n",
      "30.7\n",
      "Done processing: ../data/video_packs/video_pack_5000/7209719573048757550.mp4.\n",
      "X Tensor (torch.Size([3, 1141, 1024, 576])) saved under: ../data/x_tensors/video_pack_5000/7209719573048757550_x_tensor.pt.\n",
      "Y Tensor (torch.Size([1, 1])) saved under: ../data/y_tensors/video_pack_5000/7209719573048757550_y_tensor.pt.\n",
      "metadata:\n",
      "{'video': {'fps': [30.0], 'duration': [38.03333333333333]}, 'audio': {'framerate': [44100.0], 'duration': [37.986009070294784]}}\n",
      "\n",
      "\n",
      "Currently processing: 7243923047206604078.mp4\n",
      "7243923047206604078\n",
      "2700.0\n",
      "Done processing: ../data/video_packs/video_pack_5000/7243923047206604078.mp4.\n",
      "X Tensor (torch.Size([3, 4317, 1024, 576])) saved under: ../data/x_tensors/video_pack_5000/7243923047206604078_x_tensor.pt.\n",
      "Y Tensor (torch.Size([1, 1])) saved under: ../data/y_tensors/video_pack_5000/7243923047206604078_y_tensor.pt.\n",
      "metadata:\n",
      "{'video': {'fps': [30.0], 'duration': [143.9]}, 'audio': {'framerate': [44100.0], 'duration': [143.9150113378685]}}\n",
      "\n",
      "\n",
      "Currently processing: 7198298288213364014.mp4\n",
      "7198298288213364014\n",
      "2800.0\n",
      "Done processing: ../data/video_packs/video_pack_5000/7198298288213364014.mp4.\n",
      "X Tensor (torch.Size([3, 745, 1024, 576])) saved under: ../data/x_tensors/video_pack_5000/7198298288213364014_x_tensor.pt.\n",
      "Y Tensor (torch.Size([1, 1])) saved under: ../data/y_tensors/video_pack_5000/7198298288213364014_y_tensor.pt.\n",
      "metadata:\n",
      "{'video': {'fps': [30.0], 'duration': [24.833333333333332]}, 'audio': {'framerate': [44100.0], 'duration': [24.86]}}\n",
      "\n",
      "\n",
      "Currently processing: 7238503441692183814.mp4\n",
      "7238503441692183814\n",
      "6900.0\n",
      "Done processing: ../data/video_packs/video_pack_5000/7238503441692183814.mp4.\n",
      "X Tensor (torch.Size([3, 3520, 1024, 576])) saved under: ../data/x_tensors/video_pack_5000/7238503441692183814_x_tensor.pt.\n",
      "Y Tensor (torch.Size([1, 1])) saved under: ../data/y_tensors/video_pack_5000/7238503441692183814_y_tensor.pt.\n",
      "metadata:\n",
      "{'video': {'fps': [30.0], 'duration': [117.33333333333333]}, 'audio': {'framerate': [44100.0], 'duration': [117.30501133786848]}}\n",
      "\n",
      "\n",
      "Currently processing: 7222696559467679019.mp4\n",
      "7222696559467679019\n",
      "3300.0\n",
      "Done processing: ../data/video_packs/video_pack_5000/7222696559467679019.mp4.\n",
      "X Tensor (torch.Size([3, 3324, 1024, 576])) saved under: ../data/x_tensors/video_pack_5000/7222696559467679019_x_tensor.pt.\n",
      "Y Tensor (torch.Size([1, 1])) saved under: ../data/y_tensors/video_pack_5000/7222696559467679019_y_tensor.pt.\n",
      "metadata:\n",
      "{'video': {'fps': [57.87579802669762], 'duration': [57.43333333333333]}, 'audio': {'framerate': [44100.0], 'duration': [57.52501133786848]}}\n",
      "\n",
      "\n"
     ]
    }
   ],
   "source": [
    "process_data(\n",
    "    input_type='video_pack_5000', \n",
    "    addition_parameters={'first_n_videos': 5}, \n",
    "    verbose=True,\n",
    "    device=get_device()\n",
    "    )"
   ]
  },
  {
   "cell_type": "code",
   "execution_count": null,
   "metadata": {},
   "outputs": [],
   "source": []
  }
 ],
 "metadata": {
  "kernelspec": {
   "display_name": "Python 3 (ipykernel)",
   "language": "python",
   "name": "python3"
  },
  "language_info": {
   "codemirror_mode": {
    "name": "ipython",
    "version": 3
   },
   "file_extension": ".py",
   "mimetype": "text/x-python",
   "name": "python",
   "nbconvert_exporter": "python",
   "pygments_lexer": "ipython3",
   "version": "3.9.16"
  }
 },
 "nbformat": 4,
 "nbformat_minor": 4
}

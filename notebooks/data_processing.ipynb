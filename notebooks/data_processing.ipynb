{
 "cells": [
  {
   "cell_type": "code",
   "execution_count": 3,
   "metadata": {},
   "outputs": [],
   "source": [
    "import torch\n",
    "import torch.nn as nn\n",
    "\n",
    "# Inside the /Multimodal-Deep-Regression/notebooks\n",
    "import sys\n",
    "sys.path.append(\"..\")\n",
    "\n",
    "from util.data_utilities import process_data\n",
    "from util.utilities import get_device"
   ]
  },
  {
   "cell_type": "code",
   "execution_count": 4,
   "metadata": {},
   "outputs": [
    {
     "name": "stdout",
     "output_type": "stream",
     "text": [
      "Currently processing: 6875317312082201857.mp4\n",
      "Done processing: ../data/videos/6875317312082201857.mp4.\n",
      "X Tensor (torch.Size([3, 214, 1024, 576])) saved under: ../data/x_tensors/initial_1000/6875317312082201857_x_tensor.pt.\n",
      "Y Tensor (torch.Size([1, 1])) saved under: ../data/y_tensors/initial_1000/6875317312082201857_y_tensor.pt.\n",
      "metadata:\n",
      "{'video': {'fps': [30.0], 'duration': [7.133333333333334]}, 'audio': {'framerate': [44100.0], 'duration': [7.1039909297052155]}}\n",
      "\n",
      "\n",
      "Currently processing: 6875323773755657474.mp4\n",
      "Done processing: ../data/videos/6875323773755657474.mp4.\n",
      "X Tensor (torch.Size([3, 471, 1024, 576])) saved under: ../data/x_tensors/initial_1000/6875323773755657474_x_tensor.pt.\n",
      "Y Tensor (torch.Size([1, 1])) saved under: ../data/y_tensors/initial_1000/6875323773755657474_y_tensor.pt.\n",
      "metadata:\n",
      "{'video': {'fps': [30.0], 'duration': [15.7]}, 'audio': {'framerate': [44100.0], 'duration': [15.65]}}\n",
      "\n",
      "\n",
      "Currently processing: 6875342937002085633.mp4\n",
      "Done processing: ../data/videos/6875342937002085633.mp4.\n",
      "X Tensor (torch.Size([3, 213, 1024, 576])) saved under: ../data/x_tensors/initial_1000/6875342937002085633_x_tensor.pt.\n",
      "Y Tensor (torch.Size([1, 1])) saved under: ../data/y_tensors/initial_1000/6875342937002085633_y_tensor.pt.\n",
      "metadata:\n",
      "{'video': {'fps': [30.0], 'duration': [7.1]}, 'audio': {'framerate': [44100.0], 'duration': [7.245011337868481]}}\n",
      "\n",
      "\n",
      "Currently processing: 6875370613523909890.mp4\n",
      "Done processing: ../data/videos/6875370613523909890.mp4.\n",
      "X Tensor (torch.Size([3, 166, 1024, 576])) saved under: ../data/x_tensors/initial_1000/6875370613523909890_x_tensor.pt.\n",
      "Y Tensor (torch.Size([1, 1])) saved under: ../data/y_tensors/initial_1000/6875370613523909890_y_tensor.pt.\n",
      "metadata:\n",
      "{'video': {'fps': [30.0], 'duration': [5.533333333333333]}, 'audio': {'framerate': [44100.0], 'duration': [5.526009070294784]}}\n",
      "\n",
      "\n",
      "Currently processing: 6875373441432816898.mp4\n",
      "Done processing: ../data/videos/6875373441432816898.mp4.\n",
      "X Tensor (torch.Size([3, 282, 1024, 576])) saved under: ../data/x_tensors/initial_1000/6875373441432816898_x_tensor.pt.\n",
      "Y Tensor (torch.Size([1, 1])) saved under: ../data/y_tensors/initial_1000/6875373441432816898_y_tensor.pt.\n",
      "metadata:\n",
      "{'video': {'fps': [29.97], 'duration': [9.40940940940941]}, 'audio': {'framerate': [44100.0], 'duration': [9.379002267573696]}}\n",
      "\n",
      "\n"
     ]
    }
   ],
   "source": [
    "process_data(\n",
    "    input_type='initial_1000', \n",
    "    addition_parameters={'first_n_videos': 5}, \n",
    "    verbose=True,\n",
    "    device=get_device()\n",
    "    )"
   ]
  }
 ],
 "metadata": {
  "kernelspec": {
   "display_name": "Python 3 (ipykernel)",
   "language": "python",
   "name": "python3"
  },
  "language_info": {
   "codemirror_mode": {
    "name": "ipython",
    "version": 3
   },
   "file_extension": ".py",
   "mimetype": "text/x-python",
   "name": "python",
   "nbconvert_exporter": "python",
   "pygments_lexer": "ipython3",
   "version": "3.10.6"
  }
 },
 "nbformat": 4,
 "nbformat_minor": 4
}

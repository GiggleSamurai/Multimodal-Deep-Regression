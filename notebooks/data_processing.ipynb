{
 "cells": [
  {
   "cell_type": "code",
   "execution_count": 7,
   "metadata": {},
   "outputs": [],
   "source": [
    "import torch\n",
    "import torch.nn as nn\n",
    "\n",
    "# Inside the /Multimodal-Deep-Regression/notebooks\n",
    "import sys\n",
    "sys.path.append(\"..\")\n",
    "\n",
    "from util.data_utilities import process_data"
   ]
  },
  {
   "cell_type": "code",
   "execution_count": 8,
   "metadata": {},
   "outputs": [],
   "source": [
    "# process_data(input_type='initial_1000')"
   ]
  },
  {
   "cell_type": "code",
   "execution_count": 10,
   "metadata": {},
   "outputs": [],
   "source": [
    "import os"
   ]
  },
  {
   "cell_type": "code",
   "execution_count": 12,
   "metadata": {},
   "outputs": [
    {
     "data": {
      "text/plain": [
       "'../data/videos'"
      ]
     },
     "execution_count": 12,
     "metadata": {},
     "output_type": "execute_result"
    }
   ],
   "source": [
    "top_level_path = f'../data/videos'\n",
    "top_level_path"
   ]
  },
  {
   "cell_type": "code",
   "execution_count": 32,
   "metadata": {},
   "outputs": [],
   "source": [
    "video_list = os.listdir(top_level_path)\n",
    "addition_parameters = {'first_n_videos': 5} \n",
    "verbose = True\n",
    "input_type = 'initial_1000'"
   ]
  },
  {
   "cell_type": "code",
   "execution_count": null,
   "metadata": {},
   "outputs": [],
   "source": []
  },
  {
   "cell_type": "code",
   "execution_count": 22,
   "metadata": {},
   "outputs": [
    {
     "data": {
      "text/plain": [
       "5"
      ]
     },
     "execution_count": 22,
     "metadata": {},
     "output_type": "execute_result"
    }
   ],
   "source": [
    "if addition_parameters is None:\n",
    "    first_n_videos = len(video_list)\n",
    "else:\n",
    "    if 'first_n_videos' in addition_parameters.keys():\n",
    "        first_n_videos = addition_parameters['first_n_videos']\n",
    "    else:\n",
    "        first_n_videos = len(video_list)\n",
    "\n",
    "first_n_videos"
   ]
  },
  {
   "cell_type": "code",
   "execution_count": 31,
   "metadata": {},
   "outputs": [
    {
     "name": "stdout",
     "output_type": "stream",
     "text": [
      "6875317312082201857.mp4\n",
      "6875317312082201857\n",
      "6875323773755657474.mp4\n",
      "6875323773755657474\n",
      "6875342937002085633.mp4\n",
      "6875342937002085633\n",
      "6875370613523909890.mp4\n",
      "6875370613523909890\n",
      "6875373441432816898.mp4\n",
      "6875373441432816898\n"
     ]
    }
   ],
   "source": [
    "for tiktok_video in video_list[:first_n_videos]:\n",
    "    video_path = f\"{top_level_path}/{tiktok_video}\"\n",
    "\n",
    "    if verbose:\n",
    "        print(tiktok_video)\n",
    "\n",
    "    tiktok_video_id = tiktok_video.split(sep='.')[0]\n",
    "    # vf, af, info, meta = process_video(video_object_path=video_path, device=device)\n",
    "    print(tiktok_video_id)"
   ]
  },
  {
   "cell_type": "code",
   "execution_count": 33,
   "metadata": {},
   "outputs": [],
   "source": [
    "import json \n",
    "f = open('../data/trending.json', encoding=\"utf8\")\n",
    "data = json.load(f)\n",
    "video_metadata_list = data['collector']\n",
    "\n",
    "video_views = {}\n",
    "for video_metadata in video_metadata_list:\n",
    "    video_views[video_metadata['id']] = video_metadata['playCount']"
   ]
  },
  {
   "cell_type": "code",
   "execution_count": 34,
   "metadata": {},
   "outputs": [
    {
     "name": "stdout",
     "output_type": "stream",
     "text": [
      "../data/x_tensors/initial_1000/6875373441432816898_x_tensor.pt ../data/y_tensors/initial_1000/6875373441432816898_y_tensor.pt\n"
     ]
    }
   ],
   "source": [
    "x_file_path = f\"../data/x_tensors/{input_type}/{tiktok_video_id}_x_tensor.pt\"\n",
    "y_file_path = f\"../data/y_tensors/{input_type}/{tiktok_video_id}_y_tensor.pt\"\n",
    "\n",
    "print(x_file_path, y_file_path)"
   ]
  },
  {
   "cell_type": "code",
   "execution_count": 44,
   "metadata": {},
   "outputs": [
    {
     "data": {
      "text/plain": [
       "tensor([[202900.]])"
      ]
     },
     "execution_count": 44,
     "metadata": {},
     "output_type": "execute_result"
    }
   ],
   "source": [
    "torch.as_tensor([video_views['6875317312082201857']]).float().unsqueeze(1)"
   ]
  },
  {
   "cell_type": "code",
   "execution_count": 41,
   "metadata": {},
   "outputs": [
    {
     "data": {
      "text/plain": [
       "tensor(202900)"
      ]
     },
     "execution_count": 41,
     "metadata": {},
     "output_type": "execute_result"
    }
   ],
   "source": [
    "torch.tensor(video_views['6875317312082201857']) # .unsqueeze(1)"
   ]
  },
  {
   "cell_type": "code",
   "execution_count": null,
   "metadata": {},
   "outputs": [],
   "source": []
  }
 ],
 "metadata": {
  "kernelspec": {
   "display_name": "cs7643-a2",
   "language": "python",
   "name": "python3"
  },
  "language_info": {
   "codemirror_mode": {
    "name": "ipython",
    "version": 3
   },
   "file_extension": ".py",
   "mimetype": "text/x-python",
   "name": "python",
   "nbconvert_exporter": "python",
   "pygments_lexer": "ipython3",
   "version": "3.9.16"
  },
  "orig_nbformat": 4
 },
 "nbformat": 4,
 "nbformat_minor": 2
}

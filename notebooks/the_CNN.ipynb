{
 "cells": [
  {
   "cell_type": "code",
   "execution_count": 1,
   "metadata": {},
   "outputs": [
    {
     "name": "stdout",
     "output_type": "stream",
     "text": [
      "You are using device: cpu\n"
     ]
    }
   ],
   "source": [
    "import torch\n",
    "import torch.nn as nn\n",
    "import torch.optim as optim\n",
    "from torch.utils.data import DataLoader, TensorDataset\n",
    "from tqdm import tqdm\n",
    "from sklearn.model_selection import train_test_split\n",
    "import os\n",
    "import random\n",
    "import time\n",
    "\n",
    "# Inside the /Multimodal-Deep-Regression/notebooks\n",
    "import sys\n",
    "sys.path.append(\"..\")\n",
    "\n",
    "from util.utilities import train, evaluate, get_device\n",
    "from util.data_utilities import get_base_tensor_directories, generate_batch, get_train_and_val_loader, process_data\n",
    "\n",
    "# import all the models from models module\n",
    "from models import CNN3D\n",
    "\n",
    "import warnings\n",
    "\n",
    "# disable pyav warning\n",
    "warnings.filterwarnings(\"ignore\", message=\"Accurate seek is not implemented for pyav backend\")\n",
    "\n",
    "device = get_device()"
   ]
  },
  {
   "cell_type": "code",
   "execution_count": 2,
   "metadata": {},
   "outputs": [
    {
     "name": "stdout",
     "output_type": "stream",
     "text": [
      "You are using device: cpu\n",
      "Processing video visual to tensors..\n"
     ]
    },
    {
     "name": "stderr",
     "output_type": "stream",
     "text": [
      "100%|██████████| 1000/1000 [10:34:03<00:00, 38.04s/it]    \n"
     ]
    }
   ],
   "source": [
    "process_data(\n",
    "    input_type='video_pack_1000', \n",
    "    # addition_parameters={'first_n_videos': 5}, \n",
    "    verbose=False,\n",
    "    device=get_device(),\n",
    "    skip_frames=True,\n",
    "    frames_to_skip=200,\n",
    "    # resize_tensors=True,\n",
    "    # uniform_frames=True,\n",
    "    # set_frame_count=15,\n",
    "    shrink=8,\n",
    "    # clean_dir=True\n",
    ")"
   ]
  },
  {
   "cell_type": "code",
   "execution_count": 3,
   "metadata": {},
   "outputs": [
    {
     "name": "stdout",
     "output_type": "stream",
     "text": [
      "You are using device: cpu\n"
     ]
    },
    {
     "name": "stdout",
     "output_type": "stream",
     "text": [
      "torch.Size([3, 2, 128, 72])\n",
      "torch.Size([3, 15, 128, 72])\n",
      "800\n",
      "200\n"
     ]
    }
   ],
   "source": [
    "device = get_device()\n",
    "train_loader, val_loader = get_train_and_val_loader(\n",
    "    input_type='video_pack_1000',\n",
    "    batch_size=10,\n",
    "    verbose=True,\n",
    "    # tensor_upper_limit=95\n",
    ")"
   ]
  },
  {
   "cell_type": "code",
   "execution_count": 4,
   "metadata": {},
   "outputs": [
    {
     "name": "stdout",
     "output_type": "stream",
     "text": [
      "Total parameters: 415,951\n"
     ]
    }
   ],
   "source": [
    "model = CNN3D(\n",
    "    reduce_pool=8,\n",
    "    filters=15,\n",
    "    depth=30,\n",
    "    dropout_rate=0.1\n",
    ")\n",
    "criterion = nn.L1Loss()\n",
    "optimizer = optim.Adam(model.parameters(), lr=0.00001, weight_decay=0.9)\n",
    "model = model.to(device)\n",
    "\n",
    "total_params = sum(p.numel() for p in model.parameters() if p.requires_grad)\n",
    "print(f\"Total parameters: {total_params:,}\")\n",
    "\n",
    "EPOCHS = 20\n",
    "\n",
    "train_losses = []\n",
    "val_losses = []\n",
    "\n",
    "input_verbose = False\n"
   ]
  },
  {
   "cell_type": "code",
   "execution_count": 5,
   "metadata": {},
   "outputs": [
    {
     "name": "stdout",
     "output_type": "stream",
     "text": [
      "First epoch took 0.5 minutes.\n",
      "Epoch 1/20, Train_Loss: 550135.94, Avg: 6876.70; Val_Loss: 86504.26, Avg: 4325.21\n",
      "Epoch 2/20, Train_Loss: 541890.77, Avg: 6773.63; Val_Loss: 85395.43, Avg: 4269.77\n",
      "Epoch 3/20, Train_Loss: 538710.88, Avg: 6733.89; Val_Loss: 84931.03, Avg: 4246.55\n",
      "Epoch 4/20, Train_Loss: 539979.98, Avg: 6749.75; Val_Loss: 84834.62, Avg: 4241.73\n",
      "Epoch 5/20, Train_Loss: 538365.55, Avg: 6729.57; Val_Loss: 84724.68, Avg: 4236.23\n",
      "Epoch 6/20, Train_Loss: 536666.00, Avg: 6708.33; Val_Loss: 84630.51, Avg: 4231.53\n",
      "Epoch 7/20, Train_Loss: 536774.51, Avg: 6709.68; Val_Loss: 84572.38, Avg: 4228.62\n",
      "Epoch 8/20, Train_Loss: 537046.93, Avg: 6713.09; Val_Loss: 84556.88, Avg: 4227.84\n",
      "Epoch 9/20, Train_Loss: 534686.28, Avg: 6683.58; Val_Loss: 84690.50, Avg: 4234.52\n",
      "Epoch 10/20, Train_Loss: 534374.21, Avg: 6679.68; Val_Loss: 84318.42, Avg: 4215.92\n",
      "Epoch 11/20, Train_Loss: 536215.91, Avg: 6702.70; Val_Loss: 84471.35, Avg: 4223.57\n",
      "Epoch 12/20, Train_Loss: 533744.37, Avg: 6671.80; Val_Loss: 84478.76, Avg: 4223.94\n",
      "Epoch 13/20, Train_Loss: 534749.49, Avg: 6684.37; Val_Loss: 84123.41, Avg: 4206.17\n",
      "Epoch 14/20, Train_Loss: 531369.82, Avg: 6642.12; Val_Loss: 84156.41, Avg: 4207.82\n",
      "Epoch 15/20, Train_Loss: 533414.96, Avg: 6667.69; Val_Loss: 84009.28, Avg: 4200.46\n",
      "Epoch 16/20, Train_Loss: 533136.64, Avg: 6664.21; Val_Loss: 84242.75, Avg: 4212.14\n",
      "Epoch 17/20, Train_Loss: 529037.95, Avg: 6612.97; Val_Loss: 84000.61, Avg: 4200.03\n",
      "Epoch 18/20, Train_Loss: 532934.05, Avg: 6661.68; Val_Loss: 84069.26, Avg: 4203.46\n",
      "Epoch 19/20, Train_Loss: 532137.12, Avg: 6651.71; Val_Loss: 83980.69, Avg: 4199.03\n",
      "Epoch 20/20, Train_Loss: 531242.71, Avg: 6640.53; Val_Loss: 84442.80, Avg: 4222.14\n"
     ]
    }
   ],
   "source": [
    "start_time = time.time()\n",
    "\n",
    "for epoch in range(EPOCHS):\n",
    "    train_loss, avg_train_loss = train(model, train_loader, criterion, optimizer, device, verbose=input_verbose)\n",
    "    val_loss, avg_val_loss = evaluate(model, val_loader, criterion, device, verbose=input_verbose)\n",
    "    \n",
    "    # record the losses\n",
    "    train_losses.append(avg_train_loss)\n",
    "    val_losses.append(avg_val_loss)\n",
    "\n",
    "    # print every num times epoch only\n",
    "    num = 1\n",
    "    if ((epoch+1) % num == 0) or epoch == 0:\n",
    "        if epoch == 0:\n",
    "            time_took = (time.time() - start_time) / 60\n",
    "            print(f'First epoch took {time_took:.1f} minutes.')\n",
    "        print(f'Epoch {epoch+1}/{EPOCHS}, Train_Loss: {train_loss:.2f}, Avg: {avg_train_loss:.2f}; Val_Loss: {val_loss:.2f}, Avg: {avg_val_loss:.2f}')\n"
   ]
  },
  {
   "cell_type": "code",
   "execution_count": 6,
   "metadata": {},
   "outputs": [],
   "source": [
    "# save model if better or not exists\n",
    "model_weights = {'model_state_dict': model.state_dict(), 'val_loss': avg_val_loss}\n",
    "weights_file = '../models/save/CNN_basic_weights.pt'\n",
    "if not os.path.isfile(weights_file):\n",
    "    # save new\n",
    "    torch.save(model_weights, weights_file)\n",
    "elif model_weights['val_loss'] < torch.load(weights_file)['val_loss']:\n",
    "    # replace\n",
    "    torch.save(model_weights, weights_file)"
   ]
  },
  {
   "cell_type": "code",
   "execution_count": 7,
   "metadata": {},
   "outputs": [
    {
     "data": {
      "image/png": "[encoded data removed]",
      "text/plain": [
       "<Figure size 432x288 with 1 Axes>"
      ]
     },
     "metadata": {
      "needs_background": "light"
     },
     "output_type": "display_data"
    }
   ],
   "source": [
    "import matplotlib.pyplot as plt\n",
    "\n",
    "# lost plot\n",
    "plt.plot(train_losses, label='Training Loss')\n",
    "plt.plot(val_losses, label='Validation Loss')\n",
    "plt.xlabel('Epoch')\n",
    "plt.ylabel('Loss')\n",
    "plt.title('Training and Validation Loss')\n",
    "plt.legend()\n",
    "plt.show()"
   ]
  },
  {
   "cell_type": "code",
   "execution_count": 8,
   "metadata": {},
   "outputs": [],
   "source": [
    "# compare to validation set\n",
    "val_values = []\n",
    "predicted_values = []\n",
    "\n",
    "for inputs, targets in val_loader:\n",
    "    inputs, targets = inputs.to(torch.float32).to(device), targets.to(torch.float32).to(device)\n",
    "\n",
    "    # Forward pass\n",
    "    outputs = model(inputs)\n",
    "\n",
    "    # Append the values\n",
    "    val_values.extend(targets.tolist())\n",
    "    predicted_values.extend(outputs.tolist())"
   ]
  },
  {
   "cell_type": "code",
   "execution_count": 9,
   "metadata": {},
   "outputs": [
    {
     "data": {
      "image/png": "[encoded data removed]",
      "text/plain": [
       "<Figure size 432x288 with 1 Axes>"
      ]
     },
     "metadata": {
      "needs_background": "light"
     },
     "output_type": "display_data"
    }
   ],
   "source": [
    "import matplotlib.pyplot as plt\n",
    "\n",
    "plt.plot(val_values, label='Test Values')\n",
    "plt.plot(predicted_values, label='Predicted Values')\n",
    "plt.xlabel('Sample Index')\n",
    "plt.ylabel('Value')\n",
    "plt.title('Test vs Predicted Values')\n",
    "plt.legend()\n",
    "plt.show()"
   ]
  },
  {
   "cell_type": "code",
   "execution_count": 10,
   "metadata": {},
   "outputs": [
    {
     "name": "stdout",
     "output_type": "stream",
     "text": [
      "Test value: [462.3999938964844], Predicted Value: [1815.049560546875]\n",
      "Test value: [2100.0], Predicted Value: [2240.36279296875]\n",
      "Test value: [413.79998779296875], Predicted Value: [1678.043212890625]\n",
      "Test value: [855.7000122070312], Predicted Value: [1012.168212890625]\n",
      "Test value: [7500.0], Predicted Value: [1666.613525390625]\n",
      "Test value: [7100.0], Predicted Value: [1408.30859375]\n",
      "Test value: [3700.0], Predicted Value: [2241.27392578125]\n",
      "Test value: [1100.0], Predicted Value: [1711.52099609375]\n",
      "Test value: [10300.0], Predicted Value: [1873.9794921875]\n",
      "Test value: [9000.0], Predicted Value: [1721.4840087890625]\n",
      "Test value: [1400.0], Predicted Value: [114.49492645263672]\n",
      "Test value: [2200.0], Predicted Value: [2093.400634765625]\n",
      "Test value: [2000.0], Predicted Value: [523.9830322265625]\n",
      "Test value: [178.39999389648438], Predicted Value: [841.2239990234375]\n",
      "Test value: [1400.0], Predicted Value: [1889.18359375]\n",
      "Test value: [1500.0], Predicted Value: [1366.771240234375]\n",
      "Test value: [3700.0], Predicted Value: [3058.03515625]\n",
      "Test value: [4000.0], Predicted Value: [2143.17236328125]\n",
      "Test value: [589.0999755859375], Predicted Value: [1787.6026611328125]\n",
      "Test value: [13.199999809265137], Predicted Value: [199.89517211914062]\n",
      "Test value: [14800.0], Predicted Value: [1854.019287109375]\n",
      "Test value: [18.299999237060547], Predicted Value: [2654.57861328125]\n",
      "Test value: [10600.0], Predicted Value: [1227.5455322265625]\n",
      "Test value: [6800.0], Predicted Value: [2569.61865234375]\n",
      "Test value: [669.0999755859375], Predicted Value: [3227.792724609375]\n",
      "Test value: [99.0999984741211], Predicted Value: [2372.0185546875]\n",
      "Test value: [45.70000076293945], Predicted Value: [2753.755859375]\n",
      "Test value: [7610.0], Predicted Value: [3230.761962890625]\n",
      "Test value: [1300.0], Predicted Value: [765.9586181640625]\n",
      "Test value: [4700.0], Predicted Value: [855.831787109375]\n",
      "Test value: [3200.0], Predicted Value: [3907.853271484375]\n",
      "Test value: [8900.0], Predicted Value: [641.1326904296875]\n",
      "Test value: [14.600000381469727], Predicted Value: [2291.30908203125]\n",
      "Test value: [5200.0], Predicted Value: [965.84765625]\n",
      "Test value: [369.79998779296875], Predicted Value: [3838.87353515625]\n",
      "Test value: [2324.0], Predicted Value: [1255.758544921875]\n",
      "Test value: [626.9000244140625], Predicted Value: [887.3145141601562]\n",
      "Test value: [10.5], Predicted Value: [4083.95751953125]\n",
      "Test value: [1800.0], Predicted Value: [782.053466796875]\n",
      "Test value: [118.0], Predicted Value: [498.91888427734375]\n",
      "Test value: [4200.0], Predicted Value: [1057.47265625]\n",
      "Test value: [10.300000190734863], Predicted Value: [1823.063720703125]\n",
      "Test value: [2000.0], Predicted Value: [1556.6259765625]\n",
      "Test value: [2400.0], Predicted Value: [2578.068359375]\n",
      "Test value: [4600.0], Predicted Value: [1095.55859375]\n",
      "Test value: [6000.0], Predicted Value: [1924.615478515625]\n",
      "Test value: [3180.0], Predicted Value: [1950.7325439453125]\n",
      "Test value: [1900.0], Predicted Value: [2854.961669921875]\n",
      "Test value: [153.60000610351562], Predicted Value: [2753.158935546875]\n",
      "Test value: [514.2999877929688], Predicted Value: [3098.41064453125]\n",
      "Test value: [6245.0], Predicted Value: [2450.80615234375]\n",
      "Test value: [1100.0], Predicted Value: [1173.2197265625]\n",
      "Test value: [1700.0], Predicted Value: [1742.8251953125]\n",
      "Test value: [1300.0], Predicted Value: [545.072021484375]\n",
      "Test value: [319.79998779296875], Predicted Value: [2217.11328125]\n",
      "Test value: [1100.0], Predicted Value: [847.0403442382812]\n",
      "Test value: [285.70001220703125], Predicted Value: [184.1795654296875]\n",
      "Test value: [15100.0], Predicted Value: [793.4404907226562]\n",
      "Test value: [4900.0], Predicted Value: [2270.064697265625]\n",
      "Test value: [1000.0], Predicted Value: [1514.18603515625]\n",
      "Test value: [9925.0], Predicted Value: [3002.7958984375]\n",
      "Test value: [387.5], Predicted Value: [1854.899169921875]\n",
      "Test value: [85.9000015258789], Predicted Value: [1868.154052734375]\n",
      "Test value: [2200.0], Predicted Value: [3068.18017578125]\n",
      "Test value: [4100.0], Predicted Value: [2592.694580078125]\n",
      "Test value: [9400.0], Predicted Value: [2073.550048828125]\n",
      "Test value: [10.600000381469727], Predicted Value: [3073.20703125]\n",
      "Test value: [2500.0], Predicted Value: [1029.98193359375]\n",
      "Test value: [26.700000762939453], Predicted Value: [1458.764892578125]\n",
      "Test value: [179.1999969482422], Predicted Value: [1892.90380859375]\n",
      "Test value: [11400.0], Predicted Value: [995.269287109375]\n",
      "Test value: [70.0], Predicted Value: [1175.8359375]\n",
      "Test value: [133.3000030517578], Predicted Value: [2098.090576171875]\n",
      "Test value: [971.0], Predicted Value: [2680.435546875]\n",
      "Test value: [82500.0], Predicted Value: [417.27459716796875]\n",
      "Test value: [177.39999389648438], Predicted Value: [2098.2646484375]\n",
      "Test value: [1600.0], Predicted Value: [2678.486328125]\n",
      "Test value: [3000.0], Predicted Value: [3309.78759765625]\n",
      "Test value: [2300.0], Predicted Value: [2292.82177734375]\n",
      "Test value: [4000.0], Predicted Value: [2171.00341796875]\n",
      "Test value: [1900.0], Predicted Value: [2825.53955078125]\n",
      "Test value: [5700.0], Predicted Value: [2879.5634765625]\n",
      "Test value: [3200.0], Predicted Value: [1872.585205078125]\n",
      "Test value: [1800.0], Predicted Value: [2122.42724609375]\n",
      "Test value: [11500.0], Predicted Value: [2431.434814453125]\n",
      "Test value: [8800.0], Predicted Value: [4253.984375]\n",
      "Test value: [3200.0], Predicted Value: [2659.67138671875]\n",
      "Test value: [6542.0], Predicted Value: [2368.276611328125]\n",
      "Test value: [1200.0], Predicted Value: [2971.77783203125]\n",
      "Test value: [5000.0], Predicted Value: [3250.556640625]\n",
      "Test value: [19400.0], Predicted Value: [2460.56884765625]\n",
      "Test value: [12500.0], Predicted Value: [1668.15087890625]\n",
      "Test value: [959.7999877929688], Predicted Value: [3349.88232421875]\n",
      "Test value: [360.79998779296875], Predicted Value: [3662.942626953125]\n",
      "Test value: [1500.0], Predicted Value: [2074.721923828125]\n",
      "Test value: [470.5], Predicted Value: [2446.716796875]\n",
      "Test value: [12800.0], Predicted Value: [2248.761962890625]\n",
      "Test value: [1200.0], Predicted Value: [1881.2147216796875]\n",
      "Test value: [4400.0], Predicted Value: [3082.040283203125]\n",
      "Test value: [2500.0], Predicted Value: [3562.784912109375]\n",
      "Test value: [1900.0], Predicted Value: [2773.908203125]\n",
      "Test value: [5400.0], Predicted Value: [1667.1160888671875]\n",
      "Test value: [8500.0], Predicted Value: [2934.9912109375]\n",
      "Test value: [4600.0], Predicted Value: [1298.0634765625]\n",
      "Test value: [233.6999969482422], Predicted Value: [2626.234375]\n",
      "Test value: [18900.0], Predicted Value: [1162.3782958984375]\n",
      "Test value: [1500.0], Predicted Value: [2732.4833984375]\n",
      "Test value: [750.7999877929688], Predicted Value: [2271.5625]\n",
      "Test value: [8511.0], Predicted Value: [2006.56103515625]\n",
      "Test value: [6700.0], Predicted Value: [3237.18994140625]\n",
      "Test value: [40000.0], Predicted Value: [1248.3680419921875]\n",
      "Test value: [10.899999618530273], Predicted Value: [1049.003173828125]\n",
      "Test value: [5089.0], Predicted Value: [1105.376220703125]\n",
      "Test value: [69.9000015258789], Predicted Value: [2775.54736328125]\n",
      "Test value: [3000.0], Predicted Value: [1679.290771484375]\n",
      "Test value: [63.70000076293945], Predicted Value: [2906.0751953125]\n",
      "Test value: [18200.0], Predicted Value: [1652.9073486328125]\n",
      "Test value: [23300.0], Predicted Value: [1921.446044921875]\n",
      "Test value: [7200.0], Predicted Value: [1235.118896484375]\n",
      "Test value: [721.9000244140625], Predicted Value: [1003.709228515625]\n",
      "Test value: [1200.0], Predicted Value: [1974.675048828125]\n",
      "Test value: [220.3000030517578], Predicted Value: [2113.824951171875]\n",
      "Test value: [2100.0], Predicted Value: [2601.03564453125]\n",
      "Test value: [1600.0], Predicted Value: [2034.8265380859375]\n",
      "Test value: [1700.0], Predicted Value: [2738.21728515625]\n",
      "Test value: [9800.0], Predicted Value: [2206.443603515625]\n",
      "Test value: [9800.0], Predicted Value: [2860.191162109375]\n",
      "Test value: [233.39999389648438], Predicted Value: [1057.0296630859375]\n",
      "Test value: [3600.0], Predicted Value: [2560.1552734375]\n",
      "Test value: [4100.0], Predicted Value: [1724.507568359375]\n",
      "Test value: [604.7000122070312], Predicted Value: [874.0797119140625]\n",
      "Test value: [3885.0], Predicted Value: [1163.636962890625]\n",
      "Test value: [31500.0], Predicted Value: [2323.920166015625]\n",
      "Test value: [3200.0], Predicted Value: [2685.45068359375]\n",
      "Test value: [794.0999755859375], Predicted Value: [2422.650634765625]\n",
      "Test value: [5100.0], Predicted Value: [774.4528198242188]\n",
      "Test value: [2200.0], Predicted Value: [737.108642578125]\n",
      "Test value: [4300.0], Predicted Value: [2297.302490234375]\n",
      "Test value: [651.0], Predicted Value: [914.8115234375]\n",
      "Test value: [91.69999694824219], Predicted Value: [1752.58935546875]\n",
      "Test value: [1500.0], Predicted Value: [1612.9599609375]\n",
      "Test value: [67.0], Predicted Value: [354.01483154296875]\n",
      "Test value: [22600.0], Predicted Value: [933.1149291992188]\n",
      "Test value: [2100.0], Predicted Value: [3023.7841796875]\n",
      "Test value: [5700.0], Predicted Value: [2303.7734375]\n",
      "Test value: [14600.0], Predicted Value: [2543.16796875]\n",
      "Test value: [18.700000762939453], Predicted Value: [594.7098388671875]\n",
      "Test value: [2700.0], Predicted Value: [4668.390625]\n",
      "Test value: [55.0], Predicted Value: [2626.58740234375]\n",
      "Test value: [663.2999877929688], Predicted Value: [1208.073486328125]\n",
      "Test value: [906.0], Predicted Value: [391.3770751953125]\n",
      "Test value: [1100.0], Predicted Value: [622.23486328125]\n",
      "Test value: [944.5], Predicted Value: [2538.531494140625]\n",
      "Test value: [2900.0], Predicted Value: [600.8385009765625]\n",
      "Test value: [16400.0], Predicted Value: [2536.17626953125]\n",
      "Test value: [4600.0], Predicted Value: [306.33929443359375]\n",
      "Test value: [70700.0], Predicted Value: [1877.2598876953125]\n",
      "Test value: [79.80000305175781], Predicted Value: [1611.011474609375]\n",
      "Test value: [12100.0], Predicted Value: [2984.086181640625]\n",
      "Test value: [9300.0], Predicted Value: [1441.28466796875]\n",
      "Test value: [7000.0], Predicted Value: [1173.353515625]\n",
      "Test value: [19.0], Predicted Value: [2705.28515625]\n",
      "Test value: [3900.0], Predicted Value: [3107.72412109375]\n",
      "Test value: [3800.0], Predicted Value: [3372.524658203125]\n",
      "Test value: [19700.0], Predicted Value: [3033.04833984375]\n",
      "Test value: [5800.0], Predicted Value: [2689.1005859375]\n",
      "Test value: [2000.0], Predicted Value: [3484.830810546875]\n",
      "Test value: [549.7999877929688], Predicted Value: [3402.90576171875]\n",
      "Test value: [18700.0], Predicted Value: [3135.9169921875]\n",
      "Test value: [41.29999923706055], Predicted Value: [2258.75390625]\n",
      "Test value: [264.5], Predicted Value: [2717.21240234375]\n",
      "Test value: [3900.0], Predicted Value: [2781.954833984375]\n",
      "Test value: [104.5], Predicted Value: [3183.872802734375]\n",
      "Test value: [7700.0], Predicted Value: [860.6998291015625]\n",
      "Test value: [16.0], Predicted Value: [2157.20849609375]\n",
      "Test value: [5834.0], Predicted Value: [2720.57470703125]\n",
      "Test value: [3700.0], Predicted Value: [2570.65869140625]\n",
      "Test value: [313.6000061035156], Predicted Value: [1198.6849365234375]\n",
      "Test value: [2300.0], Predicted Value: [2288.146240234375]\n",
      "Test value: [13.300000190734863], Predicted Value: [3467.0107421875]\n",
      "Test value: [315.29998779296875], Predicted Value: [621.1824951171875]\n",
      "Test value: [25.5], Predicted Value: [995.652587890625]\n",
      "Test value: [2100.0], Predicted Value: [426.07940673828125]\n",
      "Test value: [1000.0], Predicted Value: [1506.23193359375]\n",
      "Test value: [4942.0], Predicted Value: [1690.779296875]\n",
      "Test value: [1700.0], Predicted Value: [761.8343505859375]\n",
      "Test value: [995.5], Predicted Value: [2637.272705078125]\n",
      "Test value: [3300.0], Predicted Value: [315.5754089355469]\n",
      "Test value: [114.9000015258789], Predicted Value: [1234.2410888671875]\n",
      "Test value: [239.10000610351562], Predicted Value: [1587.96240234375]\n",
      "Test value: [12.699999809265137], Predicted Value: [3034.5341796875]\n",
      "Test value: [6500.0], Predicted Value: [2967.84033203125]\n",
      "Test value: [196.1999969482422], Predicted Value: [2807.823486328125]\n",
      "Test value: [1100.0], Predicted Value: [1744.3505859375]\n",
      "Test value: [75.0999984741211], Predicted Value: [1933.36572265625]\n",
      "Test value: [1300.0], Predicted Value: [3423.6767578125]\n",
      "Test value: [370.29998779296875], Predicted Value: [3013.040771484375]\n",
      "Test value: [8947.0], Predicted Value: [2128.20703125]\n",
      "Test value: [5217.0], Predicted Value: [911.9169311523438]\n",
      "Test value: [38.70000076293945], Predicted Value: [47.56553649902344]\n"
     ]
    }
   ],
   "source": [
    "for i in range(len(predicted_values)):\n",
    "    print(f'Test value: {val_values[i]}, Predicted Value: {predicted_values[i]}')"
   ]
  },
  {
   "cell_type": "markdown",
   "metadata": {},
   "source": []
  },
  {
   "cell_type": "code",
   "execution_count": 11,
   "metadata": {},
   "outputs": [
    {
     "data": {
      "text/plain": [
       "4222.139679002762"
      ]
     },
     "execution_count": 11,
     "metadata": {},
     "output_type": "execute_result"
    }
   ],
   "source": [
    "import numpy as np\n",
    "\n",
    "model_mae = np.absolute(np.subtract(val_values, predicted_values)).mean()\n",
    "model_mae"
   ]
  },
  {
   "cell_type": "code",
   "execution_count": 12,
   "metadata": {},
   "outputs": [
    {
     "data": {
      "text/plain": [
       "6154.229260564041"
      ]
     },
     "execution_count": 12,
     "metadata": {},
     "output_type": "execute_result"
    }
   ],
   "source": [
    "training_targets = []\n",
    "for inputs, targets in train_loader:\n",
    "    training_targets.extend([i.item() for i in targets])\n",
    "\n",
    "training_targets = np.array(training_targets).reshape(-1, 1)\n",
    "training_mean_as_prediction = training_targets.mean()\n",
    "training_mean_as_predicted_values = [training_mean_as_prediction for i in range(len(predicted_values))]\n",
    "training_mean_mae = np.absolute(np.subtract(val_values, training_mean_as_predicted_values)).mean()\n",
    "training_mean_mae"
   ]
  },
  {
   "cell_type": "code",
   "execution_count": 13,
   "metadata": {},
   "outputs": [
    {
     "data": {
      "text/plain": [
       "True"
      ]
     },
     "execution_count": 13,
     "metadata": {},
     "output_type": "execute_result"
    }
   ],
   "source": [
    "model_mae < training_mean_mae"
   ]
  },
  {
   "cell_type": "code",
   "execution_count": null,
   "metadata": {},
   "outputs": [],
   "source": []
  }
 ],
 "metadata": {
  "kernelspec": {
   "display_name": "cs7643-a2",
   "language": "python",
   "name": "cs7643-a2"
  },
  "language_info": {
   "codemirror_mode": {
    "name": "ipython",
    "version": 3
   },
   "file_extension": ".py",
   "mimetype": "text/x-python",
   "name": "python",
   "nbconvert_exporter": "python",
   "pygments_lexer": "ipython3",
   "version": "3.9.16"
  }
 },
 "nbformat": 4,
 "nbformat_minor": 4
}

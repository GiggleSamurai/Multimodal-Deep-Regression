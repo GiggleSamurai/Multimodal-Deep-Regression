{
 "cells": [
  {
   "cell_type": "code",
   "execution_count": 1,
   "metadata": {},
   "outputs": [
    {
     "name": "stdout",
     "output_type": "stream",
     "text": [
      "You are using device: cpu\n"
     ]
    }
   ],
   "source": [
    "import torch\n",
    "import torch.nn as nn\n",
    "import torch.optim as optim\n",
    "from torch.utils.data import DataLoader, TensorDataset\n",
    "from tqdm import tqdm\n",
    "from sklearn.model_selection import train_test_split\n",
    "import os\n",
    "import random\n",
    "import time\n",
    "\n",
    "# Inside the /Multimodal-Deep-Regression/notebooks\n",
    "import sys\n",
    "sys.path.append(\"..\")\n",
    "\n",
    "from util.utilities import train, evaluate, get_device\n",
    "from util.data_utilities import get_base_tensor_directories, generate_batch, get_train_and_val_loader, process_data\n",
    "\n",
    "# import all the models from models module\n",
    "from models import CNN3D\n",
    "\n",
    "import warnings\n",
    "\n",
    "# disable pyav warning\n",
    "warnings.filterwarnings(\"ignore\", message=\"Accurate seek is not implemented for pyav backend\")\n",
    "\n",
    "device = get_device()"
   ]
  },
  {
   "cell_type": "code",
   "execution_count": 2,
   "metadata": {},
   "outputs": [],
   "source": [
    "process_data(\n",
    "    input_type='video_pack_1000', \n",
    "    # addition_parameters={'first_n_videos': 5}, \n",
    "    verbose=False,\n",
    "    device=get_device(),\n",
    "    skip_frames=True,\n",
    "    frames_to_skip=200,\n",
    "    # resize_tensors=True,\n",
    "    # uniform_frames=True,\n",
    "    # set_frame_count=15,\n",
    "    shrink=8,\n",
    "    # clean_dir=True\n",
    ")"
   ]
  },
  {
   "cell_type": "code",
   "execution_count": 3,
   "metadata": {},
   "outputs": [
    {
     "name": "stdout",
     "output_type": "stream",
     "text": [
      "You are using device: cpu\n",
      "torch.Size([3, 3, 128, 72])\n",
      "torch.Size([3, 2, 128, 72])\n",
      "27\n",
      "7\n"
     ]
    }
   ],
   "source": [
    "device = get_device()\n",
    "train_loader, val_loader = get_train_and_val_loader(\n",
    "    input_type='video_pack_1000',\n",
    "    batch_size=10,\n",
    "    verbose=True,\n",
    "    # tensor_upper_limit=95\n",
    ")"
   ]
  },
  {
   "cell_type": "code",
   "execution_count": 4,
   "metadata": {},
   "outputs": [
    {
     "name": "stdout",
     "output_type": "stream",
     "text": [
      "Total parameters: 415,951\n"
     ]
    }
   ],
   "source": [
    "model = CNN3D(\n",
    "    reduce_pool=8,\n",
    "    filters=15,\n",
    "    depth=30,\n",
    "    dropout_rate=0.1\n",
    ")\n",
    "criterion = nn.L1Loss()\n",
    "optimizer = optim.Adam(model.parameters(), lr=0.00001, weight_decay=0.9)\n",
    "model = model.to(device)\n",
    "\n",
    "total_params = sum(p.numel() for p in model.parameters() if p.requires_grad)\n",
    "print(f\"Total parameters: {total_params:,}\")\n",
    "\n",
    "EPOCHS = 20\n",
    "\n",
    "train_losses = []\n",
    "val_losses = []\n",
    "\n",
    "input_verbose = False\n"
   ]
  },
  {
   "cell_type": "code",
   "execution_count": 5,
   "metadata": {},
   "outputs": [
    {
     "name": "stdout",
     "output_type": "stream",
     "text": [
      "First epoch took 0.0 minutes.\n",
      "Epoch 1/20, Train_Loss: 16907.81, Avg: 5635.94; Val_Loss: 4326.19, Avg: 4326.19\n",
      "Epoch 2/20, Train_Loss: 17890.32, Avg: 5963.44; Val_Loss: 4180.35, Avg: 4180.35\n",
      "Epoch 3/20, Train_Loss: 16233.62, Avg: 5411.21; Val_Loss: 4037.60, Avg: 4037.60\n",
      "Epoch 4/20, Train_Loss: 16017.90, Avg: 5339.30; Val_Loss: 3912.25, Avg: 3912.25\n",
      "Epoch 5/20, Train_Loss: 16592.25, Avg: 5530.75; Val_Loss: 3855.77, Avg: 3855.77\n",
      "Epoch 6/20, Train_Loss: 14886.83, Avg: 4962.28; Val_Loss: 3886.19, Avg: 3886.19\n",
      "Epoch 7/20, Train_Loss: 16001.14, Avg: 5333.71; Val_Loss: 3917.85, Avg: 3917.85\n",
      "Epoch 8/20, Train_Loss: 14583.74, Avg: 4861.25; Val_Loss: 3948.50, Avg: 3948.50\n",
      "Epoch 9/20, Train_Loss: 16081.61, Avg: 5360.54; Val_Loss: 3976.13, Avg: 3976.13\n",
      "Epoch 10/20, Train_Loss: 14894.37, Avg: 4964.79; Val_Loss: 3998.77, Avg: 3998.77\n"
     ]
    },
    {
     "ename": "KeyboardInterrupt",
     "evalue": "",
     "output_type": "error",
     "traceback": [
      "\u001b[0;31m---------------------------------------------------------------------------\u001b[0m",
      "\u001b[0;31mKeyboardInterrupt\u001b[0m                         Traceback (most recent call last)",
      "\u001b[1;32m/Users/ahmedsalih/PycharmProjects/Multimodal-Deep-Regression/notebooks/the_CNN.ipynb Cell 5\u001b[0m in \u001b[0;36m<cell line: 3>\u001b[0;34m()\u001b[0m\n\u001b[1;32m      <a href='vscode-notebook-cell:/Users/ahmedsalih/PycharmProjects/Multimodal-Deep-Regression/notebooks/the_CNN.ipynb#W4sZmlsZQ%3D%3D?line=0'>1</a>\u001b[0m start_time \u001b[39m=\u001b[39m time\u001b[39m.\u001b[39mtime()\n\u001b[1;32m      <a href='vscode-notebook-cell:/Users/ahmedsalih/PycharmProjects/Multimodal-Deep-Regression/notebooks/the_CNN.ipynb#W4sZmlsZQ%3D%3D?line=2'>3</a>\u001b[0m \u001b[39mfor\u001b[39;00m epoch \u001b[39min\u001b[39;00m \u001b[39mrange\u001b[39m(EPOCHS):\n\u001b[0;32m----> <a href='vscode-notebook-cell:/Users/ahmedsalih/PycharmProjects/Multimodal-Deep-Regression/notebooks/the_CNN.ipynb#W4sZmlsZQ%3D%3D?line=3'>4</a>\u001b[0m     train_loss, avg_train_loss \u001b[39m=\u001b[39m train(model, train_loader, criterion, optimizer, device, verbose\u001b[39m=\u001b[39;49minput_verbose)\n\u001b[1;32m      <a href='vscode-notebook-cell:/Users/ahmedsalih/PycharmProjects/Multimodal-Deep-Regression/notebooks/the_CNN.ipynb#W4sZmlsZQ%3D%3D?line=4'>5</a>\u001b[0m     val_loss, avg_val_loss \u001b[39m=\u001b[39m evaluate(model, val_loader, criterion, device, verbose\u001b[39m=\u001b[39minput_verbose)\n\u001b[1;32m      <a href='vscode-notebook-cell:/Users/ahmedsalih/PycharmProjects/Multimodal-Deep-Regression/notebooks/the_CNN.ipynb#W4sZmlsZQ%3D%3D?line=6'>7</a>\u001b[0m     \u001b[39m# record the losses\u001b[39;00m\n",
      "File \u001b[0;32m~/PycharmProjects/Multimodal-Deep-Regression/notebooks/../util/utilities.py:30\u001b[0m, in \u001b[0;36mtrain\u001b[0;34m(model, dataloader, criterion, optimizer, device, verbose, argmax_target)\u001b[0m\n\u001b[1;32m     28\u001b[0m \u001b[39m# backward pass and optimization\u001b[39;00m\n\u001b[1;32m     29\u001b[0m optimizer\u001b[39m.\u001b[39mzero_grad()\n\u001b[0;32m---> 30\u001b[0m loss\u001b[39m.\u001b[39;49mbackward()\n\u001b[1;32m     31\u001b[0m optimizer\u001b[39m.\u001b[39mstep()\n\u001b[1;32m     32\u001b[0m total_loss \u001b[39m+\u001b[39m\u001b[39m=\u001b[39m loss\u001b[39m.\u001b[39mitem()\n",
      "File \u001b[0;32m~/anaconda3/envs/cs7643-a2/lib/python3.9/site-packages/torch/_tensor.py:487\u001b[0m, in \u001b[0;36mTensor.backward\u001b[0;34m(self, gradient, retain_graph, create_graph, inputs)\u001b[0m\n\u001b[1;32m    477\u001b[0m \u001b[39mif\u001b[39;00m has_torch_function_unary(\u001b[39mself\u001b[39m):\n\u001b[1;32m    478\u001b[0m     \u001b[39mreturn\u001b[39;00m handle_torch_function(\n\u001b[1;32m    479\u001b[0m         Tensor\u001b[39m.\u001b[39mbackward,\n\u001b[1;32m    480\u001b[0m         (\u001b[39mself\u001b[39m,),\n\u001b[0;32m   (...)\u001b[0m\n\u001b[1;32m    485\u001b[0m         inputs\u001b[39m=\u001b[39minputs,\n\u001b[1;32m    486\u001b[0m     )\n\u001b[0;32m--> 487\u001b[0m torch\u001b[39m.\u001b[39;49mautograd\u001b[39m.\u001b[39;49mbackward(\n\u001b[1;32m    488\u001b[0m     \u001b[39mself\u001b[39;49m, gradient, retain_graph, create_graph, inputs\u001b[39m=\u001b[39;49minputs\n\u001b[1;32m    489\u001b[0m )\n",
      "File \u001b[0;32m~/anaconda3/envs/cs7643-a2/lib/python3.9/site-packages/torch/autograd/__init__.py:200\u001b[0m, in \u001b[0;36mbackward\u001b[0;34m(tensors, grad_tensors, retain_graph, create_graph, grad_variables, inputs)\u001b[0m\n\u001b[1;32m    195\u001b[0m     retain_graph \u001b[39m=\u001b[39m create_graph\n\u001b[1;32m    197\u001b[0m \u001b[39m# The reason we repeat same the comment below is that\u001b[39;00m\n\u001b[1;32m    198\u001b[0m \u001b[39m# some Python versions print out the first line of a multi-line function\u001b[39;00m\n\u001b[1;32m    199\u001b[0m \u001b[39m# calls in the traceback and some print out the last line\u001b[39;00m\n\u001b[0;32m--> 200\u001b[0m Variable\u001b[39m.\u001b[39;49m_execution_engine\u001b[39m.\u001b[39;49mrun_backward(  \u001b[39m# Calls into the C++ engine to run the backward pass\u001b[39;49;00m\n\u001b[1;32m    201\u001b[0m     tensors, grad_tensors_, retain_graph, create_graph, inputs,\n\u001b[1;32m    202\u001b[0m     allow_unreachable\u001b[39m=\u001b[39;49m\u001b[39mTrue\u001b[39;49;00m, accumulate_grad\u001b[39m=\u001b[39;49m\u001b[39mTrue\u001b[39;49;00m)\n",
      "\u001b[0;31mKeyboardInterrupt\u001b[0m: "
     ]
    }
   ],
   "source": [
    "start_time = time.time()\n",
    "\n",
    "for epoch in range(EPOCHS):\n",
    "    train_loss, avg_train_loss = train(model, train_loader, criterion, optimizer, device, verbose=input_verbose)\n",
    "    val_loss, avg_val_loss = evaluate(model, val_loader, criterion, device, verbose=input_verbose)\n",
    "    \n",
    "    # record the losses\n",
    "    train_losses.append(avg_train_loss)\n",
    "    val_losses.append(avg_val_loss)\n",
    "\n",
    "    # print every num times epoch only\n",
    "    num = 1\n",
    "    if ((epoch+1) % num == 0) or epoch == 0:\n",
    "        if epoch == 0:\n",
    "            time_took = (time.time() - start_time) / 60\n",
    "            print(f'First epoch took {time_took:.1f} minutes.')\n",
    "        print(f'Epoch {epoch+1}/{EPOCHS}, Train_Loss: {train_loss:.2f}, Avg: {avg_train_loss:.2f}; Val_Loss: {val_loss:.2f}, Avg: {avg_val_loss:.2f}')\n"
   ]
  },
  {
   "cell_type": "code",
   "execution_count": null,
   "metadata": {},
   "outputs": [],
   "source": [
    "# save model if better or not exists\n",
    "model_weights = {'model_state_dict': model.state_dict(), 'val_loss': avg_val_loss}\n",
    "weights_file = '../models/save/CNN_basic_weights.pt'\n",
    "if not os.path.isfile(weights_file):\n",
    "    # save new\n",
    "    torch.save(model_weights, weights_file)\n",
    "elif model_weights['val_loss'] < torch.load(weights_file)['val_loss']:\n",
    "    # replace\n",
    "    torch.save(model_weights, weights_file)"
   ]
  },
  {
   "cell_type": "code",
   "execution_count": null,
   "metadata": {},
   "outputs": [
    {
     "data": {
      "image/png": "[encoded data removed]",
      "text/plain": [
       "<Figure size 432x288 with 1 Axes>"
      ]
     },
     "metadata": {
      "needs_background": "light"
     },
     "output_type": "display_data"
    }
   ],
   "source": [
    "import matplotlib.pyplot as plt\n",
    "\n",
    "# lost plot\n",
    "plt.plot(train_losses, label='Training Loss')\n",
    "plt.plot(val_losses, label='Validation Loss')\n",
    "plt.xlabel('Epoch')\n",
    "plt.ylabel('Loss')\n",
    "plt.title('Training and Validation Loss')\n",
    "plt.legend()\n",
    "plt.show()"
   ]
  },
  {
   "cell_type": "code",
   "execution_count": null,
   "metadata": {},
   "outputs": [],
   "source": [
    "# compare to validation set\n",
    "val_values = []\n",
    "predicted_values = []\n",
    "\n",
    "for inputs, targets in val_loader:\n",
    "    inputs, targets = inputs.to(torch.float32).to(device), targets.to(torch.float32).to(device)\n",
    "\n",
    "    # Forward pass\n",
    "    outputs = model(inputs)\n",
    "\n",
    "    # Append the values\n",
    "    val_values.extend(targets.tolist())\n",
    "    predicted_values.extend(outputs.tolist())"
   ]
  },
  {
   "cell_type": "code",
   "execution_count": null,
   "metadata": {},
   "outputs": [
    {
     "data": {
      "image/png": "[encoded data removed]",
      "text/plain": [
       "<Figure size 432x288 with 1 Axes>"
      ]
     },
     "metadata": {
      "needs_background": "light"
     },
     "output_type": "display_data"
    }
   ],
   "source": [
    "import matplotlib.pyplot as plt\n",
    "\n",
    "plt.plot(val_values, label='Test Values')\n",
    "plt.plot(predicted_values, label='Predicted Values')\n",
    "plt.xlabel('Sample Index')\n",
    "plt.ylabel('Value')\n",
    "plt.title('Test vs Predicted Values')\n",
    "plt.legend()\n",
    "plt.show()"
   ]
  },
  {
   "cell_type": "code",
   "execution_count": null,
   "metadata": {},
   "outputs": [
    {
     "name": "stdout",
     "output_type": "stream",
     "text": [
      "Test value: [462.3999938964844], Predicted Value: [1722.517822265625]\n",
      "Test value: [2100.0], Predicted Value: [2082.352294921875]\n",
      "Test value: [413.79998779296875], Predicted Value: [1617.6123046875]\n",
      "Test value: [855.7000122070312], Predicted Value: [1070.035888671875]\n",
      "Test value: [7500.0], Predicted Value: [1455.407470703125]\n",
      "Test value: [7100.0], Predicted Value: [1575.741943359375]\n",
      "Test value: [3700.0], Predicted Value: [2538.443115234375]\n",
      "Test value: [1100.0], Predicted Value: [1712.4156494140625]\n",
      "Test value: [10300.0], Predicted Value: [2055.00341796875]\n",
      "Test value: [9000.0], Predicted Value: [1581.508544921875]\n",
      "Test value: [1400.0], Predicted Value: [130.95977783203125]\n",
      "Test value: [2200.0], Predicted Value: [2047.54638671875]\n",
      "Test value: [2000.0], Predicted Value: [555.6864013671875]\n",
      "Test value: [178.39999389648438], Predicted Value: [808.3036499023438]\n",
      "Test value: [1400.0], Predicted Value: [1936.156494140625]\n",
      "Test value: [1500.0], Predicted Value: [1435.4765625]\n",
      "Test value: [3700.0], Predicted Value: [3417.10009765625]\n",
      "Test value: [4000.0], Predicted Value: [2293.842529296875]\n",
      "Test value: [589.0999755859375], Predicted Value: [1823.8758544921875]\n",
      "Test value: [13.199999809265137], Predicted Value: [206.5746612548828]\n",
      "Test value: [14800.0], Predicted Value: [1833.316650390625]\n",
      "Test value: [18.299999237060547], Predicted Value: [2622.022705078125]\n",
      "Test value: [10600.0], Predicted Value: [1342.715576171875]\n",
      "Test value: [6800.0], Predicted Value: [2540.78369140625]\n",
      "Test value: [669.0999755859375], Predicted Value: [3273.23974609375]\n",
      "Test value: [99.0999984741211], Predicted Value: [2186.029052734375]\n",
      "Test value: [45.70000076293945], Predicted Value: [2638.2646484375]\n",
      "Test value: [7610.0], Predicted Value: [3248.52490234375]\n",
      "Test value: [1300.0], Predicted Value: [798.226318359375]\n",
      "Test value: [4700.0], Predicted Value: [940.2779541015625]\n",
      "Test value: [3200.0], Predicted Value: [4043.56591796875]\n",
      "Test value: [8900.0], Predicted Value: [655.4747314453125]\n",
      "Test value: [14.600000381469727], Predicted Value: [2463.15673828125]\n",
      "Test value: [5200.0], Predicted Value: [965.8486328125]\n",
      "Test value: [369.79998779296875], Predicted Value: [3840.669921875]\n",
      "Test value: [2324.0], Predicted Value: [1374.3768310546875]\n",
      "Test value: [626.9000244140625], Predicted Value: [937.5879516601562]\n",
      "Test value: [10.5], Predicted Value: [4359.5009765625]\n",
      "Test value: [1800.0], Predicted Value: [845.6705322265625]\n",
      "Test value: [118.0], Predicted Value: [592.4095458984375]\n",
      "Test value: [4200.0], Predicted Value: [1067.7928466796875]\n",
      "Test value: [10.300000190734863], Predicted Value: [1806.13232421875]\n",
      "Test value: [2000.0], Predicted Value: [1647.855712890625]\n",
      "Test value: [2400.0], Predicted Value: [2524.48828125]\n",
      "Test value: [4600.0], Predicted Value: [1179.385986328125]\n",
      "Test value: [6000.0], Predicted Value: [1925.481689453125]\n",
      "Test value: [3180.0], Predicted Value: [1778.23779296875]\n",
      "Test value: [1900.0], Predicted Value: [2779.17333984375]\n",
      "Test value: [153.60000610351562], Predicted Value: [2676.884765625]\n",
      "Test value: [514.2999877929688], Predicted Value: [3163.91552734375]\n",
      "Test value: [6245.0], Predicted Value: [2456.337890625]\n",
      "Test value: [1100.0], Predicted Value: [1193.62744140625]\n",
      "Test value: [1700.0], Predicted Value: [1774.90380859375]\n",
      "Test value: [1300.0], Predicted Value: [578.626953125]\n",
      "Test value: [319.79998779296875], Predicted Value: [2141.172607421875]\n",
      "Test value: [1100.0], Predicted Value: [740.8207397460938]\n",
      "Test value: [285.70001220703125], Predicted Value: [207.03091430664062]\n",
      "Test value: [15100.0], Predicted Value: [831.286865234375]\n",
      "Test value: [4900.0], Predicted Value: [2262.674072265625]\n",
      "Test value: [1000.0], Predicted Value: [1570.175048828125]\n",
      "Test value: [9925.0], Predicted Value: [2907.376953125]\n",
      "Test value: [387.5], Predicted Value: [1932.704833984375]\n",
      "Test value: [85.9000015258789], Predicted Value: [1882.78955078125]\n",
      "Test value: [2200.0], Predicted Value: [2748.072998046875]\n",
      "Test value: [4100.0], Predicted Value: [2201.408203125]\n",
      "Test value: [9400.0], Predicted Value: [2040.3232421875]\n",
      "Test value: [10.600000381469727], Predicted Value: [3153.192626953125]\n",
      "Test value: [2500.0], Predicted Value: [1025.556396484375]\n",
      "Test value: [26.700000762939453], Predicted Value: [1606.739990234375]\n",
      "Test value: [179.1999969482422], Predicted Value: [1474.6025390625]\n",
      "Test value: [11400.0], Predicted Value: [995.7689208984375]\n",
      "Test value: [70.0], Predicted Value: [1360.25537109375]\n",
      "Test value: [133.3000030517578], Predicted Value: [1950.7637939453125]\n",
      "Test value: [971.0], Predicted Value: [2583.51416015625]\n",
      "Test value: [82500.0], Predicted Value: [460.4798583984375]\n",
      "Test value: [177.39999389648438], Predicted Value: [2037.6256103515625]\n",
      "Test value: [1600.0], Predicted Value: [2538.09814453125]\n",
      "Test value: [3000.0], Predicted Value: [3387.876953125]\n",
      "Test value: [2300.0], Predicted Value: [2237.5107421875]\n",
      "Test value: [4000.0], Predicted Value: [2026.35302734375]\n",
      "Test value: [1900.0], Predicted Value: [2751.585693359375]\n",
      "Test value: [5700.0], Predicted Value: [2632.92822265625]\n",
      "Test value: [3200.0], Predicted Value: [1717.89599609375]\n",
      "Test value: [1800.0], Predicted Value: [2021.3746337890625]\n",
      "Test value: [11500.0], Predicted Value: [2027.062255859375]\n",
      "Test value: [8800.0], Predicted Value: [3714.17724609375]\n",
      "Test value: [3200.0], Predicted Value: [2227.9912109375]\n",
      "Test value: [6542.0], Predicted Value: [2318.857421875]\n",
      "Test value: [1200.0], Predicted Value: [2711.8486328125]\n",
      "Test value: [5000.0], Predicted Value: [2895.626708984375]\n",
      "Test value: [19400.0], Predicted Value: [2088.290771484375]\n",
      "Test value: [12500.0], Predicted Value: [1798.667724609375]\n",
      "Test value: [959.7999877929688], Predicted Value: [3602.154296875]\n",
      "Test value: [360.79998779296875], Predicted Value: [3889.95263671875]\n",
      "Test value: [1500.0], Predicted Value: [1977.2518310546875]\n",
      "Test value: [470.5], Predicted Value: [2174.604736328125]\n",
      "Test value: [12800.0], Predicted Value: [2104.963623046875]\n",
      "Test value: [1200.0], Predicted Value: [1487.77099609375]\n",
      "Test value: [4400.0], Predicted Value: [3102.603271484375]\n",
      "Test value: [2500.0], Predicted Value: [3784.888916015625]\n",
      "Test value: [1900.0], Predicted Value: [2736.791748046875]\n",
      "Test value: [5400.0], Predicted Value: [1470.788818359375]\n",
      "Test value: [8500.0], Predicted Value: [3151.117431640625]\n",
      "Test value: [4600.0], Predicted Value: [1377.24853515625]\n",
      "Test value: [233.6999969482422], Predicted Value: [2460.471923828125]\n",
      "Test value: [18900.0], Predicted Value: [1189.5299072265625]\n",
      "Test value: [1500.0], Predicted Value: [2565.291015625]\n",
      "Test value: [750.7999877929688], Predicted Value: [2074.54931640625]\n",
      "Test value: [8511.0], Predicted Value: [1875.412353515625]\n",
      "Test value: [6700.0], Predicted Value: [2896.52978515625]\n",
      "Test value: [40000.0], Predicted Value: [1107.12109375]\n",
      "Test value: [10.899999618530273], Predicted Value: [1127.1533203125]\n",
      "Test value: [5089.0], Predicted Value: [1180.315185546875]\n",
      "Test value: [69.9000015258789], Predicted Value: [2779.00927734375]\n",
      "Test value: [3000.0], Predicted Value: [1696.571533203125]\n",
      "Test value: [63.70000076293945], Predicted Value: [2717.479248046875]\n",
      "Test value: [18200.0], Predicted Value: [1724.5357666015625]\n",
      "Test value: [23300.0], Predicted Value: [1900.607177734375]\n",
      "Test value: [7200.0], Predicted Value: [1225.49609375]\n",
      "Test value: [721.9000244140625], Predicted Value: [1022.8419189453125]\n",
      "Test value: [1200.0], Predicted Value: [2057.8095703125]\n",
      "Test value: [220.3000030517578], Predicted Value: [2201.67822265625]\n",
      "Test value: [2100.0], Predicted Value: [2384.0693359375]\n",
      "Test value: [1600.0], Predicted Value: [2151.223388671875]\n",
      "Test value: [1700.0], Predicted Value: [2603.1005859375]\n",
      "Test value: [9800.0], Predicted Value: [1970.1658935546875]\n",
      "Test value: [9800.0], Predicted Value: [2685.19287109375]\n",
      "Test value: [233.39999389648438], Predicted Value: [1001.40625]\n",
      "Test value: [3600.0], Predicted Value: [2476.955078125]\n",
      "Test value: [4100.0], Predicted Value: [1638.7603759765625]\n",
      "Test value: [604.7000122070312], Predicted Value: [915.6510009765625]\n",
      "Test value: [3885.0], Predicted Value: [1111.5875244140625]\n",
      "Test value: [31500.0], Predicted Value: [2255.064697265625]\n",
      "Test value: [3200.0], Predicted Value: [2524.1630859375]\n",
      "Test value: [794.0999755859375], Predicted Value: [2292.205078125]\n",
      "Test value: [5100.0], Predicted Value: [843.3619384765625]\n",
      "Test value: [2200.0], Predicted Value: [700.385009765625]\n",
      "Test value: [4300.0], Predicted Value: [2402.26318359375]\n",
      "Test value: [651.0], Predicted Value: [1002.9720458984375]\n",
      "Test value: [91.69999694824219], Predicted Value: [1777.52880859375]\n",
      "Test value: [1500.0], Predicted Value: [1621.297607421875]\n",
      "Test value: [67.0], Predicted Value: [385.0462646484375]\n",
      "Test value: [22600.0], Predicted Value: [994.0311279296875]\n",
      "Test value: [2100.0], Predicted Value: [3058.521728515625]\n",
      "Test value: [5700.0], Predicted Value: [2182.84228515625]\n",
      "Test value: [14600.0], Predicted Value: [2705.228515625]\n",
      "Test value: [18.700000762939453], Predicted Value: [632.1995849609375]\n",
      "Test value: [2700.0], Predicted Value: [4695.16259765625]\n",
      "Test value: [55.0], Predicted Value: [2672.931640625]\n",
      "Test value: [663.2999877929688], Predicted Value: [1273.26611328125]\n",
      "Test value: [906.0], Predicted Value: [404.29437255859375]\n",
      "Test value: [1100.0], Predicted Value: [566.267822265625]\n",
      "Test value: [944.5], Predicted Value: [2595.220947265625]\n",
      "Test value: [2900.0], Predicted Value: [547.9686889648438]\n",
      "Test value: [16400.0], Predicted Value: [2588.77734375]\n",
      "Test value: [4600.0], Predicted Value: [330.5838623046875]\n",
      "Test value: [70700.0], Predicted Value: [1839.355224609375]\n",
      "Test value: [79.80000305175781], Predicted Value: [1680.2109375]\n",
      "Test value: [12100.0], Predicted Value: [3122.52392578125]\n",
      "Test value: [9300.0], Predicted Value: [1476.6708984375]\n",
      "Test value: [7000.0], Predicted Value: [1105.4493408203125]\n",
      "Test value: [19.0], Predicted Value: [2816.41943359375]\n",
      "Test value: [3900.0], Predicted Value: [3133.68701171875]\n",
      "Test value: [3800.0], Predicted Value: [3233.37939453125]\n",
      "Test value: [19700.0], Predicted Value: [2881.32470703125]\n",
      "Test value: [5800.0], Predicted Value: [2881.2060546875]\n",
      "Test value: [2000.0], Predicted Value: [3600.5791015625]\n",
      "Test value: [549.7999877929688], Predicted Value: [3486.5244140625]\n",
      "Test value: [18700.0], Predicted Value: [2785.73095703125]\n",
      "Test value: [41.29999923706055], Predicted Value: [2061.97998046875]\n",
      "Test value: [264.5], Predicted Value: [2820.896484375]\n",
      "Test value: [3900.0], Predicted Value: [2613.42529296875]\n",
      "Test value: [104.5], Predicted Value: [3331.82421875]\n",
      "Test value: [7700.0], Predicted Value: [645.8820190429688]\n",
      "Test value: [16.0], Predicted Value: [2042.36962890625]\n",
      "Test value: [5834.0], Predicted Value: [2808.69677734375]\n",
      "Test value: [3700.0], Predicted Value: [2375.198486328125]\n",
      "Test value: [313.6000061035156], Predicted Value: [1271.525634765625]\n",
      "Test value: [2300.0], Predicted Value: [2109.0498046875]\n",
      "Test value: [13.300000190734863], Predicted Value: [3807.68212890625]\n",
      "Test value: [315.29998779296875], Predicted Value: [650.2752685546875]\n",
      "Test value: [25.5], Predicted Value: [1022.2277221679688]\n",
      "Test value: [2100.0], Predicted Value: [456.45050048828125]\n",
      "Test value: [1000.0], Predicted Value: [1501.644775390625]\n",
      "Test value: [4942.0], Predicted Value: [1735.90576171875]\n",
      "Test value: [1700.0], Predicted Value: [696.1612548828125]\n",
      "Test value: [995.5], Predicted Value: [2372.5458984375]\n",
      "Test value: [3300.0], Predicted Value: [331.70184326171875]\n",
      "Test value: [114.9000015258789], Predicted Value: [1246.711181640625]\n",
      "Test value: [239.10000610351562], Predicted Value: [1599.966796875]\n",
      "Test value: [12.699999809265137], Predicted Value: [3136.46044921875]\n",
      "Test value: [6500.0], Predicted Value: [3055.9951171875]\n",
      "Test value: [196.1999969482422], Predicted Value: [2638.50537109375]\n",
      "Test value: [1100.0], Predicted Value: [1582.086181640625]\n",
      "Test value: [75.0999984741211], Predicted Value: [1842.2467041015625]\n",
      "Test value: [1300.0], Predicted Value: [3356.0458984375]\n",
      "Test value: [370.29998779296875], Predicted Value: [3127.85595703125]\n",
      "Test value: [8947.0], Predicted Value: [2044.6605224609375]\n",
      "Test value: [5217.0], Predicted Value: [830.2520751953125]\n",
      "Test value: [38.70000076293945], Predicted Value: [50.325965881347656]\n"
     ]
    }
   ],
   "source": [
    "for i in range(len(predicted_values)):\n",
    "    print(f'Test value: {val_values[i]}, Predicted Value: {predicted_values[i]}')"
   ]
  },
  {
   "cell_type": "markdown",
   "metadata": {},
   "source": []
  },
  {
   "cell_type": "code",
   "execution_count": null,
   "metadata": {},
   "outputs": [],
   "source": [
    "import numpy as np\n",
    "\n",
    "model_mae = np.absolute(np.subtract(val_values, predicted_values)).mean()\n",
    "model_mae"
   ]
  },
  {
   "cell_type": "code",
   "execution_count": null,
   "metadata": {},
   "outputs": [],
   "source": [
    "training_targets = []\n",
    "for inputs, targets in train_loader:\n",
    "    training_targets.extend([i.item() for i in targets])\n",
    "\n",
    "training_targets = np.array(training_targets).reshape(-1, 1)\n",
    "training_mean_as_prediction = training_targets.mean()\n",
    "training_mean_as_predicted_values = [training_mean_as_prediction for i in range(len(predicted_values))]\n",
    "training_mean_mae = np.absolute(np.subtract(val_values, training_mean_as_predicted_values)).mean()\n",
    "training_mean_mae"
   ]
  },
  {
   "cell_type": "code",
   "execution_count": null,
   "metadata": {},
   "outputs": [],
   "source": [
    "model_mae < training_mean_mae"
   ]
  },
  {
   "cell_type": "code",
   "execution_count": null,
   "metadata": {},
   "outputs": [],
   "source": []
  }
 ],
 "metadata": {
  "kernelspec": {
   "display_name": "cs7643-a2",
   "language": "python",
   "name": "cs7643-a2"
  },
  "language_info": {
   "codemirror_mode": {
    "name": "ipython",
    "version": 3
   },
   "file_extension": ".py",
   "mimetype": "text/x-python",
   "name": "python",
   "nbconvert_exporter": "python",
   "pygments_lexer": "ipython3",
   "version": "3.9.16"
  }
 },
 "nbformat": 4,
 "nbformat_minor": 4
}

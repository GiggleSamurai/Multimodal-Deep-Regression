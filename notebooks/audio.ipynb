{
 "cells": [
  {
   "cell_type": "code",
   "execution_count": 1,
   "metadata": {},
   "outputs": [],
   "source": [
    "import whisper\n",
    "import numpy\n",
    "import torch\n",
    "\n",
    "\n",
    "# Inside the /Multimodal-Deep-Regression/notebooks\n",
    "import sys\n",
    "sys.path.append(\"..\")\n",
    "\n",
    "from util.audio_utilities import extract_embeddings, extract_audio"
   ]
  },
  {
   "cell_type": "markdown",
   "metadata": {},
   "source": [
    "**Prerequisites**. \n",
    "In new python env:\n",
    "1. Run `pip install git+git://github.com/isaacOnline/whisper.git@extract-embeddings`. Forked version of whisper is required for embeddings extraction.\n",
    "2. Install libraries in `requirements_audio.txt`\n",
    "3. Download [ffmpeg](https://ffmpeg.org/download.html) and add ffmpeg to PATH\n",
    "   - Or:\n",
    "      ```\n",
    "      # on Ubuntu or Debian\n",
    "      sudo apt update && sudo apt install ffmpeg\n",
    "\n",
    "      # on Arch Linux\n",
    "      sudo pacman -S ffmpeg\n",
    "\n",
    "      # on MacOS using Homebrew (https://brew.sh/)\n",
    "      brew install ffmpeg\n",
    "\n",
    "      # on Windows using Chocolatey (https://chocolatey.org/)\n",
    "      choco install ffmpeg\n",
    "\n",
    "      # on Windows using Scoop (https://scoop.sh/)\n",
    "      scoop install ffmpeg\n",
    "      ```"
   ]
  },
  {
   "cell_type": "code",
   "execution_count": 2,
   "metadata": {},
   "outputs": [],
   "source": [
    "# extract_audio(\"../data/video_pack_1000/\", \"../data/audio/\")"
   ]
  },
  {
   "cell_type": "code",
   "execution_count": 2,
   "metadata": {},
   "outputs": [
    {
     "name": "stdout",
     "output_type": "stream",
     "text": [
      "Error extracting embeddings for 7155098360444210437.\n",
      "local variable 'encoder_embeddings' referenced before assignment\n"
     ]
    }
   ],
   "source": [
    "# Assumes audio has been extracted from videos in data/audio/ dir\n",
    "extract_embeddings(audio_file_path=\"../data/audio/\", output_dir=\"../data/audio_embeddings/\")\n"
   ]
  }
 ],
 "metadata": {
  "kernelspec": {
   "display_name": "cuda11.8",
   "language": "python",
   "name": "gpu_env2"
  },
  "language_info": {
   "codemirror_mode": {
    "name": "ipython",
    "version": 3
   },
   "file_extension": ".py",
   "mimetype": "text/x-python",
   "name": "python",
   "nbconvert_exporter": "python",
   "pygments_lexer": "ipython3",
   "version": "3.8.17"
  },
  "orig_nbformat": 4
 },
 "nbformat": 4,
 "nbformat_minor": 2
}
